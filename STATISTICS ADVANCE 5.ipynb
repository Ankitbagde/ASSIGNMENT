{
 "cells": [
  {
   "cell_type": "code",
   "execution_count": null,
   "id": "bcfca7e2",
   "metadata": {},
   "outputs": [],
   "source": [
    "Q1. Calculate the 95% confidence interval for a sample of data with a mean of 50 and a standard deviation\n",
    "of 5 using Python. Interpret the results."
   ]
  },
  {
   "cell_type": "code",
   "execution_count": null,
   "id": "5f61f80f",
   "metadata": {},
   "outputs": [],
   "source": [
    " To calculate the 95% confidence interval for a sample of data\n",
    " with a mean of 50 and a standard deviation of 5 using Python, you can use the following code:\n",
    "Interpretation:\n",
    "We are 95% confident that the true population mean falls between 48.02 and 51.98. \n",
    "This means that if we were to repeatedly take random samples from the population and calculate their confidence intervals,\n",
    "95% of the intervals would contain the true population mean and 5% would not."
   ]
  },
  {
   "cell_type": "code",
   "execution_count": 1,
   "id": "da00feed",
   "metadata": {},
   "outputs": [
    {
     "name": "stdout",
     "output_type": "stream",
     "text": [
      "The 95% confidence interval is: (49.02001800772997, 50.97998199227003)\n"
     ]
    }
   ],
   "source": [
    "import scipy.stats as stats\n",
    "\n",
    "# Set the sample mean, standard deviation, sample size, and confidence level\n",
    "mean = 50\n",
    "std_dev = 5\n",
    "n = 100\n",
    "conf_level = 0.95\n",
    "\n",
    "# Calculate the standard error\n",
    "std_err = std_dev / (n ** 0.5)\n",
    "\n",
    "# Calculate the confidence interval\n",
    "ci = stats.norm.interval(conf_level, loc=mean, scale=std_err)\n",
    "\n",
    "print(\"The 95% confidence interval is:\", ci)\n"
   ]
  },
  {
   "cell_type": "code",
   "execution_count": null,
   "id": "bc663b19",
   "metadata": {},
   "outputs": [],
   "source": [
    "Q2. Conduct a chi-square goodness of fit test to determine if the distribution of colors of M&Ms in a bag\n",
    "matches the expected distribution of 20% blue, 20% orange, 20% green, 10% yellow, 10% red, and 20%\n",
    "brown. Use Python to perform the test with a significance level of 0.05."
   ]
  },
  {
   "cell_type": "code",
   "execution_count": null,
   "id": "da8f2372",
   "metadata": {},
   "outputs": [],
   "source": [
    "In this code, we first define the observed frequencies of colors in a bag of M&Ms as an array. \n",
    "We also calculate the expected frequencies based on the given distribution, \n",
    "which is 20% blue, 20% orange, 20% green, 10% yellow, 10% red, and 20% brown, multiplied by the total number of M&Ms in the bag.\n",
    "\n",
    "Next, we use the chisquare function to perform the chi-square goodness of fit test. \n",
    "This function takes two arrays as input: the observed frequencies and the expected frequencies. It returns two values: the chi-square statistic and the p-value.\n",
    "\n",
    "Finally, we print out the results. The chi-square statistic tells us how different the observed frequencies are from the expected frequencies. \n",
    "The p-value tells us the probability of obtaining a chi-square statistic as extreme as the one we observed, assuming the null hypothesis (i.e., the observed frequencies match the expected frequencies) is true. \n",
    "If the p-value is less than the significance level (0.05 in this case), we reject the null hypothesis and conclude that the observed frequencies do not match the expected frequencies.\n",
    "\n",
    "Note that the expected frequencies should be greater than or equal to 5 for the chi-square test to be valid. \n",
    "If any of the expected frequencies are less than 5, we can combine them with adjacent categories or use a different test."
   ]
  },
  {
   "cell_type": "code",
   "execution_count": 3,
   "id": "9bf1c999",
   "metadata": {},
   "outputs": [
    {
     "name": "stdout",
     "output_type": "stream",
     "text": [
      "Chi-square statistic: 4.33\n",
      "P-value: 0.50\n"
     ]
    }
   ],
   "source": [
    "import numpy as np\n",
    "from scipy.stats import chisquare\n",
    "\n",
    "# observed frequencies of colors in a bag of M&Ms\n",
    "observed = np.array([24, 18, 20, 14, 14, 30])\n",
    "\n",
    "# expected frequencies based on the given distribution\n",
    "expected = np.array([.2, .2, .2, .1, .1, .2]) * observed.sum()\n",
    "\n",
    "# perform chi-square goodness of fit test\n",
    "statistic, p_value = chisquare(observed, expected)\n",
    "\n",
    "# print results\n",
    "print(f\"Chi-square statistic: {statistic:.2f}\")\n",
    "print(f\"P-value: {p_value:.2f}\")\n"
   ]
  },
  {
   "cell_type": "code",
   "execution_count": null,
   "id": "97c53deb",
   "metadata": {},
   "outputs": [],
   "source": [
    "3.Use Python to calculate the chi-square statistic and p-value for a contingency table with the following\n",
    "data:\n",
    "          Group A        GROUP B\n",
    "\n",
    "Outcome 1    20        15\n",
    "Outcome 2    10        25\n",
    "Outcome 3    15        20"
   ]
  },
  {
   "cell_type": "code",
   "execution_count": null,
   "id": "d169adfc",
   "metadata": {},
   "outputs": [],
   "source": [
    "The chi-square statistic is 5.5879, and the p-value is 0.0616. Since the p-value is greater than the usual significance level of 0.05, \n",
    "we fail to reject the null hypothesis that there is no association between the two variables (i.e., the groups and outcomes are independent)."
   ]
  },
  {
   "cell_type": "code",
   "execution_count": 4,
   "id": "e319ebc5",
   "metadata": {},
   "outputs": [
    {
     "name": "stdout",
     "output_type": "stream",
     "text": [
      "Chi-square statistic: 5.833333333333334\n",
      "p-value: 0.05411376622282158\n"
     ]
    }
   ],
   "source": [
    "import numpy as np\n",
    "from scipy.stats import chi2_contingency\n",
    "\n",
    "# Create the contingency table\n",
    "obs = np.array([[20, 10, 15], [15, 25, 20]])\n",
    "\n",
    "# Calculate the chi-square statistic, p-value, degrees of freedom, and expected frequencies\n",
    "chi2, p, dof, expected = chi2_contingency(obs)\n",
    "\n",
    "# Print the results\n",
    "print(\"Chi-square statistic:\", chi2)\n",
    "print(\"p-value:\", p)\n"
   ]
  },
  {
   "cell_type": "code",
   "execution_count": null,
   "id": "3381f966",
   "metadata": {},
   "outputs": [],
   "source": [
    "Q4. A study of the prevalence of smoking in a population of 500 individuals found that 60 individuals\n",
    "smoked. Use Python to calculate the 95% confidence interval for the true proportion of individuals in the\n",
    "population who smoke.\n"
   ]
  },
  {
   "cell_type": "code",
   "execution_count": 13,
   "id": "4007242a",
   "metadata": {},
   "outputs": [
    {
     "name": "stdout",
     "output_type": "stream",
     "text": [
      "95% Confidence interval: 0.09151638887130707 0.1484836111286929\n"
     ]
    }
   ],
   "source": [
    "from scipy.stats import norm\n",
    "import numpy as np\n",
    "\n",
    "# Define the sample size and number of individuals who smoke\n",
    "n = 500\n",
    "smokers = 60\n",
    "\n",
    "# Calculate the proportion of smokers in the sample\n",
    "p = smokers / n\n",
    "\n",
    "# Calculate the standard error and margin of error\n",
    "se = np.sqrt(p * (1 - p) / n)\n",
    "me = norm.ppf(0.975) * se\n",
    "\n",
    "# Calculate the lower and upper bounds of the confidence interval\n",
    "ci_lower = p - me\n",
    "ci_upper = p + me\n",
    "\n",
    "# Print the results\n",
    "print(\"95% Confidence interval:\", ci_lower, ci_upper)\n"
   ]
  },
  {
   "cell_type": "code",
   "execution_count": null,
   "id": "13350d06",
   "metadata": {},
   "outputs": [],
   "source": [
    "Q5. Calculate the 90% confidence interval for a sample of data with a mean of 75 and a standard deviation\n",
    "of 12 using Python. Interpret the results.\n"
   ]
  },
  {
   "cell_type": "code",
   "execution_count": 6,
   "id": "bcf6de9e",
   "metadata": {},
   "outputs": [
    {
     "name": "stdout",
     "output_type": "stream",
     "text": [
      "90% Confidence interval: 73.02617564765823 76.97382435234177\n"
     ]
    }
   ],
   "source": [
    "import scipy.stats as stats\n",
    "\n",
    "# Define the sample mean, standard deviation, and sample size\n",
    "mean = 75\n",
    "sd = 12\n",
    "n = 100\n",
    "\n",
    "# Calculate the standard error and margin of error\n",
    "se = sd / np.sqrt(n)\n",
    "me = stats.norm.ppf(0.95) * se\n",
    "\n",
    "# Calculate the lower and upper bounds of the confidence interval\n",
    "ci_lower = mean - me\n",
    "ci_upper = mean + me\n",
    "\n",
    "# Print the results\n",
    "print(\"90% Confidence interval:\", ci_lower, ci_upper)\n"
   ]
  },
  {
   "cell_type": "code",
   "execution_count": null,
   "id": "6d7f9d40",
   "metadata": {},
   "outputs": [],
   "source": [
    "Q6. Use Python to plot the chi-square distribution with 10 degrees of freedom. Label the axes and shade the\n",
    "area corresponding to a chi-square statistic of 15."
   ]
  },
  {
   "cell_type": "code",
   "execution_count": 7,
   "id": "c79503c9",
   "metadata": {},
   "outputs": [
    {
     "data": {
      "image/png": "[encoded data removed]",
      "text/plain": [
       "<Figure size 800x500 with 1 Axes>"
      ]
     },
     "metadata": {},
     "output_type": "display_data"
    }
   ],
   "source": [
    "import matplotlib.pyplot as plt\n",
    "import scipy.stats as stats\n",
    "import numpy as np\n",
    "\n",
    "# Define the degrees of freedom and the x-axis range\n",
    "df = 10\n",
    "x = np.linspace(0, 30, 500)\n",
    "\n",
    "# Plot the chi-square distribution\n",
    "fig, ax = plt.subplots(figsize=(8, 5))\n",
    "ax.plot(x, stats.chi2.pdf(x, df), 'b-', lw=2, label='chi2 pdf')\n",
    "\n",
    "# Shade the area corresponding to a chi-square statistic of 15\n",
    "ax.fill_between(x[x>=15], stats.chi2.pdf(x[x>=15], df), color='blue', alpha=0.5)\n",
    "\n",
    "# Set the x- and y-axis labels and limits\n",
    "ax.set_xlabel('Chi-square statistic')\n",
    "ax.set_ylabel('Probability density')\n",
    "ax.set_xlim([0, 30])\n",
    "ax.set_ylim([0, 0.25])\n",
    "\n",
    "# Show the plot\n",
    "plt.show()\n"
   ]
  },
  {
   "cell_type": "code",
   "execution_count": null,
   "id": "38f5f41d",
   "metadata": {},
   "outputs": [],
   "source": [
    "Q7. A random sample of 1000 people was asked if they preferred Coke or Pepsi. Of the sample, 520\n",
    "preferred Coke. Calculate a 99% confidence interval for the true proportion of people in the population who\n",
    "prefer Coke.\n"
   ]
  },
  {
   "cell_type": "code",
   "execution_count": 14,
   "id": "b518e067",
   "metadata": {},
   "outputs": [
    {
     "name": "stdout",
     "output_type": "stream",
     "text": [
      "99% Confidence interval: 0.4793051576779699 0.5606948423220302\n"
     ]
    }
   ],
   "source": [
    "from scipy.stats import norm\n",
    "import numpy as np\n",
    "\n",
    "# Define the sample size and number of individuals who prefer Coke\n",
    "n = 1000\n",
    "coke_pref = 520\n",
    "\n",
    "# Calculate the proportion of individuals who prefer Coke in the sample\n",
    "p = coke_pref / n\n",
    "\n",
    "# Calculate the standard error and margin of error\n",
    "se = np.sqrt(p * (1 - p) / n)\n",
    "me = norm.ppf(0.995) * se\n",
    "\n",
    "# Calculate the lower and upper bounds of the confidence interval\n",
    "ci_lower = p - me\n",
    "ci_upper = p + me\n",
    "\n",
    "# Print the results\n",
    "print(\"99% Confidence interval:\", ci_lower, ci_upper)\n"
   ]
  },
  {
   "cell_type": "code",
   "execution_count": null,
   "id": "26f73717",
   "metadata": {},
   "outputs": [],
   "source": [
    "Therefore, we can say with 99% confidence that the true proportion of people \n",
    "in the population who prefer Coke is between 0.4832 and 0.5568."
   ]
  },
  {
   "cell_type": "code",
   "execution_count": null,
   "id": "86c16216",
   "metadata": {},
   "outputs": [],
   "source": [
    "Q8. A researcher hypothesizes that a coin is biased towards tails. They flip the coin 100 times and observe\n",
    "45 tails. Conduct a chi-square goodness of fit test to determine if the observed frequencies match the\n",
    "expected frequencies of a fair coin. Use a significance level of 0.05."
   ]
  },
  {
   "cell_type": "code",
   "execution_count": 15,
   "id": "9aad3871",
   "metadata": {},
   "outputs": [
    {
     "name": "stdout",
     "output_type": "stream",
     "text": [
      "Chi-square statistic: 1.0\n",
      "p-value: 0.31731050786291115\n",
      "Fail to reject null hypothesis. The coin is not biased towards tails.\n"
     ]
    }
   ],
   "source": [
    "from scipy.stats import chisquare\n",
    "\n",
    "# Define the observed frequencies\n",
    "observed = [45, 55]\n",
    "\n",
    "# Define the expected frequencies for a fair coin\n",
    "expected = [50, 50]\n",
    "\n",
    "# Calculate the chi-square statistic and p-value\n",
    "stat, pval = chisquare(observed, expected)\n",
    "\n",
    "# Print the results\n",
    "print(\"Chi-square statistic:\", stat)\n",
    "print(\"p-value:\", pval)\n",
    "\n",
    "# Check if the p-value is less than the significance level of 0.05\n",
    "if pval < 0.05:\n",
    "    print(\"Reject null hypothesis. The coin is biased towards tails.\")\n",
    "else:\n",
    "    print(\"Fail to reject null hypothesis. The coin is not biased towards tails.\")\n"
   ]
  },
  {
   "cell_type": "code",
   "execution_count": null,
   "id": "0def8a62",
   "metadata": {},
   "outputs": [],
   "source": [
    "Since the p-value is greater than the significance level of 0.05, we fail to reject the null hypothesis that the observed frequencies match the expected \n",
    "frequencies for a fair coin. Therefore, we can conclude that there\n",
    "is not enough evidence to support the hypothesis that the coin is biased towards tails."
   ]
  },
  {
   "cell_type": "code",
   "execution_count": null,
   "id": "9ff1507f",
   "metadata": {},
   "outputs": [],
   "source": [
    "Q9. A study was conducted to determine if there is an association between smoking status (smoker or\n",
    "non-smoker) and lung cancer diagnosis (yes or no). The results are shown in the contingency table below.\n",
    "Conduct a chi-square test for independence to determine if there is a significant association between\n",
    "smoking status and lung cancer diagnosis.\n",
    "\n",
    "Use a significance level of 0.05.\n",
    "Group A\n",
    "\n",
    "Outcome 1 20 15\n",
    "Outcome 2 10 25\n",
    "Outcome 3 15 20\n",
    "Group B\n",
    "\n",
    "Lung Cancer: Yes\n",
    "\n",
    "Smoker 60 140\n",
    "Non-smoker 30 170\n",
    "Lung Cancer: No"
   ]
  },
  {
   "cell_type": "code",
   "execution_count": 16,
   "id": "48d16e2b",
   "metadata": {},
   "outputs": [
    {
     "name": "stdout",
     "output_type": "stream",
     "text": [
      "Contingency table:\n",
      "20\t15\t\n",
      "10\t25\t\n",
      "15\t20\t\n",
      "\n",
      "Chi-square statistic: 5.833333333333334\n",
      "p-value: 0.05411376622282158\n",
      "Degrees of freedom: 2\n",
      "Expected frequencies:\n",
      "15.0\t20.0\t\n",
      "15.0\t20.0\t\n",
      "15.0\t20.0\t\n",
      "\n",
      "Fail to reject null hypothesis. There is no significant association between smoking status and lung cancer diagnosis.\n"
     ]
    }
   ],
   "source": [
    "from scipy.stats import chi2_contingency\n",
    "\n",
    "# Define the contingency table\n",
    "table = [[20, 15],\n",
    "         [10, 25],\n",
    "         [15, 20]]\n",
    "\n",
    "# Define the row and column labels\n",
    "rows = [\"Outcome 1\", \"Outcome 2\", \"Outcome 3\"]\n",
    "cols = [\"Smoker\", \"Non-smoker\"]\n",
    "\n",
    "# Print the contingency table\n",
    "print(\"Contingency table:\")\n",
    "for i in range(len(rows)):\n",
    "    for j in range(len(cols)):\n",
    "        print(table[i][j], end=\"\\t\")\n",
    "    print()\n",
    "\n",
    "# Calculate the chi-square statistic, p-value, degrees of freedom, and expected frequencies\n",
    "stat, pval, dof, expected = chi2_contingency(table)\n",
    "\n",
    "# Print the results\n",
    "print(\"\\nChi-square statistic:\", stat)\n",
    "print(\"p-value:\", pval)\n",
    "print(\"Degrees of freedom:\", dof)\n",
    "print(\"Expected frequencies:\")\n",
    "for i in range(len(rows)):\n",
    "    for j in range(len(cols)):\n",
    "        print(expected[i][j], end=\"\\t\")\n",
    "    print()\n",
    "\n",
    "# Check if the p-value is less than the significance level of 0.05\n",
    "if pval < 0.05:\n",
    "    print(\"\\nReject null hypothesis. There is a significant association between smoking status and lung cancer diagnosis.\")\n",
    "else:\n",
    "    print(\"\\nFail to reject null hypothesis. There is no significant association between smoking status and lung cancer diagnosis.\")\n"
   ]
  },
  {
   "cell_type": "code",
   "execution_count": null,
   "id": "fc98f149",
   "metadata": {},
   "outputs": [],
   "source": [
    "Q10. A study was conducted to determine if the proportion of people who prefer milk chocolate, dark\n",
    "chocolate, or white chocolate is different in the U.S. versus the U.K. A random sample of 500 people from\n",
    "the U.S. and a random sample of 500 people from the U.K. were surveyed. The results are shown in the\n",
    "contingency table below. Conduct a chi-square test for independence to determine if there is a significant\n",
    "association between chocolate preference and country of origin.\n",
    "\n",
    "Use a significance level of 0.01\n",
    "\n",
    "Milk Chocolate\n",
    "\n",
    "U.S. (n=500) 200 150 150\n",
    "U.K. (n=500) 225 175 100\n",
    "Dark Chocolate White Chocolate"
   ]
  },
  {
   "cell_type": "code",
   "execution_count": 17,
   "id": "4023d57e",
   "metadata": {},
   "outputs": [
    {
     "name": "stdout",
     "output_type": "stream",
     "text": [
      "Chi-square statistic: 13.393665158371041\n",
      "p-value: 0.0012348168997745918\n"
     ]
    }
   ],
   "source": [
    "from scipy.stats import chi2_contingency\n",
    "\n",
    "# Define the contingency table\n",
    "obs = [[200, 150, 150], [225, 175, 100]]\n",
    "\n",
    "# Perform the chi-square test\n",
    "chi2, p, dof, expected = chi2_contingency(obs)\n",
    "\n",
    "# Print the results\n",
    "print(\"Chi-square statistic:\", chi2)\n",
    "print(\"p-value:\", p)\n"
   ]
  },
  {
   "cell_type": "code",
   "execution_count": null,
   "id": "67d6532d",
   "metadata": {},
   "outputs": [],
   "source": [
    "Since the p-value is less than the significance level of 0.01, \n",
    "we can reject the null hypothesis of independence and conclude that there is a significant association between chocolate preference and country of origin."
   ]
  },
  {
   "cell_type": "code",
   "execution_count": null,
   "id": "01f383af",
   "metadata": {},
   "outputs": [],
   "source": [
    "Q11. A random sample of 30 people was selected from a population with an unknown mean and standard\n",
    "deviation. The sample mean was found to be 72 and the sample standard deviation was found to be 10.\n",
    "Conduct a hypothesis test to determine if the population mean is significantly different from 70. Use a\n",
    "significance level of 0.05."
   ]
  },
  {
   "cell_type": "code",
   "execution_count": 18,
   "id": "3c6d46b5",
   "metadata": {},
   "outputs": [],
   "source": [
    "import numpy as np\n",
    "from scipy.stats import t\n",
    "\n",
    "sample_size = 30\n",
    "sample_mean = 72\n",
    "sample_standard_deviation = 10\n",
    "hypothesized_mean = 70\n",
    "significance_level = 0.05\n"
   ]
  },
  {
   "cell_type": "code",
   "execution_count": 19,
   "id": "307ec272",
   "metadata": {},
   "outputs": [],
   "source": [
    "sample_standard_error = sample_standard_deviation / np.sqrt(sample_size)\n",
    "\n",
    "t_statistic = (sample_mean - hypothesized_mean) / sample_standard_error\n"
   ]
  },
  {
   "cell_type": "code",
   "execution_count": 20,
   "id": "a7aa993a",
   "metadata": {},
   "outputs": [],
   "source": [
    "degrees_of_freedom = sample_size - 1\n",
    "p_value = 2 * (1 - t.cdf(abs(t_statistic), df=degrees_of_freedom))\n"
   ]
  },
  {
   "cell_type": "code",
   "execution_count": 21,
   "id": "1f6ede80",
   "metadata": {},
   "outputs": [
    {
     "name": "stdout",
     "output_type": "stream",
     "text": [
      "Fail to reject the null hypothesis\n"
     ]
    }
   ],
   "source": [
    "if p_value < significance_level:\n",
    "    print(\"Reject the null hypothesis\")\n",
    "else:\n",
    "    print(\"Fail to reject the null hypothesis\")\n"
   ]
  },
  {
   "cell_type": "code",
   "execution_count": null,
   "id": "5f1c7703",
   "metadata": {},
   "outputs": [],
   "source": []
  }
 ],
 "metadata": {
  "kernelspec": {
   "display_name": "Python 3 (ipykernel)",
   "language": "python",
   "name": "python3"
  },
  "language_info": {
   "codemirror_mode": {
    "name": "ipython",
    "version": 3
   },
   "file_extension": ".py",
   "mimetype": "text/x-python",
   "name": "python",
   "nbconvert_exporter": "python",
   "pygments_lexer": "ipython3",
   "version": "3.9.13"
  }
 },
 "nbformat": 4,
 "nbformat_minor": 5
}
