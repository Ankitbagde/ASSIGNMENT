{
 "cells": [
  {
   "cell_type": "code",
   "execution_count": null,
   "id": "7cdc7abf",
   "metadata": {},
   "outputs": [],
   "source": [
    "Q1. Explain the assumptions required to use ANOVA and provide examples of violations that could impact\n",
    "the validity of the results.\n"
   ]
  },
  {
   "cell_type": "code",
   "execution_count": null,
   "id": "7324870f",
   "metadata": {},
   "outputs": [],
   "source": [
    "Assumptions of ANOVA and Examples of Violations:\n",
    "\n",
    "Assumptions of ANOVA are:\n",
    "\n",
    "1.Normality: The dependent variable should be normally distributed in each group or sample.\n",
    "2.Homogeneity of variance: The variance of the dependent variable should be equal across all groups.\n",
    "3.Independence: The observations should be independent of each other.\n",
    "\n",
    "Examples of Violations are:\n",
    "\n",
    "Violation of Normality: If the dependent variable is not normally distributed, \n",
    "then the ANOVA results may not be valid. For example, if a study is conducted to compare the weight of people across different age groups, \n",
    "and the weight of people in some age groups is not normally distributed, then ANOVA results may not be valid.\n",
    "\n",
    "Violation of Homogeneity of Variance: If the variance of the dependent variable is not equal across all groups,\n",
    "    then ANOVA results may not be valid. For example, if a study is conducted to compare the salary of people across different industries,\n",
    "    and the variance of salary is much higher in some industries, then ANOVA results may not be valid.\n",
    "\n",
    "Violation of Independence: If the observations are not independent of each other, \n",
    "    then ANOVA results may not be valid. For example, if a study is conducted to compare the exam scores of students in different classes, \n",
    "    and some students are related to each other or influenced by the same factors, then ANOVA results may not be valid."
   ]
  },
  {
   "cell_type": "code",
   "execution_count": null,
   "id": "e70be216",
   "metadata": {},
   "outputs": [],
   "source": [
    "Q2. What are the three types of ANOVA, and in what situations would each be used?\n"
   ]
  },
  {
   "cell_type": "code",
   "execution_count": null,
   "id": "49bfceb2",
   "metadata": {},
   "outputs": [],
   "source": [
    "Types of ANOVA and their Applications:\n",
    "\n",
    "There are three types of ANOVA:\n",
    "\n",
    "One-Way ANOVA: One-way ANOVA is used to compare the means of two or more groups for a single independent variable. \n",
    "    It is used when we have one independent variable and one dependent variable. For example, comparing the mean score of students in different classes.\n",
    "\n",
    "Two-Way ANOVA: Two-way ANOVA is used to compare the means of two or more groups for two independent variables.\n",
    "    It is used when we have two independent variables and one dependent variable. For example, comparing the mean score of students in different classes and different schools.\n",
    "\n",
    "Repeated Measures ANOVA: Repeated measures ANOVA is used to compare the means of two or more groups for a single independent variable, but the dependent variable is measured multiple times. \n",
    "    It is used when we have one independent variable and one dependent variable measured multiple times. For example, comparing the mean weight of people before and after a diet."
   ]
  },
  {
   "cell_type": "code",
   "execution_count": null,
   "id": "cac4c363",
   "metadata": {},
   "outputs": [],
   "source": [
    "Q3. What is the partitioning of variance in ANOVA, and why is it important to understand this concept?\n"
   ]
  },
  {
   "cell_type": "code",
   "execution_count": null,
   "id": "25531cee",
   "metadata": {},
   "outputs": [],
   "source": [
    "Partitioning of Variance in ANOVA:\n",
    "\n",
    "Partitioning of variance in ANOVA is a method of dividing the total variance of the dependent variable into different components to estimate the contribution of each independent variable. \n",
    "It is important to understand this concept because it helps us to identify the sources of variation and to determine the significance of the independent variables.\n",
    "\n",
    "The total variance of the dependent variable is divided into three components: the total sum of squares (SST), the explained sum of squares (SSE), and the residual sum of squares (SSR)."
   ]
  },
  {
   "cell_type": "code",
   "execution_count": null,
   "id": "2efb5ffa",
   "metadata": {},
   "outputs": [],
   "source": [
    "Q4. How would you calculate the total sum of squares (SST), explained sum of squares (SSE), and residual\n",
    "sum of squares (SSR) in a one-way ANOVA using Python?"
   ]
  },
  {
   "cell_type": "code",
   "execution_count": null,
   "id": "b491cd13",
   "metadata": {},
   "outputs": [],
   "source": [
    "Calculation of Total Sum of Squares, Explained Sum of Squares, and Residual Sum of Squares in One-Way ANOVA using Python:\n",
    "\n",
    "The total sum of squares (SST) is the sum of squared deviations from the mean of all observations.\n",
    "The explained sum of squares (SSE) is the sum of squared deviations of group means from the overall mean.\n",
    "The residual sum of squares (SSR) is the sum of squared deviations of individual observations from their group means."
   ]
  },
  {
   "cell_type": "code",
   "execution_count": 1,
   "id": "e9b6d79d",
   "metadata": {},
   "outputs": [],
   "source": [
    "import pandas as pd\n",
    "import numpy as np\n",
    "import scipy.stats as stats\n",
    "\n",
    "# create a data frame\n",
    "df = pd.DataFrame\n"
   ]
  },
  {
   "cell_type": "code",
   "execution_count": null,
   "id": "6e2a0d9c",
   "metadata": {},
   "outputs": [],
   "source": [
    "Q5. In a two-way ANOVA, how would you calculate the main effects and interaction effects using Python?\n"
   ]
  },
  {
   "cell_type": "code",
   "execution_count": 2,
   "id": "80f111ca",
   "metadata": {},
   "outputs": [
    {
     "name": "stdout",
     "output_type": "stream",
     "text": [
      "Main effect of rows (factor A): F = 0.3 , p = 0.622002454214274\n",
      "Main effect of columns (factor B): F = 0.0 , p = 1.0\n",
      "Interaction effect (factor A*B): F = 2.6999999999999997 , p = 0.19889218813730503\n"
     ]
    }
   ],
   "source": [
    "import numpy as np\n",
    "from scipy.stats import f\n",
    "\n",
    "# create a 2x2 array of data\n",
    "data = np.array([[5, 7], [8, 6]])\n",
    "\n",
    "# calculate the means of each group\n",
    "means = np.mean(data, axis=0)\n",
    "\n",
    "# calculate the total sum of squares\n",
    "total_ss = np.sum((data - np.mean(data))**2)\n",
    "\n",
    "# calculate the sum of squares for the first factor (rows)\n",
    "row_ss = np.sum((np.mean(data, axis=1) - np.mean(data))**2)\n",
    "\n",
    "# calculate the sum of squares for the second factor (columns)\n",
    "col_ss = np.sum((np.mean(data, axis=0) - np.mean(data))**2)\n",
    "\n",
    "# calculate the sum of squares for the interaction effect\n",
    "interaction_ss = total_ss - row_ss - col_ss\n",
    "\n",
    "# calculate the degrees of freedom\n",
    "df_total = (data.shape[0] * data.shape[1]) - 1\n",
    "df_row = data.shape[0] - 1\n",
    "df_col = data.shape[1] - 1\n",
    "df_interaction = df_row * df_col\n",
    "\n",
    "# calculate the mean squares\n",
    "ms_row = row_ss / df_row\n",
    "ms_col = col_ss / df_col\n",
    "ms_interaction = interaction_ss / df_interaction\n",
    "\n",
    "# calculate the F-statistics\n",
    "f_row = ms_row / (total_ss / df_total)\n",
    "f_col = ms_col / (total_ss / df_total)\n",
    "f_interaction = ms_interaction / (total_ss / df_total)\n",
    "\n",
    "# calculate the p-values\n",
    "p_row = 1 - f.cdf(f_row, df_row, df_total)\n",
    "p_col = 1 - f.cdf(f_col, df_col, df_total)\n",
    "p_interaction = 1 - f.cdf(f_interaction, df_interaction, df_total)\n",
    "\n",
    "# print the results\n",
    "print('Main effect of rows (factor A): F =', f_row, ', p =', p_row)\n",
    "print('Main effect of columns (factor B): F =', f_col, ', p =', p_col)\n",
    "print('Interaction effect (factor A*B): F =', f_interaction, ', p =', p_interaction)\n"
   ]
  },
  {
   "cell_type": "code",
   "execution_count": null,
   "id": "5573ea1a",
   "metadata": {},
   "outputs": [],
   "source": [
    "Q6. Suppose you conducted a one-way ANOVA and obtained an F-statistic of 5.23 and a p-value of 0.02.\n",
    "What can you conclude about the differences between the groups, and how would you interpret these\n",
    "results?\n"
   ]
  },
  {
   "cell_type": "code",
   "execution_count": null,
   "id": "74734a93",
   "metadata": {},
   "outputs": [],
   "source": [
    "Interpretation of One-Way ANOVA Results:\n",
    "\n",
    "In one-way ANOVA, the F-statistic is used to test whether the means of the groups are significantly different. \n",
    "The p-value indicates the probability of obtaining an F-statistic as \n",
    "extreme as the one observed if the null hypothesis (i.e., all group means are equal) is true.\n",
    "\n",
    "In this case, since the p-value is 0.02, which is less than the significance level of 0.05,\n",
    "we reject the null hypothesis and conclude that there is at least one group mean that is significantly different from the others. However, we cannot determine which specific groups are different from each other using ANOVA alone."
   ]
  },
  {
   "cell_type": "code",
   "execution_count": null,
   "id": "a54f62a9",
   "metadata": {},
   "outputs": [],
   "source": [
    "Q7. In a repeated measures ANOVA, how would you handle missing data, and what are the potential\n",
    "consequences of using different methods to handle missing data?\n"
   ]
  },
  {
   "cell_type": "code",
   "execution_count": null,
   "id": "9e65b165",
   "metadata": {},
   "outputs": [],
   "source": [
    "Handling Missing Data in Repeated Measures ANOVA:\n",
    "\n",
    "To handle missing data in repeated measures ANOVA, we can use different methods such as:\n",
    "\n",
    "Listwise deletion: We can exclude any participant who has missing data on any variable used in the analysis.\n",
    "    This method can lead to loss of statistical power and bias if the missing data are not missing at random.\n",
    "\n",
    "Pairwise deletion: We can use only the data available for each pair of variables used in the analysis.\n",
    "    This method can lead to biased estimates of the variances and covariances.\n",
    "\n",
    "Imputation: We can estimate the missing values using different methods such as mean imputation, regression imputation, or multiple imputation. \n",
    "    \n",
    "    However, the validity of the results depends on the assumptions made about the missing data mechanism.\n",
    "\n",
    "The consequences of using different methods to handle missing data are that the results may differ depending on the method used, and the validity of the results may be compromised if the assumptions made about the missing data mechanism are not valid."
   ]
  },
  {
   "cell_type": "code",
   "execution_count": null,
   "id": "434cb3a4",
   "metadata": {},
   "outputs": [],
   "source": [
    "Q8. What are some common post-hoc tests used after ANOVA, and when would you use each one? Provide\n",
    "an example of a situation where a post-hoc test might be necessary."
   ]
  },
  {
   "cell_type": "code",
   "execution_count": null,
   "id": "9c60d15f",
   "metadata": {},
   "outputs": [],
   "source": [
    "Common Post-Hoc Tests in ANOVA and Examples:\n",
    "\n",
    "Post-hoc tests are used after ANOVA to determine which specific groups are significantly different from each other.\n",
    "Some common post-hoc tests are:\n",
    "\n",
    "Tukey's HSD test: This test compares all possible pairs of group means and adjusts the significance level to control for the family-wise error rate.\n",
    "\n",
    "Bonferroni test: This test adjusts the significance level for each comparison to control for the overall type I error rate.\n",
    "\n",
    "Scheffe's test: This test controls the family-wise error rate by using a conservative estimate of the error variance.\n",
    "\n",
    "An example situation where a post-hoc test might be necessary is when conducting a study to compare\n",
    "the effectiveness of three different types of treatments for a medical condition. ANOVA might indicate that there is a significant difference between the treatments, but we need to use a post-hoc test to determine which specific treatments are significantly different from each other."
   ]
  },
  {
   "cell_type": "code",
   "execution_count": null,
   "id": "006dc42c",
   "metadata": {},
   "outputs": [],
   "source": [
    "Q9. A researcher wants to compare the mean weight loss of three diets: A, B, and C. They collect data from\n",
    "50 participants who were randomly assigned to one of the diets. Conduct a one-way ANOVA using Python\n",
    "to determine if there are any significant differences between the mean weight loss of the three diets.\n",
    "Report the F-statistic and p-value, and interpret the results.\n"
   ]
  },
  {
   "cell_type": "code",
   "execution_count": null,
   "id": "e9778d1d",
   "metadata": {},
   "outputs": [],
   "source": [
    "The output shows the F-statistic and p-value. In this example, \n",
    "if the p-value is less than the significance level (e.g., 0.05), \n",
    "we can reject the null hypothesis that the mean weight loss of the three diets are equal.\n",
    "\n"
   ]
  },
  {
   "cell_type": "code",
   "execution_count": 3,
   "id": "b25e8c5f",
   "metadata": {},
   "outputs": [
    {
     "name": "stdout",
     "output_type": "stream",
     "text": [
      "F-statistic = 297.19931806389445\n",
      "p-value = 1.6201017360786905e-35\n"
     ]
    }
   ],
   "source": [
    "import numpy as np\n",
    "from scipy.stats import f_oneway\n",
    "\n",
    "# define the data for each group\n",
    "diet_a = np.array([5.6, 4.2, 6.7, 3.8, 7.1, 5.9, 6.2, 4.8, 5.2, 4.1,\n",
    "                   6.8, 5.3, 7.3, 6.0, 5.5, 4.9, 5.7, 6.1, 4.7, 5.8,\n",
    "                   6.3, 5.0, 4.6, 7.2, 6.5])\n",
    "diet_b = np.array([2.1, 1.6, 2.8, 2.5, 3.0, 2.0, 1.8, 3.1, 1.9, 2.3,\n",
    "                   2.4, 2.6, 1.5, 2.2, 2.7, 2.9, 1.7, 3.2, 2.8, 2.0,\n",
    "                   2.1, 1.8, 3.3, 2.6, 2.2])\n",
    "diet_c = np.array([0.9, 1.2, 0.8, 1.5, 1.1, 1.6, 1.3, 1.0, 0.7, 1.4,\n",
    "                   0.6, 1.7, 1.2, 0.8, 1.3, 1.0, 1.1, 1.6, 0.9, 1.4,\n",
    "                   1.7, 1.2, 1.0, 1.5, 1.3])\n",
    "\n",
    "# conduct the one-way ANOVA\n",
    "f_statistic, p_value = f_oneway(diet_a, diet_b, diet_c)\n",
    "\n",
    "# print the results\n",
    "print('F-statistic =', f_statistic)\n",
    "print('p-value =', p_value)\n"
   ]
  },
  {
   "cell_type": "code",
   "execution_count": null,
   "id": "b24c2b55",
   "metadata": {},
   "outputs": [],
   "source": [
    "Q10. A company wants to know if there are any significant differences in the average time it takes to\n",
    "complete a task using three different software programs: Program A, Program B, and Program C. They\n",
    "randomly assign 30 employees to one of the programs and record the time it takes each employee to\n",
    "complete the task. Conduct a two-way ANOVA using Python to determine if there are any main effects or\n",
    "interaction effects between the software programs and employee experience level (novice vs.\n",
    "experienced). Report the F-statistics and p-values, and interpret the results."
   ]
  },
  {
   "cell_type": "code",
   "execution_count": 13,
   "id": "ca997f9b",
   "metadata": {},
   "outputs": [
    {
     "name": "stdout",
     "output_type": "stream",
     "text": [
      "                             sum_sq    df         F    PR(>F)\n",
      "C(program)                 1.850000   2.0  0.327530  0.723872\n",
      "C(experience)              6.533333   1.0  2.313367  0.141333\n",
      "C(program):C(experience)   3.408667   2.0  0.603482  0.554994\n",
      "Residual                  67.780000  24.0       NaN       NaN\n"
     ]
    }
   ],
   "source": [
    "import pandas as pd\n",
    "import statsmodels.api as sm\n",
    "from statsmodels.formula.api import ols\n",
    "\n",
    "# create a sample dataset\n",
    "data = pd.DataFrame({\n",
    "    'program': ['A', 'B', 'C'] * 10,\n",
    "    'experience': ['novice'] * 15 + ['experienced'] * 15,\n",
    "    'time': [10.2, 9.5, 10.7, 11.5, 10.1, 9.9, 12.1, 11.5, 12.3, 11.9,\n",
    "             8.6, 9.1, 8.8, 8.7, 9.2, 7.9, 8.8, 9.3, 9.6, 8.3,\n",
    "             12.3, 11.9, 12.8, 11.6, 13.2, 12.5, 12.1, 11.8, 13.1, 12.9]\n",
    "})\n",
    "\n",
    "# conduct two-way ANOVA\n",
    "model = ols('time ~ C(program) + C(experience) + C(program):C(experience)', data).fit()\n",
    "anova_table = sm.stats.anova_lm(model, typ=2)\n",
    "\n",
    "# print the ANOVA table\n",
    "print(anova_table)\n"
   ]
  },
  {
   "cell_type": "code",
   "execution_count": null,
   "id": "3dd6c4e7",
   "metadata": {},
   "outputs": [],
   "source": [
    "Q11. An educational researcher is interested in whether a new teaching method improves student test\n",
    "scores. They randomly assign 100 students to either the control group (traditional teaching method) or the\n",
    "experimental group (new teaching method) and administer a test at the end of the semester. Conduct a\n",
    "two-sample t-test using Python to determine if there are any significant differences in test scores\n",
    "between the two groups. If the results are significant, follow up with a post-hoc test to determine which\n",
    "group(s) differ significantly from each other."
   ]
  },
  {
   "cell_type": "code",
   "execution_count": 8,
   "id": "9d9f7209",
   "metadata": {},
   "outputs": [
    {
     "name": "stdout",
     "output_type": "stream",
     "text": [
      "T-statistic: -9.925\n",
      "P-value: 0.000\n"
     ]
    }
   ],
   "source": [
    "import numpy as np\n",
    "from scipy.stats import ttest_ind\n",
    "\n",
    "# create the data\n",
    "control_scores = np.array([65, 72, 68, 80, 77, 73, 75, 81, 69, 71, 78, 74, 76, 70, 82, 79, 66, 67, 83, 84,\n",
    "                           72, 68, 76, 79, 81, 73, 75, 70, 77, 78, 74, 71, 80, 82, 67, 83, 69, 65, 84, 72,\n",
    "                           70, 81, 68, 77, 73, 76, 75, 74, 79, 78, 66, 82, 83, 71, 80, 72, 84, 69, 67, 65,\n",
    "                           70, 76, 75, 77, 68, 79, 74, 73, 81, 72, 78, 66, 82, 84, 71, 67, 83, 69, 80, 65,\n",
    "                           77, 76, 70, 75, 68, 72, 81, 73, 74, 78, 79, 66, 82, 84, 83, 67, 71, 69, 80, 65])\n",
    "\n",
    "experimental_scores = np.array([73, 85, 81, 90, 84, 79, 82, 88, 78, 80, 83, 86, 89, 87, 91, 76, 77, 75, 92, 74,\n",
    "                                82, 81, 78, 87, 85, 77, 88, 74, 86, 84, 83, 91, 89, 75, 92, 76, 73, 90, 85, 81,\n",
    "                                88, 77, 84, 83, 78, 89, 80, 76, 86, 73, 90, 91, 75, 79, 74, 92, 87, 82, 88, 84,\n",
    "                                85, 77, 83, 78, 89, 76, 80, 81, 73, 90, 91, 75, 74, 92, 87, 82, 88, 85, 83, 79,\n",
    "                                84, 78, 89, 80, 76, 86, 73, 90, 91, 75, 74, 92, 87, 82, 88, 85, 83, 79, 84, 78])\n",
    "\n",
    "# perform the two-sample t-test\n",
    "t_stat, p_value = ttest_ind(control_scores, experimental_scores)\n",
    "\n",
    "# print the results\n",
    "print(f\"T-statistic: {t_stat:.3f}\")\n",
    "print(f\"P-value: {p_value:.3f}\")\n"
   ]
  },
  {
   "cell_type": "code",
   "execution_count": null,
   "id": "eabd753e",
   "metadata": {},
   "outputs": [],
   "source": [
    "Q12. A researcher wants to know if there are any significant differences in the average daily sales of three\n",
    "retail stores: Store A, Store B, and Store C. They randomly select 30 days and record the sales for each store\n",
    "on those days. Conduct a repeated measures ANOVA using Python to determine if there are any\n",
    "\n",
    "significant differences in sales between the three stores. If the results are significant, follow up with a post-\n",
    "hoc test to determine which store(s) differ significantly from each other."
   ]
  },
  {
   "cell_type": "code",
   "execution_count": 12,
   "id": "3e1f6bb2",
   "metadata": {},
   "outputs": [
    {
     "name": "stdout",
     "output_type": "stream",
     "text": [
      "The results are significant (p < 0.05)\n",
      "There is a significant difference between Store A and Store B (p < 0.05)\n",
      "There is a significant difference between Store A and Store C (p < 0.05)\n",
      "There is a significant difference between Store B and Store C (p < 0.05)\n"
     ]
    }
   ],
   "source": [
    "import numpy as np\n",
    "from scipy.stats import f_oneway\n",
    "from scipy.stats import ttest_rel\n",
    "\n",
    "# create the data\n",
    "store_a = [10, 12, 8, 14, 11, 9, 13, 15, 12, 11, 13, 14, 12, 10, 11, 9, 12, 14, 15, 11, 10, 13, 12, 14, 11, 12, 10, 9, 13, 15]\n",
    "store_b = [8, 10, 7, 11, 9, 6, 10, 12, 11, 9, 12, 11, 10, 8, 9, 7, 11, 12, 13, 9, 8, 12, 10, 13, 8, 10, 7, 6, 11, 13]\n",
    "store_c = [12, 15, 10, 17, 13, 11, 16, 18, 14, 12, 16, 14, 13, 11, 12, 10, 14, 16, 18, 12, 11, 15, 13, 17, 12, 14, 10, 9, 16, 18]\n",
    "\n",
    "# perform repeated measures ANOVA\n",
    "f_value, p_value = f_oneway(store_a, store_b, store_c)\n",
    "\n",
    "if p_value < 0.05:\n",
    "    print(\"The results are significant (p < 0.05)\")\n",
    "else:\n",
    "    print(\"The results are not significant (p >= 0.05)\")\n",
    "\n",
    "# perform post-hoc test\n",
    "t_value_ab, p_value_ab = ttest_rel(store_a, store_b)\n",
    "t_value_ac, p_value_ac = ttest_rel(store_a, store_c)\n",
    "t_value_bc, p_value_bc = ttest_rel(store_b, store_c)\n",
    "\n",
    "if p_value_ab < 0.05:\n",
    "    print(\"There is a significant difference between Store A and Store B (p < 0.05)\")\n",
    "if p_value_ac < 0.05:\n",
    "    print(\"There is a significant difference between Store A and Store C (p < 0.05)\")\n",
    "if p_value_bc < 0.05:\n",
    "    print(\"There is a significant difference between Store B and Store C (p < 0.05)\")\n"
   ]
  },
  {
   "cell_type": "code",
   "execution_count": null,
   "id": "3b02bcd0",
   "metadata": {},
   "outputs": [],
   "source": []
  }
 ],
 "metadata": {
  "kernelspec": {
   "display_name": "Python 3 (ipykernel)",
   "language": "python",
   "name": "python3"
  },
  "language_info": {
   "codemirror_mode": {
    "name": "ipython",
    "version": 3
   },
   "file_extension": ".py",
   "mimetype": "text/x-python",
   "name": "python",
   "nbconvert_exporter": "python",
   "pygments_lexer": "ipython3",
   "version": "3.9.13"
  }
 },
 "nbformat": 4,
 "nbformat_minor": 5
}
