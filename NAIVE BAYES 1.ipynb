{
 "cells": [
  {
   "cell_type": "code",
   "execution_count": null,
   "id": "25b847ee",
   "metadata": {},
   "outputs": [],
   "source": [
    "Q1. What is Bayes' theorem?\n"
   ]
  },
  {
   "cell_type": "code",
   "execution_count": null,
   "id": "1babb9e1",
   "metadata": {},
   "outputs": [],
   "source": [
    "Bayes' theorem is a fundamental principle in probability theory that describes how to update our beliefs or knowledge\n",
    "about an uncertain event based on new evidence or information. It is named after the 18th-century British statistician\n",
    "and philosopher Thomas Bayes, who first formulated the theorem.\n",
    "\n",
    "Bayes' theorem relates the probability of an event A occurring, given some evidence B, to the probability of the \n",
    "evidence B occurring, given that the event A has occurred. The theorem is expressed as follows:\n",
    "\n",
    "P(A | B) = P(B | A) * P(A) / P(B)\n",
    "\n",
    "where:\n",
    "\n",
    "P(A | B) is the conditional probability of A given B (i.e., the probability of A occurring, given that B has occurred).\n",
    "P(B | A) is the conditional probability of B given A (i.e., the probability of the evidence B occurring, given that A has occurred).\n",
    "P(A) is the prior probability of A (i.e., our initial belief or estimate of the probability of A occurring before considering any evidence).\n",
    "P(B) is the prior probability of B (i.e., the probability of the evidence B occurring before considering any relationship with A).\n",
    "In essence, Bayes' theorem allows us to update our prior belief about the probability of an event based on new \n",
    "evidence or data, by computing the likelihood of the evidence given the event and combining it with our prior \n",
    "knowledge. This makes it a powerful tool for decision making, inference, and statistical modeling in various fields, \n",
    "including science, engineering, finance, and machine learning.\n",
    "\n",
    "\n",
    "\n",
    "\n",
    "\n"
   ]
  },
  {
   "cell_type": "code",
   "execution_count": null,
   "id": "e765087c",
   "metadata": {},
   "outputs": [],
   "source": [
    "Q2. What is the formula for Bayes' theorem?\n"
   ]
  },
  {
   "cell_type": "code",
   "execution_count": null,
   "id": "00d788a4",
   "metadata": {},
   "outputs": [],
   "source": [
    "The formula for Bayes' theorem is:\n",
    "\n",
    "P(A | B) = P(B | A) * P(A) / P(B)\n",
    "\n",
    "where:\n",
    "\n",
    "P(A | B) is the conditional probability of A given B, which represents the probability of event A occurring, given that event B has occurred.\n",
    "P(B | A) is the conditional probability of B given A, which represents the probability of observing event B, given that event A has occurred.\n",
    "P(A) is the prior probability of A, which represents the probability of event A occurring before taking any evidence into account.\n",
    "P(B) is the prior probability of B, which represents the probability of observing event B before taking any relationship with A into account.\n",
    "Bayes' theorem allows us to update our belief or knowledge about the probability of an event A, given some observed \n",
    "evidence or data B. By computing the likelihood of the observed data given the event and combining it with our prior\n",
    "knowledge, we obtain an updated or posterior probability of the event A. This makes Bayes' theorem a powerful tool \n",
    "for decision making, inference, and statistical modeling in various fields.\n",
    "\n",
    "\n",
    "\n",
    "\n"
   ]
  },
  {
   "cell_type": "code",
   "execution_count": null,
   "id": "24acab22",
   "metadata": {},
   "outputs": [],
   "source": [
    "Q3. How is Bayes' theorem used in practice?\n"
   ]
  },
  {
   "cell_type": "code",
   "execution_count": null,
   "id": "5cb8c3d2",
   "metadata": {},
   "outputs": [],
   "source": [
    "Bayes' theorem has numerous practical applications in various fields, including science, engineering, finance,\n",
    "medicine, and machine learning. Here are a few examples of how Bayes' theorem is used in practice:\n",
    "\n",
    "Medical diagnosis: Bayes' theorem is used to diagnose medical conditions based on observed symptoms or test results. \n",
    "    The theorem helps calculate the probability of a particular disease given a set of symptoms or test results.\n",
    "\n",
    "Spam filtering: Bayes' theorem is used to filter spam emails from legitimate emails. The theorem helps calculate the \n",
    "    probability that an email is spam given its content and other characteristics.\n",
    "\n",
    "    \n",
    "Risk assessment: Bayes' theorem is used to assess risks in various fields, such as finance, insurance, and engineering.\n",
    "    The theorem helps calculate the probability of a particular event occurring given certain risk factors.\n",
    "\n",
    "Machine learning: Bayes' theorem is used in machine learning algorithms, such as Naive Bayes classifiers, to classify\n",
    "    data into different categories based on observed features.\n",
    "\n",
    "A/B testing: Bayes' theorem is used in A/B testing to determine the effectiveness of different variations of a website\n",
    "    or a marketing campaign. The theorem helps calculate the probability that a particular variation is better than \n",
    "    another variation based on observed user behavior.\n",
    "\n",
    "These are just a few examples of how Bayes' theorem is used in practice. In general, Bayes' theorem is a powerful \n",
    "tool for decision making, inference, and statistical modeling in various fields."
   ]
  },
  {
   "cell_type": "code",
   "execution_count": null,
   "id": "a87276b5",
   "metadata": {},
   "outputs": [],
   "source": [
    "Q4. What is the relationship between Bayes' theorem and conditional probability?\n"
   ]
  },
  {
   "cell_type": "code",
   "execution_count": null,
   "id": "cae2a7be",
   "metadata": {},
   "outputs": [],
   "source": [
    "Bayes' theorem and conditional probability are closely related concepts in probability theory. In fact, Bayes' \n",
    "theorem is a special case of conditional probability.\n",
    "\n",
    "Conditional probability is the probability of an event occurring given that another event has occurred. \n",
    "It is denoted as P(A | B), where A and B are events. In other words, conditional probability is the probability of \n",
    "event A occurring, given that event B has occurred.\n",
    "\n",
    "Bayes' theorem is a mathematical formula that allows us to calculate conditional probabilities in reverse. \n",
    "It allows us to calculate the probability of event A occurring given that event B has occurred, \n",
    "by using the conditional probability of event B given event A, and the prior probabilities of events A and B.\n",
    "The formula is:\n",
    "\n",
    "P(A | B) = P(B | A) * P(A) / P(B)\n",
    "\n",
    "where:\n",
    "\n",
    "P(A | B) is the conditional probability of A given B.\n",
    "P(B | A) is the conditional probability of B given A.\n",
    "P(A) is the prior probability of A.\n",
    "P(B) is the prior probability of B.\n",
    "In essence, Bayes' theorem provides a way to update our prior belief or knowledge about the probability of an event A,\n",
    "given some observed evidence or data B. By computing the likelihood of the observed data given the event and combining\n",
    "it with our prior knowledge, we obtain an updated or posterior probability of the event A.\n",
    "\n",
    "Therefore, while conditional probability describes the likelihood of an event given another event, Bayes' theorem\n",
    "allows us to update our belief or knowledge about the probability of an event given some observed evidence or data."
   ]
  },
  {
   "cell_type": "code",
   "execution_count": null,
   "id": "82765c5b",
   "metadata": {},
   "outputs": [],
   "source": [
    "Q5. How do you choose which type of Naive Bayes classifier to use for any given problem?"
   ]
  },
  {
   "cell_type": "code",
   "execution_count": null,
   "id": "4f9e1492",
   "metadata": {},
   "outputs": [],
   "source": [
    "There are three main types of Naive Bayes classifiers: Gaussian Naive Bayes, Multinomial Naive Bayes, and Bernoulli Naive Bayes. The choice of which type of Naive Bayes classifier to use for any given problem depends on the nature of the data and the problem itself.\n",
    "\n",
    "Here are some guidelines to help you choose which type of Naive Bayes classifier to use:\n",
    "\n",
    "Gaussian Naive Bayes: Use this classifier when the features in your dataset are continuous and have a normal \n",
    "    distribution. For example, if you have a dataset of people's heights and weights, Gaussian Naive Bayes can be used to classify new data points as \"tall\" or \"short\" based on their height and weight.\n",
    "\n",
    "Multinomial Naive Bayes: Use this classifier when the features in your dataset are discrete and represent counts or \n",
    "    frequencies. For example, if you have a dataset of text documents and you want to classify them into different \n",
    "    categories (e.g., sports, politics, entertainment), you can use Multinomial Naive Bayes to calculate the \n",
    "    probability of each category given the frequency of words in the documents.\n",
    "\n",
    "Bernoulli Naive Bayes: Use this classifier when the features in your dataset are binary (i.e., they take on only two \n",
    "                                                                                         values, 0 or 1). \n",
    "    For example, if you have a dataset of customer reviews and you want to classify them as positive or negative, \n",
    "    Bernoulli Naive Bayes can be used to calculate the probability of each class given the presence or absence of\n",
    "    certain keywords in the reviews.\n",
    "\n",
    "In summary, the choice of Naive Bayes classifier depends on the nature of the data and the problem at hand.\n",
    "If the features are continuous and normally distributed, use Gaussian Naive Bayes. If the features are discrete and\n",
    "represent counts or frequencies, use Multinomial Naive Bayes. If the features are binary, use Bernoulli Naive Bayes."
   ]
  },
  {
   "cell_type": "code",
   "execution_count": null,
   "id": "8b8aac73",
   "metadata": {},
   "outputs": [],
   "source": [
    "Q6. Assignment:\n",
    "You have a dataset with two features, X1 and X2, and two possible classes, A and B. You want to use Naive\n",
    "Bayes to classify a new instance with features X1 = 3 and X2 = 4. The following table shows the frequency of\n",
    "each feature value for each class:\n",
    "Class X1=1 X1=2 X1=3 X2=1 X2=2 X2=3 X2=4\n",
    "A 3 3 4 4 3 3 3\n",
    "B 2 2 1 2 2 2 3\n",
    "Assuming equal prior probabilities for each class, which class would Naive Bayes predict the new instance"
   ]
  },
  {
   "cell_type": "code",
   "execution_count": null,
   "id": "b8f5e851",
   "metadata": {},
   "outputs": [],
   "source": [
    "To use Naive Bayes to classify a new instance with features X1=3 and X2=4, we need to calculate the conditional probabilities of the features given each class, as well as the prior probabilities of each class.\n",
    "\n",
    "From the given table, we can calculate the following:\n",
    "\n",
    "Prior probabilities:\n",
    "P(A) = P(B) = 0.5 (assuming equal prior probabilities for each class)\n",
    "\n",
    "Conditional probabilities:\n",
    "P(X1=3 | A) = 4/10 = 0.4\n",
    "P(X2=4 | A) = 3/10 = 0.3\n",
    "P(X1=3 | B) = 1/7 = 0.1429\n",
    "P(X2=4 | B) = 1/7 = 0.1429\n",
    "\n",
    "Next, we need to calculate the probability of each class given the new instance (X1=3, X2=4) using Bayes' theorem:\n",
    "\n",
    "P(A | X1=3, X2=4) = P(X1=3 | A) * P(X2=4 | A) * P(A) / P(X1=3, X2=4)\n",
    "P(B | X1=3, X2=4) = P(X1=3 | B) * P(X2=4 | B) * P(B) / P(X1=3, X2=4)\n",
    "\n",
    "where P(X1=3, X2=4) is the marginal probability of the new instance, which can be calculated as:\n",
    "\n",
    "P(X1=3, X2=4) = P(X1=3 | A) * P(X2=4 | A) * P(A) + P(X1=3 | B) * P(X2=4 | B) * P(B)\n",
    "\n",
    "Plugging in the values, we get:\n",
    "\n",
    "P(A | X1=3, X2=4) = 0.4 * 0.3 * 0.5 / ((0.4 * 0.3 * 0.5) + (0.1429 * 0.1429 * 0.5)) = 0.870\n",
    "P(B | X1=3, X2=4) = 0.1429 * 0.1429 * 0.5 / ((0.4 * 0.3 * 0.5) + (0.1429 * 0.1429 * 0.5)) = 0.130\n",
    "\n",
    "Therefore, Naive Bayes would predict that the new instance belongs to class A, since P(A | X1=3, X2=4) > P(B | X1=3, X2=4)."
   ]
  },
  {
   "cell_type": "code",
   "execution_count": null,
   "id": "45930d49",
   "metadata": {},
   "outputs": [],
   "source": []
  }
 ],
 "metadata": {
  "kernelspec": {
   "display_name": "Python 3 (ipykernel)",
   "language": "python",
   "name": "python3"
  },
  "language_info": {
   "codemirror_mode": {
    "name": "ipython",
    "version": 3
   },
   "file_extension": ".py",
   "mimetype": "text/x-python",
   "name": "python",
   "nbconvert_exporter": "python",
   "pygments_lexer": "ipython3",
   "version": "3.9.13"
  }
 },
 "nbformat": 4,
 "nbformat_minor": 5
}
