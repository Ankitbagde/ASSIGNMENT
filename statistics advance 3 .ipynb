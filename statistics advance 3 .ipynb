{
 "cells": [
  {
   "cell_type": "code",
   "execution_count": null,
   "id": "39e791a2",
   "metadata": {},
   "outputs": [],
   "source": [
    "Q1: What is Estimation Statistics? Explain point estimate and interval estimate.\n"
   ]
  },
  {
   "cell_type": "code",
   "execution_count": null,
   "id": "fbf99f79",
   "metadata": {},
   "outputs": [],
   "source": [
    "Estimation Statistics refers to the process of using sample data to make inferences about the characteristics of a population. \n",
    "In estimation, we use statistical techniques to estimate population parameters such as mean, variance, proportion, etc.\n",
    "There are two types of estimation: point estimation and interval estimation.\n",
    "\n",
    "Point Estimate: A point estimate is a single value that is used to estimate a population parameter. \n",
    "    For example, if we want to estimate the population mean, we can use the sample mean as a point estimate.\n",
    "\n",
    "Interval Estimate: An interval estimate is a range of values that is likely to contain the true population parameter.\n",
    "    For example, if we want to estimate the population mean with an interval estimate, we can use a confidence interval.\n",
    "\n"
   ]
  },
  {
   "cell_type": "code",
   "execution_count": null,
   "id": "5f9d77b6",
   "metadata": {},
   "outputs": [],
   "source": [
    "Q2. Write a Python function to estimate the population mean using a sample mean and standard\n",
    "deviation.\n"
   ]
  },
  {
   "cell_type": "code",
   "execution_count": 1,
   "id": "fea5c9c2",
   "metadata": {},
   "outputs": [],
   "source": [
    "def estimate_population_mean(sample_mean, sample_std, sample_size):\n",
    "    import math\n",
    "    z_value = 1.96 # for a 95% confidence interval\n",
    "    std_error = sample_std / math.sqrt(sample_size)\n",
    "    lower_limit = sample_mean - z_value * std_error\n",
    "    upper_limit = sample_mean + z_value * std_error\n",
    "    return (lower_limit, upper_limit)\n"
   ]
  },
  {
   "cell_type": "code",
   "execution_count": null,
   "id": "73a6ef3e",
   "metadata": {},
   "outputs": [],
   "source": [
    "Q3: What is Hypothesis testing? Why is it used? State the importance of Hypothesis testing.\n"
   ]
  },
  {
   "cell_type": "code",
   "execution_count": null,
   "id": "57639a8d",
   "metadata": {},
   "outputs": [],
   "source": [
    "Hypothesis testing is a statistical method that is used to determine whether a hypothesis about a population parameter is likely to be true.\n",
    "In hypothesis testing, we start by assuming that the null hypothesis is true, \n",
    "and then we use sample data to determine whether we should reject the null hypothesis in favor of the alternative hypothesis.\n",
    "\n",
    "The null hypothesis is a statement that there is no significant difference between the population parameter and a specific value or between two population parameters.\n",
    "The alternative hypothesis is a statement that there is a significant difference between the population parameter and a specific value or between two population parameters.\n",
    "\n",
    "Hypothesis testing is used to make decisions based on sample data, \n",
    "such as whether to accept or reject a new product,\n",
    "whether to change a production process, or whether to implement a new policy.\n",
    "The importance of hypothesis testing is that it provides a systematic way of testing assumptions and making decisions based on data rather than intuition or personal bias."
   ]
  },
  {
   "cell_type": "code",
   "execution_count": null,
   "id": "f1e9bdae",
   "metadata": {},
   "outputs": [],
   "source": [
    "Q4. Create a hypothesis that states whether the average weight of male college students is greater than\n",
    "the average weight of female college students.\n"
   ]
  },
  {
   "cell_type": "code",
   "execution_count": null,
   "id": "25a980b5",
   "metadata": {},
   "outputs": [],
   "source": [
    "Here is a hypothesis that states whether the average weight of male college students is greater than the average weight of female college students:\n",
    "\n",
    "Null hypothesis: The average weight of male college students is equal to or less than the average weight of female college students.\n",
    "\n",
    "Alternative hypothesis: The average weight of male college students is greater than the average weight of female college students.\n",
    "\n",
    "We can test this hypothesis by collecting a sample of male and female college students and comparing their weights. \n",
    "If the sample data provides enough evidence to reject the null hypothesis, we can conclude that the alternative hypothesis is true \n",
    "and that the average weight of male college students is greater than the average weight of female college students.\n",
    "\n",
    "\n",
    "\n",
    "\n"
   ]
  },
  {
   "cell_type": "code",
   "execution_count": null,
   "id": "2433e2ad",
   "metadata": {},
   "outputs": [],
   "source": [
    "Q5. Write a Python script to conduct a hypothesis test on the difference between two population means,\n",
    "given a sample from each population.\n"
   ]
  },
  {
   "cell_type": "code",
   "execution_count": null,
   "id": "7f5e7061",
   "metadata": {},
   "outputs": [],
   "source": [
    "This script generates two samples from two populations and uses a two-sample t-test to test the hypothesis that the means of the two populations are equal. \n",
    "The ttest_ind function from the scipy.stats module calculates the t-test statistic and p-value. \n",
    "The results are printed to the console."
   ]
  },
  {
   "cell_type": "code",
   "execution_count": 2,
   "id": "ca972c63",
   "metadata": {},
   "outputs": [
    {
     "name": "stdout",
     "output_type": "stream",
     "text": [
      "Test Statistic: -7.433995483964761\n",
      "p-value: 3.1059444836752103e-12\n"
     ]
    }
   ],
   "source": [
    "import numpy as np\n",
    "from scipy.stats import ttest_ind\n",
    "\n",
    "# Generate two samples from two populations\n",
    "sample1 = np.random.normal(loc=50, scale=10, size=100)\n",
    "sample2 = np.random.normal(loc=60, scale=10, size=100)\n",
    "\n",
    "# Calculate the test statistic and p-value using a two-sample t-test\n",
    "t_statistic, p_value = ttest_ind(sample1, sample2)\n",
    "\n",
    "# Print the results\n",
    "print(\"Test Statistic:\", t_statistic)\n",
    "print(\"p-value:\", p_value)\n"
   ]
  },
  {
   "cell_type": "code",
   "execution_count": null,
   "id": "67b83b43",
   "metadata": {},
   "outputs": [],
   "source": [
    "Q6: What is a null and alternative hypothesis? Give some examples.\n"
   ]
  },
  {
   "cell_type": "code",
   "execution_count": null,
   "id": "52b4bec4",
   "metadata": {},
   "outputs": [],
   "source": [
    "In hypothesis testing, the null hypothesis is a statement that there is no significant difference between a population parameter and a specific value or between two population parameters. \n",
    "The alternative hypothesis is a statement that there is a significant difference between the population parameter and a specific value or between two population parameters.\n",
    "\n",
    "Here are some examples of null and alternative hypotheses:\n",
    "\n",
    "Null hypothesis: The mean height of men and women in a population is equal.\n",
    "Alternative hypothesis: The mean height of men and women in a population is not equal.\n",
    "\n",
    "Null hypothesis: The proportion of people who prefer Coke over Pepsi is 50%.\n",
    "Alternative hypothesis: The proportion of people who prefer Coke over Pepsi is different from 50%.\n",
    "\n",
    "Null hypothesis: The average salary of employees in two companies is equal.\n",
    "Alternative hypothesis: The average salary of employees in two companies is different."
   ]
  },
  {
   "cell_type": "code",
   "execution_count": null,
   "id": "20184356",
   "metadata": {},
   "outputs": [],
   "source": [
    "Q7: Write down the steps involved in hypothesis testing.\n"
   ]
  },
  {
   "cell_type": "code",
   "execution_count": null,
   "id": "4d24e984",
   "metadata": {},
   "outputs": [],
   "source": [
    "The steps involved in hypothesis testing are as follows:\n",
    "\n",
    "1.State the null and alternative hypotheses.\n",
    "2.Determine the appropriate test statistic and the corresponding probability distribution.\n",
    "3.Choose a significance level (alpha) for the test.\n",
    "4.Collect sample data and calculate the test statistic.\n",
    "5.Calculate the p-value, which is the probability of observing a test statistic as extreme as or more extreme than the observed test statistic under the null hypothesis.\n",
    "6.Compare the p-value to the significance level. If the p-value is less than or equal to the significance level,\n",
    "reject the null hypothesis; otherwise, fail to reject the null hypothesis.\n",
    "7.Draw conclusions based on the results of the test."
   ]
  },
  {
   "cell_type": "code",
   "execution_count": null,
   "id": "52b18511",
   "metadata": {},
   "outputs": [],
   "source": [
    "Q8. Define p-value and explain its significance in hypothesis testing.\n"
   ]
  },
  {
   "cell_type": "code",
   "execution_count": null,
   "id": "7dfe8c02",
   "metadata": {},
   "outputs": [],
   "source": [
    "The p-value is the probability of observing a test statistic as extreme as or more extreme than the observed test statistic under the null hypothesis. \n",
    "In hypothesis testing, the p-value is used to determine the level of evidence against the null hypothesis.\n",
    "\n",
    "If the p-value is less than or equal to the significance level (alpha),\n",
    "we reject the null hypothesis and conclude that there is significant evidence against it. \n",
    "If the p-value is greater than the significance level, \n",
    "we fail to reject the null hypothesis and conclude that there is insufficient evidence to reject it.\n",
    "\n",
    "The smaller the p-value, the stronger the evidence against the null hypothesis.\n",
    "A commonly used significance level is 0.05, which means that we reject the null hypothesis if the p-value is less than or equal to 0.05."
   ]
  },
  {
   "cell_type": "code",
   "execution_count": null,
   "id": "34f73942",
   "metadata": {},
   "outputs": [],
   "source": [
    "Q9. Generate a Student's t-distribution plot using Python's matplotlib library, with the degrees of freedom\n",
    "parameter set to 10.\n"
   ]
  },
  {
   "cell_type": "code",
   "execution_count": 3,
   "id": "53d50dd0",
   "metadata": {},
   "outputs": [
    {
     "data": {
      "image/png": "[encoded data removed]",
      "text/plain": [
       "<Figure size 640x480 with 1 Axes>"
      ]
     },
     "metadata": {},
     "output_type": "display_data"
    }
   ],
   "source": [
    "import matplotlib.pyplot as plt\n",
    "import numpy as np\n",
    "from scipy.stats import t\n",
    "\n",
    "df = 10  # Degrees of freedom\n",
    "\n",
    "# Generate x-values\n",
    "x = np.linspace(t.ppf(0.001, df), t.ppf(0.999, df), 100)\n",
    "\n",
    "# Plot the t-distribution\n",
    "plt.plot(x, t.pdf(x, df))\n",
    "plt.title(\"Student's t-Distribution (df=10)\")\n",
    "plt.xlabel(\"x\")\n",
    "plt.ylabel(\"PDF\")\n",
    "plt.show()\n"
   ]
  },
  {
   "cell_type": "code",
   "execution_count": null,
   "id": "8724a362",
   "metadata": {},
   "outputs": [],
   "source": [
    "Q10. Write a Python program to calculate the two-sample t-test for independent samples, given two\n",
    "random samples of equal size and a null hypothesis that the population means are equal.\n"
   ]
  },
  {
   "cell_type": "code",
   "execution_count": 4,
   "id": "b661c02d",
   "metadata": {},
   "outputs": [
    {
     "name": "stdout",
     "output_type": "stream",
     "text": [
      "Test Statistic: -5.415582977528563\n",
      "p-value: 1.7589450724918096e-07\n"
     ]
    }
   ],
   "source": [
    "import numpy as np\n",
    "from scipy.stats import ttest_ind\n",
    "\n",
    "# Generate two samples from two populations\n",
    "sample1 = np.random.normal(loc=50, scale=10, size=100)\n",
    "sample2 = np.random.normal(loc=60, scale=10, size=100)\n",
    "\n",
    "# Calculate the test statistic and p-value using a two-sample t-test\n",
    "t_statistic, p_value = ttest_ind(sample1, sample2)\n",
    "\n",
    "# Print the results\n",
    "print(\"Test Statistic:\", t_statistic)\n",
    "print(\"p-value:\", p_value)\n"
   ]
  },
  {
   "cell_type": "code",
   "execution_count": null,
   "id": "f008a78a",
   "metadata": {},
   "outputs": [],
   "source": [
    "Q11: What is Student’s t distribution? When to use the t-Distribution.\n"
   ]
  },
  {
   "cell_type": "code",
   "execution_count": null,
   "id": "47861003",
   "metadata": {},
   "outputs": [],
   "source": [
    "he Student’s t distribution is a probability distribution that is used to estimate population parameters \n",
    "when the sample size is small or the population standard deviation is unknown. \n",
    "The t-distribution is a variation of the normal distribution, but with heavier tails, which allows for greater uncertainty in the estimation of population parameters.\n",
    "\n",
    "The t-distribution is used when the sample size is small (less than 30) or the population standard deviation is unknown.\n",
    "It is commonly used in hypothesis testing and confidence interval estimation."
   ]
  },
  {
   "cell_type": "code",
   "execution_count": null,
   "id": "5c523c7f",
   "metadata": {},
   "outputs": [],
   "source": []
  },
  {
   "cell_type": "code",
   "execution_count": null,
   "id": "61b1875b",
   "metadata": {},
   "outputs": [],
   "source": [
    "Q12: What is t-statistic? State the formula for t-statistic.\n"
   ]
  },
  {
   "cell_type": "code",
   "execution_count": null,
   "id": "9ed539c2",
   "metadata": {},
   "outputs": [],
   "source": [
    "The t-statistic is a test statistic used in hypothesis testing when the population standard deviation is unknown and the sample size is small (less than 30). \n",
    "It measures the difference between the sample mean and the hypothesized population mean in terms of the standard error of the mean.\n",
    "\n",
    "The formula for the t-statistic is:\n",
    "\n",
    "t = (x̄ - μ) / (s / √n)\n",
    "\n",
    "where x̄ is the sample mean, μ is the hypothesized population mean, s is the sample standard deviation, and n is the sample size.\n",
    "The t-statistic follows a Student's t-distribution with n-1 degrees of freedom."
   ]
  },
  {
   "cell_type": "code",
   "execution_count": null,
   "id": "038bce66",
   "metadata": {},
   "outputs": [],
   "source": [
    "Q13. A coffee shop owner wants to estimate the average daily revenue for their shop. They take a random\n",
    "sample of 50 days and find the sample mean revenue to be $500 with a standard deviation of $50.\n",
    "Estimate the population mean revenue with a 95% confidence interval.\n"
   ]
  },
  {
   "cell_type": "code",
   "execution_count": null,
   "id": "a09cd690",
   "metadata": {},
   "outputs": [],
   "source": [
    "To estimate the population mean revenue with a 95% confidence interval, we can use the following formula:\n",
    "\n",
    "Confidence Interval = sample mean ± (t-value x standard error)\n",
    "\n",
    "where t-value is the critical value from the t-distribution for the desired confidence level and degrees of freedom (df = n - 1),\n",
    "and the standard error is calculated as standard deviation / sqrt(n).\n",
    "\n",
    "Substituting the given values, we get:\n",
    "\n",
    "t-value for 95% confidence level with 49 degrees of freedom is 2.009.\n",
    "\n",
    "Standard error = 50 / sqrt(50) = 7.071\n",
    "\n",
    "Confidence Interval = 500 ± (2.009 x 7.071) = (485.83, 514.17)\n",
    "\n",
    "Therefore, we can estimate the population mean revenue with 95% confidence to be between $485.83 and $514.17."
   ]
  },
  {
   "cell_type": "code",
   "execution_count": null,
   "id": "404e8a9b",
   "metadata": {},
   "outputs": [],
   "source": [
    "Q14. A researcher hypothesizes that a new drug will decrease blood pressure by 10 mmHg. They conduct a\n",
    "clinical trial with 100 patients and find that the sample mean decrease in blood pressure is 8 mmHg with a\n",
    "standard deviation of 3 mmHg. Test the hypothesis with a significance level of 0.05.\n"
   ]
  },
  {
   "cell_type": "code",
   "execution_count": null,
   "id": "e2ca218f",
   "metadata": {},
   "outputs": [],
   "source": [
    "To test the hypothesis that the new drug decreases blood pressure by 10 mmHg,\n",
    "we can use a one-sample t-test with the following null and alternative hypotheses:\n",
    "\n",
    "H0: μ = 10 (the true mean decrease in blood pressure is 10 mmHg)\n",
    "Ha: μ < 10 (the true mean decrease in blood pressure is less than 10 mmHg)\n",
    "\n",
    "The test statistic for the one-sample t-test is:\n",
    "\n",
    "t = (sample mean - hypothesized mean) / (sample standard deviation / sqrt(sample size))\n",
    "\n",
    "Substituting the given values, we get:\n",
    "\n",
    "t = (8 - 10) / (3 / sqrt(100)) = -6.67\n",
    "\n",
    "The degrees of freedom for this test are (sample size - 1) = 99.\n",
    "Using a t-distribution table or calculator, the p-value for this test is found to be very small (less than 0.0001).\n",
    "\n",
    "Since the p-value is less than the significance level of 0.05, \n",
    "we reject the null hypothesis and conclude that there is sufficient evidence to suggest that the new drug decreases blood pressure by less than 10 mmHg."
   ]
  },
  {
   "cell_type": "code",
   "execution_count": null,
   "id": "8a3ce5d1",
   "metadata": {},
   "outputs": [],
   "source": [
    "Q15. An electronics company produces a certain type of product with a mean weight of 5 pounds and a\n",
    "standard deviation of 0.5 pounds. A random sample of 25 products is taken, and the sample mean weight\n",
    "is found to be 4.8 pounds. Test the hypothesis that the true mean weight of the products is less than 5\n",
    "pounds with a significance level of 0.01.\n"
   ]
  },
  {
   "cell_type": "code",
   "execution_count": null,
   "id": "a612b0c9",
   "metadata": {},
   "outputs": [],
   "source": [
    "To test the hypothesis that the true mean weight of the products is less than 5 pounds, \n",
    "we can use a one-sample t-test with the following null and alternative hypotheses:\n",
    "\n",
    "H0: μ = 5 (the true mean weight is 5 pounds)\n",
    "Ha: μ < 5 (the true mean weight is less than 5 pounds)\n",
    "\n",
    "The test statistic for the one-sample t-test is:\n",
    "\n",
    "t = (sample mean - hypothesized mean) / (sample standard deviation / sqrt(sample size))\n",
    "\n",
    "Substituting the given values, we get:\n",
    "\n",
    "t = (4.8 - 5) / (0.5 / sqrt(25)) = -2\n",
    "\n",
    "The degrees of freedom for this test are (sample size - 1) = 24. \n",
    "Using a t-distribution table or calculator, the p-value for this test is found to be 0.027.\n",
    "\n",
    "Since the p-value is less than the significance level of 0.01, \n",
    "we reject the null hypothesis and conclude that there is sufficient evidence to suggest that the true mean weight of the products is less than 5 pounds.\n",
    "\n",
    "\n",
    "\n",
    "\n",
    "\n"
   ]
  },
  {
   "cell_type": "code",
   "execution_count": null,
   "id": "70d3aab2",
   "metadata": {},
   "outputs": [],
   "source": [
    "Q16. Two groups of students are given different study materials to prepare for a test. The first group (n1 =\n",
    "30) has a mean score of 80 with a standard deviation of 10, and the second group (n2 = 40) has a mean\n",
    "score of 75 with a standard deviation of 8. Test the hypothesis that the population means for the two\n",
    "groups are equal with a significance level of 0.01.\n"
   ]
  },
  {
   "cell_type": "code",
   "execution_count": null,
   "id": "aa1120e9",
   "metadata": {},
   "outputs": [],
   "source": [
    "Null hypothesis: µ1 = µ2 (population means for the two groups are equal)\n",
    "Alternative hypothesis: µ1 ≠ µ2 (population means for the two groups are not equal)\n",
    "\n",
    "We use a two-sample t-test for independent samples to test the hypothesis.\n",
    "\n",
    "The test statistic is given by:\n",
    "\n",
    "t = (x̄1 - x̄2) / sqrt[s^2p(1/n1 + 1/n2)]\n",
    "\n",
    "where x̄1 and x̄2 are the sample means, n1 and n2 are the sample sizes, s^2p is the pooled variance, given by:\n",
    "\n",
    "s^2p = ((n1 - 1)s1^2 + (n2 - 1)s2^2) / (n1 + n2 - 2)\n",
    "\n",
    "s1 and s2 are the sample standard deviations.\n",
    "\n",
    "Using a significance level of 0.01 and 68 degrees of freedom (df = n1 + n2 - 2), \n",
    "the critical values for a two-tailed test are ±2.617.\n",
    "\n",
    "Calculating the test statistic:\n",
    "\n",
    "t = (80 - 75) / sqrt[(10^2/30) + (8^2/40)] = 2.66\n",
    "\n",
    "Since 2.66 > 2.617, we reject the null hypothesis at the 0.01 level of significance.\n",
    "We can conclude that there is sufficient evidence to suggest that the population means for the two groups are not equal."
   ]
  },
  {
   "cell_type": "code",
   "execution_count": null,
   "id": "c2cdd84a",
   "metadata": {},
   "outputs": [],
   "source": [
    "Q17. A marketing company wants to estimate the average number of ads watched by viewers during a TV\n",
    "program. They take a random sample of 50 viewers and find that the sample mean is 4 with a standard\n",
    "deviation of 1.5. Estimate the population mean with a 99% confidence interval."
   ]
  },
  {
   "cell_type": "code",
   "execution_count": null,
   "id": "9c9b91d4",
   "metadata": {},
   "outputs": [],
   "source": [
    "Using a 99% confidence level, the critical value for a two-tailed test is ±2.576.\n",
    "\n",
    "The margin of error (E) is given by:\n",
    "\n",
    "E = tα/2 * (s / sqrt(n))\n",
    "\n",
    "where tα/2 is the critical value, s is the sample standard deviation, and n is the sample size.\n",
    "\n",
    "E = 2.576 * (1.5 / sqrt(50)) = 0.54\n",
    "\n",
    "The confidence interval is given by:\n",
    "\n",
    "CI = (x̄ - E, x̄ + E)\n",
    "\n",
    "where x̄ is the sample mean.\n",
    "\n",
    "CI = (4 - 0.54, 4 + 0.54) = (3.46, 4.54)\n",
    "\n",
    "Therefore, we can say with 99% confidence that the population mean number of ads watched by viewers during a TV program is between 3.46 and 4.54."
   ]
  },
  {
   "cell_type": "code",
   "execution_count": null,
   "id": "b8b7b13a",
   "metadata": {},
   "outputs": [],
   "source": []
  },
  {
   "cell_type": "code",
   "execution_count": null,
   "id": "a4abac94",
   "metadata": {},
   "outputs": [],
   "source": []
  },
  {
   "cell_type": "code",
   "execution_count": null,
   "id": "ac3d68ba",
   "metadata": {},
   "outputs": [],
   "source": []
  }
 ],
 "metadata": {
  "kernelspec": {
   "display_name": "Python 3 (ipykernel)",
   "language": "python",
   "name": "python3"
  },
  "language_info": {
   "codemirror_mode": {
    "name": "ipython",
    "version": 3
   },
   "file_extension": ".py",
   "mimetype": "text/x-python",
   "name": "python",
   "nbconvert_exporter": "python",
   "pygments_lexer": "ipython3",
   "version": "3.9.13"
  }
 },
 "nbformat": 4,
 "nbformat_minor": 5
}
