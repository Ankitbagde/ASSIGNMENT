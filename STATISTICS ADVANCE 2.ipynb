{
 "cells": [
  {
   "cell_type": "code",
   "execution_count": null,
   "id": "27250020",
   "metadata": {},
   "outputs": [],
   "source": [
    "Q1. What is the Probability density function?\n"
   ]
  },
  {
   "cell_type": "code",
   "execution_count": null,
   "id": "bcde08b9",
   "metadata": {},
   "outputs": [],
   "source": [
    "ANS-The probability density function (PDF) is a function that describes the relative likelihood for a random variable to take on a given value. \n",
    "In other words, the PDF describes the probability distribution of a continuous random variable. \n",
    "The PDF is a non-negative function,\n",
    "and the area under the curve of the PDF over the entire range of possible values of the random variable is equal to 1."
   ]
  },
  {
   "cell_type": "code",
   "execution_count": null,
   "id": "448f5717",
   "metadata": {},
   "outputs": [],
   "source": [
    "Q2. What are the types of Probability distribution?\n"
   ]
  },
  {
   "cell_type": "code",
   "execution_count": null,
   "id": "24500c00",
   "metadata": {},
   "outputs": [],
   "source": [
    "ANS-There are several types of probability distributions, including:\n",
    "\n",
    "1.Bernoulli distribution\n",
    "2.Binomial distribution\n",
    "3.Poisson distribution\n",
    "4.Normal (Gaussian) distribution\n",
    "5.Student's t-distribution\n",
    "6.Chi-squared distribution\n",
    "7.Exponential distribution\n",
    "8.Uniform distribution\n",
    "9.Gamma distribution"
   ]
  },
  {
   "cell_type": "code",
   "execution_count": null,
   "id": "b6459da0",
   "metadata": {},
   "outputs": [],
   "source": [
    "Q3. Write a Python function to calculate the probability density function of a normal distribution with\n",
    "given mean and standard deviation at a given point.\n"
   ]
  },
  {
   "cell_type": "code",
   "execution_count": null,
   "id": "760f423e",
   "metadata": {},
   "outputs": [],
   "source": [
    "This function takes three arguments:\n",
    "\n",
    "x: the value at which to evaluate the PDF\n",
    "mu: the mean of the normal distribution\n",
    "sigma: the standard deviation of the normal distribution\n",
    "The function returns the PDF of the normal distribution at the given value x"
   ]
  },
  {
   "cell_type": "code",
   "execution_count": 1,
   "id": "517412fd",
   "metadata": {},
   "outputs": [],
   "source": [
    "import math\n",
    "\n",
    "def normal_pdf(x, mu, sigma):\n",
    "    \"\"\"\n",
    "    Calculate the probability density function of a normal distribution\n",
    "    at a given point x, given the mean mu and standard deviation sigma.\n",
    "    \"\"\"\n",
    "    exponent = -((x - mu) ** 2) / (2 * sigma ** 2)\n",
    "    coefficient = 1 / (sigma * math.sqrt(2 * math.pi))\n",
    "    return coefficient * math.exp(exponent)\n"
   ]
  },
  {
   "cell_type": "code",
   "execution_count": null,
   "id": "a54135a6",
   "metadata": {},
   "outputs": [],
   "source": [
    "Q4. What are the properties of Binomial distribution? Give two examples of events where binomial\n",
    "distribution can be applied.\n"
   ]
  },
  {
   "cell_type": "code",
   "execution_count": null,
   "id": "10567f22",
   "metadata": {},
   "outputs": [],
   "source": [
    "ANS-The binomial distribution is a discrete probability distribution that describes the number of successes in a fixed number of independent trials, \n",
    "where each trial has the same probability of success. The binomial distribution has the following properties:\n",
    "\n",
    "The trials are independent.\n",
    "Each trial can have only two possible outcomes, success or failure.\n",
    "The probability of success is the same for each trial.\n",
    "The number of trials is fixed.\n",
    "The random variable is the number of successes in the fixed number of trials.\n",
    "Two examples of events where binomial distribution can be applied are:\n",
    "\n",
    "Flipping a coin multiple times and counting the number of heads.\n",
    "Testing a drug on a group of patients and counting the number of patients who experience a positive outcome."
   ]
  },
  {
   "cell_type": "code",
   "execution_count": null,
   "id": "fd84e166",
   "metadata": {},
   "outputs": [],
   "source": [
    "Q5. Generate a random sample of size 1000 from a binomial distribution with probability of success 0.4\n",
    "and plot a histogram of the results using matplotlib.\n"
   ]
  },
  {
   "cell_type": "code",
   "execution_count": null,
   "id": "2d45e8a0",
   "metadata": {},
   "outputs": [],
   "source": [
    "This code first generates a random sample of size 1000 from a binomial distribution with n=10 trials and p=0.4 probability of success using the np.random.binomial function.\n",
    "It then plots a histogram of the results using the plt.hist function, with bin edges at np.arange(n+2)-0.5 to align the bins with the integers. \n",
    "The density=True argument normalizes the histogram so that the area under the curve is equal to 1."
   ]
  },
  {
   "cell_type": "code",
   "execution_count": 2,
   "id": "526f63ed",
   "metadata": {},
   "outputs": [
    {
     "data": {
      "image/png": "[encoded data removed]",
      "text/plain": [
       "<Figure size 640x480 with 1 Axes>"
      ]
     },
     "metadata": {},
     "output_type": "display_data"
    }
   ],
   "source": [
    "import numpy as np\n",
    "import matplotlib.pyplot as plt\n",
    "\n",
    "# Generate random sample of size 1000 from a binomial distribution\n",
    "n = 10 # number of trials\n",
    "p = 0.4 # probability of success\n",
    "sample = np.random.binomial(n, p, size=1000)\n",
    "\n",
    "# Plot histogram of the results\n",
    "plt.hist(sample, bins=np.arange(n+2)-0.5, density=True)\n",
    "plt.xlabel('Number of successes')\n",
    "plt.ylabel('Probability')\n",
    "plt.title('Binomial distribution with n=10, p=0.4')\n",
    "plt.show()\n"
   ]
  },
  {
   "cell_type": "code",
   "execution_count": null,
   "id": "cf8913ed",
   "metadata": {},
   "outputs": [],
   "source": [
    "Q6. Write a Python function to calculate the cumulative distribution function of a Poisson distribution\n",
    "with given mean at a given point.\n"
   ]
  },
  {
   "cell_type": "code",
   "execution_count": 3,
   "id": "bee340d0",
   "metadata": {},
   "outputs": [],
   "source": [
    "import math\n",
    "\n",
    "def poisson_cdf(k, lamb):\n",
    "    \"\"\"\n",
    "    Calculate the cumulative distribution function of a Poisson distribution\n",
    "    with mean lamb at the point k.\n",
    "    \"\"\"\n",
    "    cdf = 0\n",
    "    for i in range(k+1):\n",
    "        cdf += math.exp(-lamb) * lamb**i / math.factorial(i)\n",
    "    return cdf\n"
   ]
  },
  {
   "cell_type": "code",
   "execution_count": null,
   "id": "8113937b",
   "metadata": {},
   "outputs": [],
   "source": [
    "This function takes two arguments:\n",
    "\n",
    "k: the point at which to evaluate the CDF\n",
    "lamb: the mean of the Poisson distribution\n",
    "The function returns the probability that a Poisson-distributed random variable with mean lamb is less than or equal to k."
   ]
  },
  {
   "cell_type": "code",
   "execution_count": null,
   "id": "f92ab955",
   "metadata": {},
   "outputs": [],
   "source": [
    "Q7. How Binomial distribution different from Poisson distribution?\n"
   ]
  },
  {
   "cell_type": "code",
   "execution_count": null,
   "id": "c9791dda",
   "metadata": {},
   "outputs": [],
   "source": [
    "ANS-The main difference between Binomial distribution and Poisson distribution is that Binomial distribution deals with a fixed number of trials with a binary outcome (success or failure) \n",
    "whereas Poisson distribution deals with the number of occurrences of a certain event in a fixed interval of time or space.\n",
    "Binomial distribution requires both the number of trials and the probability of success for each trial, while Poisson distribution only requires the average rate of occurrence.\n",
    "\n"
   ]
  },
  {
   "cell_type": "code",
   "execution_count": null,
   "id": "4d1e3e01",
   "metadata": {},
   "outputs": [],
   "source": [
    "Q8. Generate a random sample of size 1000 from a Poisson distribution with mean 5 and calculate the\n",
    "sample mean and variance.\n"
   ]
  },
  {
   "cell_type": "code",
   "execution_count": 4,
   "id": "a881ef2e",
   "metadata": {},
   "outputs": [
    {
     "name": "stdout",
     "output_type": "stream",
     "text": [
      "Sample Mean: 4.96\n",
      "Sample Variance: 4.9464\n"
     ]
    }
   ],
   "source": [
    "import numpy as np\n",
    "\n",
    "# Generate the random sample\n",
    "sample = np.random.poisson(5, size=1000)\n",
    "\n",
    "# Calculate the sample mean and variance\n",
    "sample_mean = np.mean(sample)\n",
    "sample_var = np.var(sample)\n",
    "\n",
    "print(\"Sample Mean:\", sample_mean)\n",
    "print(\"Sample Variance:\", sample_var)\n"
   ]
  },
  {
   "cell_type": "code",
   "execution_count": null,
   "id": "86f87303",
   "metadata": {},
   "outputs": [],
   "source": [
    "Q9. How mean and variance are related in Binomial distribution and Poisson distribution?\n"
   ]
  },
  {
   "cell_type": "code",
   "execution_count": null,
   "id": "52a0973c",
   "metadata": {},
   "outputs": [],
   "source": [
    "ANS-In Binomial distribution, the mean and variance are related as follows:\n",
    "\n",
    "mean = n * p\n",
    "variance = n * p * (1 - p)\n",
    "\n",
    "where n is the number of trials and p is the probability of success for each trial.\n",
    "\n",
    "In Poisson distribution, the mean and variance are equal and are both equal to the average rate of occurrence, denoted by λ.\n",
    "\n",
    "mean = variance = λ\n",
    "\n"
   ]
  },
  {
   "cell_type": "code",
   "execution_count": null,
   "id": "155821b9",
   "metadata": {},
   "outputs": [],
   "source": [
    "Q10. In normal distribution with respect to mean position, where does the least frequent data appear?"
   ]
  },
  {
   "cell_type": "code",
   "execution_count": null,
   "id": "af336ead",
   "metadata": {},
   "outputs": [],
   "source": [
    "ANS--In a normal distribution, the least frequent data appears in the tails of the distribution, farthest away from the mean. \n",
    "The frequency of data points decreases rapidly as they move away from the mean in either direction, creating the characteristic bell-shaped curve. \n",
    "The majority of the data is clustered around the mean, with progressively fewer data points as you move towards the tails. \n",
    "The point where the tails begin is defined by the standard deviation of the distribution."
   ]
  },
  {
   "cell_type": "code",
   "execution_count": null,
   "id": "5eef0b5b",
   "metadata": {},
   "outputs": [],
   "source": []
  },
  {
   "cell_type": "code",
   "execution_count": null,
   "id": "ae4d2438",
   "metadata": {},
   "outputs": [],
   "source": []
  }
 ],
 "metadata": {
  "kernelspec": {
   "display_name": "Python 3 (ipykernel)",
   "language": "python",
   "name": "python3"
  },
  "language_info": {
   "codemirror_mode": {
    "name": "ipython",
    "version": 3
   },
   "file_extension": ".py",
   "mimetype": "text/x-python",
   "name": "python",
   "nbconvert_exporter": "python",
   "pygments_lexer": "ipython3",
   "version": "3.9.13"
  }
 },
 "nbformat": 4,
 "nbformat_minor": 5
}
