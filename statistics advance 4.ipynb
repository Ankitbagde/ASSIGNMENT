{
 "cells": [
  {
   "cell_type": "code",
   "execution_count": null,
   "id": "3f682241",
   "metadata": {},
   "outputs": [],
   "source": [
    "Q1: What is the difference between a t-test and a z-test? Provide an example scenario where you would\n",
    "use each type of test.\n"
   ]
  },
  {
   "cell_type": "code",
   "execution_count": null,
   "id": "387ce7de",
   "metadata": {},
   "outputs": [],
   "source": [
    "The t-test and z-test are both statistical tests used to make inferences about population parameters using sample data.\n",
    "The main difference between the two tests is the type of data they can be applied to.\n",
    "\n",
    "A z-test is used when the sample size is large (typically greater than 30) and the population standard deviation is known. \n",
    "For example, a researcher may use a z-test to compare the mean heights of two populations of adults, assuming that the standard deviation of heights is known.\n",
    "\n",
    "On the other hand, a t-test is used when the sample size is small (typically less than 30) or the population standard deviation is unknown. \n",
    "For example, a researcher may use a t-test to compare the mean scores of two groups of students on a test, where the population standard deviation is not known."
   ]
  },
  {
   "cell_type": "code",
   "execution_count": null,
   "id": "c01360a0",
   "metadata": {},
   "outputs": [],
   "source": [
    "Q2: Differentiate between one-tailed and two-tailed tests.\n"
   ]
  },
  {
   "cell_type": "code",
   "execution_count": null,
   "id": "5d257f4d",
   "metadata": {},
   "outputs": [],
   "source": [
    "In hypothesis testing, a one-tailed test is a test of significance where the null hypothesis is rejected if the sample statistic is either significantly larger or smaller than the hypothesized value in only one direction. \n",
    "For example, a one-tailed test might be used to determine if a new drug is more effective than an existing drug.\n",
    "\n",
    "In contrast, a two-tailed test is a test of significance where the null hypothesis is rejected if\n",
    "the sample statistic is either significantly larger or smaller than the hypothesized value in either direction. \n",
    "For example, a two-tailed test might be used to determine if there is a significant difference in the mean height of men and women."
   ]
  },
  {
   "cell_type": "code",
   "execution_count": null,
   "id": "e53a7273",
   "metadata": {},
   "outputs": [],
   "source": [
    "Q3: Explain the concept of Type 1 and Type 2 errors in hypothesis testing. Provide an example scenario for\n",
    "each type of error.\n"
   ]
  },
  {
   "cell_type": "code",
   "execution_count": null,
   "id": "2ffe3aac",
   "metadata": {},
   "outputs": [],
   "source": [
    " Type 1 and Type 2 errors are two types of errors that can occur in hypothesis testing.\n",
    "\n",
    "Type 1 error occurs when the null hypothesis is rejected even though it is true. \n",
    "In other words, the researcher concludes that there is a significant effect or difference between the groups, when in reality there is no effect or difference. \n",
    "An example of a Type 1 error is a medical researcher concluding that a new drug is effective when it is actually not.\n",
    "\n",
    "Type 2 error occurs when the null hypothesis is accepted even though it is false.\n",
    "In other words, the researcher concludes that there is no significant effect or difference between the groups, \n",
    "when in reality there is an effect or difference. An example of a Type 2 error is a medical researcher concluding that a new drug is not effective when it actually is."
   ]
  },
  {
   "cell_type": "code",
   "execution_count": null,
   "id": "ea798f50",
   "metadata": {},
   "outputs": [],
   "source": [
    "Q4: Explain Bayes's theorem with an example.\n"
   ]
  },
  {
   "cell_type": "code",
   "execution_count": null,
   "id": "d8a8365c",
   "metadata": {},
   "outputs": [],
   "source": [
    "Bayes's theorem is a mathematical formula that describes the probability of an event occurring based on prior knowledge of conditions that might be related to the event. \n",
    "The theorem is named after the English statistician Thomas Bayes.\n",
    "\n",
    "Bayes's theorem can be written as P(A|B) = P(B|A) * P(A) / P(B), \n",
    "where P(A|B) is the probability of event A occurring given that event B has occurred, P(B|A) is the probability of event B occurring given that event A has occurred, \n",
    "P(A) is the prior probability of event A occurring, and P(B) is the prior probability of event B occurring.\n",
    "\n",
    "For example, suppose a medical test for a rare disease is known to be accurate 99% of the time. \n",
    "If 1 in 10,000 people have the disease, what is the probability that a person who tests positive actually has the disease? Using Bayes's theorem, \n",
    "we can calculate that the probability of having the disease given a positive test result is only about 0.98%."
   ]
  },
  {
   "cell_type": "code",
   "execution_count": null,
   "id": "25dfcf44",
   "metadata": {},
   "outputs": [],
   "source": [
    "Q5: What is a confidence interval? How to calculate the confidence interval, explain with an example.\n"
   ]
  },
  {
   "cell_type": "code",
   "execution_count": null,
   "id": "765160a9",
   "metadata": {},
   "outputs": [],
   "source": [
    "A confidence interval is a range of values that is likely to contain the true population parameter with a certain level of confidence. \n",
    "It is a way to estimate an unknown population parameter based on the information provided by a sample.\n",
    "\n",
    "To calculate a confidence interval, you need to determine the level of confidence, the sample size, the sample mean, and the standard deviation. \n",
    "The formula for a confidence interval for the population mean is:\n",
    "\n",
    "Confidence interval = sample mean ± (z-score or t-score) x (standard deviation / square root of sample size)\n",
    "\n",
    "For example, suppose we want to estimate the average height of students in a particular school with a 95% confidence interval.\n",
    "We take a random sample of 50 students and find that the sample mean height is 170 cm with a standard deviation of 5 cm. Assuming a normal distribution, \n",
    "we can use a z-score for a 95% confidence level, which is 1.96. Using the formula, the 95% confidence interval would be:\n",
    "\n",
    "Confidence interval = 170 ± 1.96 x (5 / sqrt(50)) = (167.35, 172.65)\n",
    "\n",
    "This means we are 95% confident that the true population mean height of the students is between 167.35 cm and 172.65 cm.\n",
    "\n"
   ]
  },
  {
   "cell_type": "code",
   "execution_count": null,
   "id": "4e59d192",
   "metadata": {},
   "outputs": [],
   "source": [
    "Q6. Use Bayes' Theorem to calculate the probability of an event occurring given prior knowledge of the\n",
    "event's probability and new evidence. Provide a sample problem and solution.\n"
   ]
  },
  {
   "cell_type": "code",
   "execution_count": null,
   "id": "b3c6e3aa",
   "metadata": {},
   "outputs": [],
   "source": [
    "Bayes' Theorem is a mathematical formula used to update the probability of an event occurring based on new evidence. It is commonly used in fields such as statistics, probability theory, and machine learning.\n",
    "\n",
    "The formula for Bayes' Theorem is:\n",
    "\n",
    "P(A|B) = P(B|A) * P(A) / P(B)\n",
    "\n",
    "where:\n",
    "\n",
    "P(A|B) is the probability of event A occurring given the new evidence B\n",
    "P(B|A) is the probability of the new evidence B occurring given that event A has occurred\n",
    "P(A) is the prior probability of event A occurring before the new evidence is taken into account\n",
    "P(B) is the probability of the new evidence B occurring\n",
    "For example, suppose we want to calculate the probability of a person having cancer given that they have tested positive for a certain diagnostic test. We know from previous studies that the probability of a person having cancer is 0.01 (prior probability). We also know that the probability of the test correctly identifying a person with cancer is 0.95 (sensitivity) and the probability of the test correctly identifying a person without cancer is 0.99 (specificity). If a person tests positive for the test, what is the probability that they actually have cancer?\n",
    "\n",
    "Using Bayes' Theorem, we can calculate the probability as follows:\n",
    "\n",
    "P(Cancer|Positive test) = P(Positive test|Cancer) * P(Cancer) / P(Positive test)\n",
    "\n",
    "P(Positive test|Cancer) = sensitivity = 0.95\n",
    "P(Cancer) = prior probability = 0.01\n",
    "P(Positive test) = P(Positive test|Cancer) * P(Cancer) + P(Positive test|No cancer) * P(No cancer)\n",
    "P(Positive test|No cancer) = 1 - specificity = 0.01\n",
    "P(No cancer) = 1 - P(Cancer) = 0.99\n",
    "\n",
    "P(Positive test) = 0.95 * 0.01 + 0.01 * 0.99 = 0.0194\n",
    "\n",
    "Therefore,\n",
    "\n",
    "P(Cancer|Positive test) = 0.95 * 0.01 / 0.0194 = 0.4897\n",
    "\n",
    "This means that the probability of a person having cancer given a positive test result is around 49%."
   ]
  },
  {
   "cell_type": "code",
   "execution_count": null,
   "id": "22b60993",
   "metadata": {},
   "outputs": [],
   "source": [
    "Q7. Calculate the 95% confidence interval for a sample of data with a mean of 50 and a standard deviation\n",
    "of 5. Interpret the results.\n"
   ]
  },
  {
   "cell_type": "code",
   "execution_count": null,
   "id": "ba5ff71c",
   "metadata": {},
   "outputs": [],
   "source": [
    "To calculate the 95% confidence interval, we need to use the formula:\n",
    "\n",
    "Confidence interval = sample mean +/- (z-value) x (standard error)\n",
    "\n",
    "Here, the sample mean is 50, the standard deviation is 5, and the sample size is not given. \n",
    "As we don't know the sample size, we will assume a large sample size and use the z-value of 1.96 for a 95% confidence level.\n",
    "\n",
    "The standard error can be calculated as:\n",
    "\n",
    "Standard error = standard deviation / sqrt(sample size)\n",
    "\n",
    "As the sample size is not given, we cannot calculate the standard error.\n",
    "However, if we assume a large sample size, we can use the standard error formula with an assumed sample size. For example, if we assume a sample size of 100, the standard error would be:\n",
    "\n",
    "Standard error = 5 / sqrt(100) = 0.5\n",
    "\n",
    "Thus, the 95% confidence interval would be:\n",
    "\n",
    "50 +/- (1.96) x (0.5) = (49.01, 50.99)\n",
    "\n",
    "This means that we are 95% confident that the true population mean falls between 49.01 and 50.99 based on our sample data.\n",
    "\n",
    "Note: It is important to note that assuming a large sample size may not always be appropriate and may result in inaccurate confidence intervals.\n",
    "    It is always best to use the actual sample size if available"
   ]
  },
  {
   "cell_type": "code",
   "execution_count": null,
   "id": "322cbb01",
   "metadata": {},
   "outputs": [],
   "source": [
    "Q8. What is the margin of error in a confidence interval? How does sample size affect the margin of error?\n",
    "Provide an example of a scenario where a larger sample size would result in a smaller margin of error.\n"
   ]
  },
  {
   "cell_type": "code",
   "execution_count": null,
   "id": "4034b188",
   "metadata": {},
   "outputs": [],
   "source": [
    "The margin of error is the range of values that is added or subtracted from the sample mean to obtain the confidence interval.\n",
    "It represents the precision of the estimate and is influenced by several factors, including sample size, population variability, and level of confidence.\n",
    "\n",
    "Sample size has a significant impact on the margin of error. \n",
    "As the sample size increases, the margin of error decreases because the larger sample provides more information about the population. \n",
    "This leads to more accurate estimates, and the confidence interval becomes narrower.\n",
    "\n",
    "For example, suppose a political pollster wants to estimate the percentage of voters who support a particular candidate in a city with a population of 1 million. \n",
    "A sample of 1000 voters is randomly selected, and the estimated support for the candidate is 55%, with a margin of error of 3%. If the pollster had taken a smaller sample of 100 voters, the margin of error would have been higher, say around 10%. With a larger sample size of 10,000 voters, the margin of error would have been lower, perhaps 1%"
   ]
  },
  {
   "cell_type": "code",
   "execution_count": null,
   "id": "9e16f876",
   "metadata": {},
   "outputs": [],
   "source": [
    "Q9. Calculate the z-score for a data point with a value of 75, a population mean of 70, and a population\n",
    "standard deviation of 5. Interpret the results.\n"
   ]
  },
  {
   "cell_type": "code",
   "execution_count": null,
   "id": "e8a845c9",
   "metadata": {},
   "outputs": [],
   "source": [
    "Calculate the z-score for a data point with a value of 75, a population mean of 70, and a population\n",
    "standard deviation of 5. Interpret the results.\n",
    "\n",
    "The formula to calculate the z-score is:\n",
    "\n",
    "z = (x - μ) / (σ / √n)\n",
    "\n",
    "where x is the data point, μ is the population mean, σ is the population standard deviation, and n is the sample size (if known).\n",
    "\n",
    "Substituting the given values in the formula, we get:\n",
    "\n",
    "z = (75 - 70) / (5 / 1) = 1\n",
    "\n",
    "This means that the data point of 75 is one standard deviation above the population mean of 70.\n",
    "In other words, it is higher than the average value by one standard deviation. \n",
    "The positive value of the z-score indicates that the data point is above the mean.\n",
    "\n",
    "\n",
    "\n",
    "\n",
    "\n"
   ]
  },
  {
   "cell_type": "code",
   "execution_count": null,
   "id": "600235a6",
   "metadata": {},
   "outputs": [],
   "source": [
    "Q10. In a study of the effectiveness of a new weight loss drug, a sample of 50 participants lost an average\n",
    "of 6 pounds with a standard deviation of 2.5 pounds. Conduct a hypothesis test to determine if the drug is\n",
    "significantly effective at a 95% confidence level using a t-test.\n"
   ]
  },
  {
   "cell_type": "code",
   "execution_count": null,
   "id": "ecfec74a",
   "metadata": {},
   "outputs": [],
   "source": [
    "In a study of the effectiveness of a new weight loss drug, a sample of 50 participants lost an average of 6 pounds with a standard deviation of 2.5 pounds.\n",
    "Conduct a hypothesis test to determine if the drug is significantly effective at a 95% confidence level using a t-test.\n",
    "\n",
    "To test if the drug is significantly effective, we need to set up our null and alternative hypotheses.\n",
    "\n",
    "Null hypothesis: The new weight loss drug is not significantly effective.\n",
    "Alternative hypothesis: The new weight loss drug is significantly effective.\n",
    "\n",
    "We can use a one-sample t-test to test the hypothesis with a significance level of 0.05.\n",
    "The formula for t-statistic is:\n",
    "\n",
    "t = (x̄ - μ) / (s / sqrt(n))\n",
    "\n",
    "where x̄ is the sample mean, μ is the hypothesized population mean (in this case, 0 because we are testing if the drug has any effect), \n",
    "s is the sample standard deviation, and n is the sample size.\n",
    "\n",
    "Substituting the values, we get:\n",
    "\n",
    "t = (6 - 0) / (2.5 / sqrt(50)) = 12\n",
    "\n",
    "Using a t-distribution table with 49 degrees of freedom (n-1), \n",
    "we find the critical t-value for a two-tailed test with 0.05 significance level to be ±2.009. \n",
    "Since our calculated t-value (12) is greater than the critical t-value, we can reject the null hypothesis and conclude that \n",
    "the new weight loss drug is significantly effective at a 95% confidence level."
   ]
  },
  {
   "cell_type": "code",
   "execution_count": null,
   "id": "f7f31ca9",
   "metadata": {},
   "outputs": [],
   "source": [
    "Q11. In a survey of 500 people, 65% reported being satisfied with their current job. Calculate the 95%\n",
    "confidence interval for the true proportion of people who are satisfied with their job.\n"
   ]
  },
  {
   "cell_type": "code",
   "execution_count": null,
   "id": "d5905633",
   "metadata": {},
   "outputs": [],
   "source": [
    " In a survey of 500 people, 65% reported being satisfied with their current job. \n",
    "    Calculate the 95% confidence interval for the true proportion of people who are satisfied with their job.\n",
    "\n",
    "To calculate the confidence interval for the true proportion of people who are satisfied with their job, we can use the formula:\n",
    "\n",
    "CI = p̂ ± z*sqrt(p̂(1-p̂)/n)\n",
    "\n",
    "where p̂ is the sample proportion, z is the z-score for the desired confidence level (in this case, 1.96 for a 95% confidence level), and n is the sample size.\n",
    "\n",
    "Substituting the values, we get:\n",
    "\n",
    "CI = 0.65 ± 1.96sqrt(0.650.35/500)\n",
    "\n",
    "CI = 0.65 ± 0.044\n",
    "\n",
    "The 95% confidence interval for the true proportion of people who are satisfied with their job is (0.606, 0.694). This means that we can be 95% confident that the true proportion of people who are satisfied with their job is between 60.6% and 69.4%."
   ]
  },
  {
   "cell_type": "code",
   "execution_count": null,
   "id": "991d34c6",
   "metadata": {},
   "outputs": [],
   "source": [
    "Q12. A researcher is testing the effectiveness of two different teaching methods on student performance.\n",
    "Sample A has a mean score of 85 with a standard deviation of 6, while sample B has a mean score of 82\n",
    "with a standard deviation of 5. Conduct a hypothesis test to determine if the two teaching methods have a\n",
    "significant difference in student performance using a t-test with a significance level of 0.01.\n"
   ]
  },
  {
   "cell_type": "code",
   "execution_count": null,
   "id": "5545d8d4",
   "metadata": {},
   "outputs": [],
   "source": [
    ": A researcher is testing the effectiveness of two different teaching methods on student performance. \n",
    "    Sample A has a mean score of 85 with a standard deviation of 6, while sample B has a mean score of 82 with a standard deviation of 5. Conduct a hypothesis test to determine if the two teaching methods have a significant difference in student performance using a t-test with a significance level of 0.01.\n",
    "\n",
    "Solution:\n",
    "The null hypothesis is that there is no significant difference in student performance between the two teaching methods. \n",
    "The alternative hypothesis is that there is a significant difference in student performance between the two teaching methods.\n",
    "\n",
    "H0: μA = μB\n",
    "Ha: μA ≠ μB\n",
    "\n",
    "The significance level is α = 0.01, which means we want to be 99% confident in our decision.\n",
    "\n",
    "We will use a two-sample t-test to compare the means of the two samples. We can assume that the population variances are equal.\n",
    "\n",
    "The test statistic can be calculated as:\n",
    "\n",
    "t = (x̄A - x̄B) / (sp * sqrt(1/nA + 1/nB))\n",
    "\n",
    "where x̄A and x̄B are the sample means, nA and nB are the sample sizes, and sp is the pooled standard deviation:\n",
    "\n",
    "sp = sqrt(((nA-1)*sA^2 + (nB-1)*sB^2) / (nA+nB-2))\n",
    "\n",
    "sA and sB are the sample standard deviations.\n",
    "\n",
    "Substituting the values:\n",
    "\n",
    "t = (85 - 82) / (sqrt(((29)*6^2 + (39)*5^2) / (68)) * sqrt(1/30 + 1/40))\n",
    "t = 2.22\n",
    "\n",
    "The degrees of freedom for the t-test is calculated as:\n",
    "\n",
    "df = nA + nB - 2\n",
    "df = 68\n",
    "\n",
    "Using a t-distribution table with 68 degrees of freedom and a significance level of 0.01, the critical values are ±2.646.\n",
    "\n",
    "Since the calculated t-value of 2.22 is within the range of -2.646 to 2.646, we fail to reject the null hypothesis.\n",
    "Therefore, we conclude that there is not enough evidence to suggest a significant difference in student performance between the two teaching methods."
   ]
  },
  {
   "cell_type": "code",
   "execution_count": null,
   "id": "a26a444a",
   "metadata": {},
   "outputs": [],
   "source": [
    "Q13. A population has a mean of 60 and a standard deviation of 8. A sample of 50 observations has a mean\n",
    "of 65. Calculate the 90% confidence interval for the true population mean.\n"
   ]
  },
  {
   "cell_type": "code",
   "execution_count": null,
   "id": "4a975a76",
   "metadata": {},
   "outputs": [],
   "source": [
    "A population has a mean of 60 and a standard deviation of 8. A sample of 50 observations has a mean of 65. \n",
    "Calculate the 90% confidence interval for the true population mean.\n",
    "\n",
    "Solution:\n",
    "We are given:\n",
    "Population mean (μ) = 60\n",
    "Population standard deviation (σ) = 8\n",
    "Sample size (n) = 50\n",
    "Sample mean (x̄) = 65\n",
    "Confidence level = 90%\n",
    "\n",
    "The formula to calculate the confidence interval is:\n",
    "\n",
    "CI = x̄ ± z*(σ/√n)\n",
    "\n",
    "where z is the z-score corresponding to the confidence level. For a 90% confidence level, the z-score is 1.645.\n",
    "\n",
    "Substituting the values:\n",
    "\n",
    "CI = 65 ± 1.645*(8/√50)\n",
    "\n",
    "CI = (62.16, 67.84)\n",
    "\n",
    "Therefore, we can say with 90% confidence that the true population mean is between 62.16 and 67.84."
   ]
  },
  {
   "cell_type": "code",
   "execution_count": null,
   "id": "2fb0f69e",
   "metadata": {},
   "outputs": [],
   "source": [
    "Q14. In a study of the effects of caffeine on reaction time, a sample of 30 participants had an average\n",
    "reaction time of 0.25 seconds with a standard deviation of 0.05 seconds. Conduct a hypothesis test to\n",
    "determine if the caffeine has a significant effect on reaction time at a 90% confidence level using a t-test."
   ]
  },
  {
   "cell_type": "code",
   "execution_count": null,
   "id": "dece7b28",
   "metadata": {},
   "outputs": [],
   "source": [
    "To conduct a hypothesis test to determine if caffeine has a significant effect on reaction time, we can use a t-test with a 90% confidence level. \n",
    "The null hypothesis (H0) is that caffeine has no significant effect on reaction time, while the alternative hypothesis (Ha) is that caffeine does have a significant effect on reaction time.\n",
    "\n",
    "The t-test formula is given by:\n",
    "\n",
    "t = (x̄ - μ) / (s / sqrt(n))\n",
    "\n",
    "where:\n",
    "x̄ is the sample mean (0.25 seconds)\n",
    "μ is the population mean (assumed to be 0.25 seconds under the null hypothesis)\n",
    "s is the sample standard deviation (0.05 seconds)\n",
    "n is the sample size (30)\n",
    "\n",
    "Using this formula, we can calculate the t-value as:\n",
    "\n",
    "t = (0.25 - 0.25) / (0.05 / sqrt(30))\n",
    "t = 0 / 0.0091\n",
    "t = 0\n",
    "\n",
    "The t-value is 0, which means that there is no significant difference between the sample mean and the population mean. \n",
    "Therefore, we fail to reject the null hypothesis and conclude that caffeine has no significant effect on reaction time at a 90% confidence level."
   ]
  }
 ],
 "metadata": {
  "kernelspec": {
   "display_name": "Python 3 (ipykernel)",
   "language": "python",
   "name": "python3"
  },
  "language_info": {
   "codemirror_mode": {
    "name": "ipython",
    "version": 3
   },
   "file_extension": ".py",
   "mimetype": "text/x-python",
   "name": "python",
   "nbconvert_exporter": "python",
   "pygments_lexer": "ipython3",
   "version": "3.9.13"
  }
 },
 "nbformat": 4,
 "nbformat_minor": 5
}
