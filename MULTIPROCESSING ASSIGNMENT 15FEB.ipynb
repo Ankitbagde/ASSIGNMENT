{
 "cells": [
  {
   "cell_type": "code",
   "execution_count": null,
   "id": "8c8d8d0a",
   "metadata": {},
   "outputs": [],
   "source": [
    "Q1. What is multiprocessing in python? Why is it useful?\n"
   ]
  },
  {
   "cell_type": "code",
   "execution_count": null,
   "id": "729dc600",
   "metadata": {},
   "outputs": [],
   "source": [
    "Multiprocessing in Python is a technique used to run multiple processes simultaneously to achieve parallelism. It allows multiple CPU cores to be used to execute code concurrently, thus improving the performance of the program. Unlike multithreading, which uses multiple threads within a single process, multiprocessing creates multiple processes, each with its own interpreter and memory space.\n",
    "\n",
    "Multiprocessing is useful for a wide range of applications, particularly those that involve heavy computation or input/output operations. By using multiple processes, multiprocessing can take advantage of all available CPU cores to execute code in parallel, which can greatly improve the performance of the program. This makes multiprocessing particularly useful for tasks such as data analysis, scientific computing, and machine learning, where large amounts of data must be processed and analyzed in a timely manner.\n",
    "\n",
    "In addition, multiprocessing is more resilient to errors and failures than multithreading, since each process runs in its own memory space and is isolated from other processes. This means that if one process crashes or encounters an error, it will not affect the other processes in the program. Overall, multiprocessing provides a powerful and flexible tool for building high-performance, parallel applications in Python.\n",
    "\n",
    "\n",
    "\n"
   ]
  },
  {
   "cell_type": "code",
   "execution_count": null,
   "id": "e7974531",
   "metadata": {},
   "outputs": [],
   "source": [
    "Q2. What are the differences between multiprocessing and multithreading?\n"
   ]
  },
  {
   "cell_type": "code",
   "execution_count": null,
   "id": "1f4562be",
   "metadata": {},
   "outputs": [],
   "source": [
    "Multiprocessing and multithreading are two techniques used to achieve concurrency in Python, but they differ in several key ways:\n",
    "\n",
    "Architecture: Multiprocessing creates multiple independent processes, each with its own memory space and interpreter, \n",
    "    whereas multithreading creates multiple threads within a single process, sharing the same memory space and interpreter.\n",
    "\n",
    "Resource usage: Multiprocessing can use multiple CPU cores to execute code in parallel, \n",
    "    which can improve performance, while multithreading is limited by the Global Interpreter Lock (GIL) in Python and may not take full advantage of multiple cores.\n",
    "\n",
    "Memory usage: Each process created by multiprocessing has its own memory space, \n",
    "    which can increase memory usage compared to multithreading, which shares memory between threads.\n",
    "\n",
    "Error handling: Each process in multiprocessing runs independently, so if one process crashes or encounters an error,\n",
    "    it will not affect other processes, while in multithreading, an error in one thread can cause the entire process to crash.\n",
    "\n",
    "Synchronization: Synchronization between threads in multithreading is simpler and more lightweight compared to multiprocessing,\n",
    "    which requires more complex synchronization mechanisms, such as pipes or queues, to share data between processes.\n",
    "\n",
    "Overall, multiprocessing is more suited for CPU-bound tasks that require parallelism and can take advantage of multiple CPU cores,\n",
    "while multithreading is more suited for I/O-bound tasks that require lightweight synchronization and can benefit from shared memory between threads."
   ]
  },
  {
   "cell_type": "code",
   "execution_count": null,
   "id": "e6aa1f09",
   "metadata": {},
   "outputs": [],
   "source": [
    "Q3. Write a python code to create a process using the multiprocessing module.\n"
   ]
  },
  {
   "cell_type": "code",
   "execution_count": null,
   "id": "e6c08258",
   "metadata": {},
   "outputs": [],
   "source": [
    "import multiprocessing\n",
    "\n",
    "def work():\n",
    "    \"\"\"A simple function to demonstrate multiprocessing\"\"\"\n",
    "    print('Worker process started')\n",
    "    for i in range(3):\n",
    "        print(f'Working... {i}')\n",
    "    print('Worker process finished')\n",
    "\n",
    "if __name__ == '__main__':\n",
    "    # Create a process\n",
    "    p = multiprocessing.Process(target=work)\n",
    "\n",
    "    # Start the process\n",
    "    p.start()\n",
    "\n",
    "    # Wait for the process to finish\n",
    "    p.join()\n",
    "\n",
    "    # Print a message indicating the end of the program\n",
    "    print('Program finishe"
   ]
  },
  {
   "cell_type": "code",
   "execution_count": null,
   "id": "18ca1d8c",
   "metadata": {},
   "outputs": [],
   "source": [
    "Q4. What is a multiprocessing pool in python? Why is it used?\n"
   ]
  },
  {
   "cell_type": "code",
   "execution_count": null,
   "id": "ff4c5be9",
   "metadata": {},
   "outputs": [],
   "source": [
    "In Python's multiprocessing module, a Pool is a convenient way to distribute work across multiple processes.\n",
    "A Pool object represents a pool of worker processes that can be used to execute tasks in parallel.\n",
    "\n",
    "The Pool class provides a simple way to parallelize the execution of a function across multiple input values, distributing the input data across processes \n",
    "in a way that is transparent to the caller. When a Pool is created, \n",
    "it creates a specified number of worker processes, and the input data is split into a number of chunks, one for each worker process. Each worker process runs the function on its own chunk of data, and the results are collected and returned to the caller.\n",
    "\n",
    "The Pool class provides several methods to apply functions to input data in parallel, including map(), imap(), and imap_unordered(). \n",
    "These methods take a function and an iterable of input data, and return an iterable of output data.\n",
    "The map() method blocks until all tasks are complete and the results are returned in the same order as the input data. \n",
    "The imap() and imap_unordered() methods return an iterator that generates output data as soon as it becomes available.\n",
    "\n",
    "Using a Pool can be useful when you have a large amount of work to do that can be split up into many independent tasks, \n",
    "such as processing a large dataset or performing complex calculations on many inputs. By distributing the work across multiple processes, you can take advantage of multi-core CPUs and reduce the overall execution time."
   ]
  },
  {
   "cell_type": "code",
   "execution_count": null,
   "id": "f878e295",
   "metadata": {},
   "outputs": [],
   "source": [
    "Q5. How can we create a pool of worker processes in python using the multiprocessing module?\n"
   ]
  },
  {
   "cell_type": "code",
   "execution_count": null,
   "id": "03ff38ac",
   "metadata": {},
   "outputs": [],
   "source": [
    "To create a pool of worker processes in Python using the multiprocessing module, we can use the Pool class.\n",
    "The Pool class provides a convenient way to parallelize the execution of a function across multiple input values.\n",
    "\n"
   ]
  },
  {
   "cell_type": "code",
   "execution_count": null,
   "id": "420eb6a2",
   "metadata": {},
   "outputs": [],
   "source": [
    "import multiprocessing\n",
    "\n",
    "def worker(num):\n",
    "    \"\"\"A simple function to demonstrate multiprocessing\"\"\"\n",
    "    print(f'Worker {num} process started')\n",
    "    for i in range(3):\n",
    "        print(f'Working... {i} ({num})')\n",
    "    print(f'Worker {num} process finished')\n",
    "    return f'Worker {num} result'\n",
    "\n",
    "if __name__ == '__main__':\n",
    "    # Create a pool of 3 worker processes\n",
    "    pool = multiprocessing.Pool(processes=3)\n",
    "\n",
    "    # Create a list of input values\n",
    "    inputs = [1, 2, 3]\n",
    "\n",
    "    # Apply the worker function to each input value in parallel\n",
    "    results = pool.map(worker, inputs)\n",
    "\n",
    "    # Print the results\n",
    "    print(results)\n"
   ]
  },
  {
   "cell_type": "code",
   "execution_count": null,
   "id": "80621009",
   "metadata": {},
   "outputs": [],
   "source": [
    "Q6. Write a python program to create 4 processes, each process should print a different number using the\n",
    "multiprocessing module in python."
   ]
  },
  {
   "cell_type": "code",
   "execution_count": null,
   "id": "7cddc490",
   "metadata": {},
   "outputs": [],
   "source": [
    "import multiprocessing\n",
    "\n",
    "def print_number(num):\n",
    "    print(f\"Process {num}: {num}\")\n",
    "\n",
    "if __name__ == '__main__':\n",
    "    # Create a pool of 4 worker processes\n",
    "    pool = multiprocessing.Pool(processes=4)\n",
    "    \n",
    "    # Map the print_number function to each process in the pool\n",
    "    pool.map(print_number, [1, 2, 3, 4])\n",
    "    \n",
    "    # Close the pool and wait for all processes to finish\n",
    "    pool.close()\n",
    "    pool.join()\n"
   ]
  },
  {
   "cell_type": "code",
   "execution_count": null,
   "id": "68e974a4",
   "metadata": {},
   "outputs": [],
   "source": []
  }
 ],
 "metadata": {
  "kernelspec": {
   "display_name": "Python 3 (ipykernel)",
   "language": "python",
   "name": "python3"
  },
  "language_info": {
   "codemirror_mode": {
    "name": "ipython",
    "version": 3
   },
   "file_extension": ".py",
   "mimetype": "text/x-python",
   "name": "python",
   "nbconvert_exporter": "python",
   "pygments_lexer": "ipython3",
   "version": "3.9.13"
  }
 },
 "nbformat": 4,
 "nbformat_minor": 5
}
