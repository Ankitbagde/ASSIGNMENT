{
 "cells": [
  {
   "cell_type": "code",
   "execution_count": null,
   "id": "4ca5fa5c",
   "metadata": {},
   "outputs": [],
   "source": [
    "Q1. What is a database? Differentiate between SQL and NoSQL databases.\n"
   ]
  },
  {
   "cell_type": "code",
   "execution_count": null,
   "id": "34fdb4b0",
   "metadata": {},
   "outputs": [],
   "source": [
    "A database is an organized collection of data that can be easily accessed, managed, and updated. \n",
    "It can be stored and retrieved in an efficient and secure manner.\n",
    "Databases are used in many applications, including websites, mobile apps, and enterprise systems.\n",
    "\n",
    "SQL and NoSQL are two types of databases that differ in their structure, storage, and querying methods.\n",
    "\n",
    "SQL (Structured Query Language) databases are relational databases that use tables to store data. SQL databases have a predefined schema, which means that the data is organized into tables with predefined columns and data types. SQL databases use SQL for querying and manipulating data. Examples of SQL databases are MySQL, Oracle, and PostgreSQL.\n",
    "\n",
    "NoSQL (Not Only SQL) databases, on the other hand, are non-relational databases that store data in a flexible and unstructured way. \n",
    "NoSQL databases don't have a fixed schema, which means that data can be stored in various formats like key-value pairs, document-based, or graph-based. NoSQL databases use their own query language or APIs for querying and manipulating data. Examples of NoSQL databases are MongoDB, Cassandra, and Redis."
   ]
  },
  {
   "cell_type": "code",
   "execution_count": null,
   "id": "2fe8afa8",
   "metadata": {},
   "outputs": [],
   "source": [
    "Q2. What is DDL? Explain why CREATE, DROP, ALTER, and TRUNCATE are used with an example.\n",
    "\n",
    "DDL (Data Definition Language) is a set of SQL commands used to define and modify the structure of database objects like tables, indexes, and constraints. \n",
    "Some common DDL commands and their use are:\n",
    "\n",
    "CREATE: The CREATE command is used to create a new database object like a table, index, or view. For example, the following SQL statement creates a new table called \"employees\" with three columns:\n",
    "\n",
    "CREATE TABLE employees (\n",
    "id INT PRIMARY KEY,\n",
    "name VARCHAR(50),\n",
    "age INT\n",
    ");\n",
    "\n",
    "DROP: The DROP command is used to delete a database object like a table, index, or view. \n",
    "    For example, the following SQL statement deletes the \"employees\" table:\n",
    "DROP TABLE employees;\n",
    "\n",
    "ALTER: The ALTER command is used to modify the structure of an existing database object like a table, index, or view. \n",
    "    For example, the following SQL statement adds a new column called \"salary\" to the \"employees\" table:\n",
    "ALTER TABLE employees ADD COLUMN salary INT;\n",
    "\n",
    "TRUNCATE: The TRUNCATE command is used to delete all the data from a table, but the table structure remains intact. \n",
    "    For example, the following SQL statement deletes all the data from the \"employees\" table:\n",
    "TRUNCATE TABLE employees;"
   ]
  },
  {
   "cell_type": "code",
   "execution_count": null,
   "id": "63fa81c1",
   "metadata": {},
   "outputs": [],
   "source": [
    "Q3. What is DML? Explain INSERT, UPDATE, and DELETE with an example.\n"
   ]
  },
  {
   "cell_type": "code",
   "execution_count": null,
   "id": "9c132ee1",
   "metadata": {},
   "outputs": [],
   "source": [
    "DML (Data Manipulation Language) is a set of SQL commands used to manipulate data in a database. \n",
    "Some common DML commands and their use are:\n",
    "\n",
    "INSERT: The INSERT command is used to insert new rows of data into a table. For example, the following SQL statement inserts a new row into the \"employees\" table:\n",
    "INSERT INTO employees (id, name, age, salary) VALUES (1, 'John', 30, 50000);\n",
    "\n",
    "UPDATE: The UPDATE command is used to modify existing rows of data in a table. For example, the following SQL statement updates the salary of the employee with ID 1:\n",
    "UPDATE employees SET salary = 55000 WHERE id = 1;\n",
    "\n",
    "DELETE: The DELETE command is used to delete existing rows of data from a table. For example, the following SQL statement deletes the employee with ID 1:\n",
    "DELETE FROM employees WHERE id = 1;"
   ]
  },
  {
   "cell_type": "code",
   "execution_count": null,
   "id": "01b73a13",
   "metadata": {},
   "outputs": [],
   "source": [
    "Q4. What is DQL? Explain SELECT with an example.\n"
   ]
  },
  {
   "cell_type": "code",
   "execution_count": null,
   "id": "c4bd4e6d",
   "metadata": {},
   "outputs": [],
   "source": [
    "DQL stands for Data Query Language, which is a part of SQL (Structured Query Language) used to retrieve data from a database.\n",
    "SELECT statement is used to retrieve data from one or more tables in a database using DQL.\n",
    "\n",
    "The basic syntax of the SELECT statement is as follows:\n",
    "\n",
    "SELECT column1, column2, ... FROM table_name WHERE condition;\n",
    "SELECT: It is a keyword used to select the columns that we want to retrieve data from.\n",
    "column1, column2, ...: It specifies the name of the columns from which we want to retrieve data. If we want to retrieve all columns, we can use an asterisk (*).\n",
    "FROM: It is a keyword that specifies the name of the table from which we want to retrieve data.\n",
    "WHERE: It is an optional keyword that specifies the condition that must be met for the rows to be retrieved.\n",
    "Let's consider an example to illustrate the use of the SELECT statement:\n",
    "\n",
    "Suppose we have a table named employees with the following columns:\n",
    "\n",
    "id (integer)\n",
    "name (string)\n",
    "age (integer)\n",
    "salary (float)\n",
    "We want to retrieve the names and salaries of employees who have a salary greater than 50000.\n",
    "We can use the following SELECT statement:\n",
    "\n",
    "\n",
    "SELECT name, salary FROM employees WHERE salary > 50000;\n",
    "The output of this query will be a table with two columns,\n",
    "name and salary, containing the names and salaries of employees who have a salary greater than 50000."
   ]
  },
  {
   "cell_type": "code",
   "execution_count": null,
   "id": "9686a5db",
   "metadata": {},
   "outputs": [],
   "source": [
    "Q5. Explain Primary Key and Foreign Key.\n"
   ]
  },
  {
   "cell_type": "code",
   "execution_count": null,
   "id": "1580e2c9",
   "metadata": {},
   "outputs": [],
   "source": [
    "A Primary Key is a column or set of columns in a table that uniquely identifies each row in the table. \n",
    "It must have a unique value for each row and cannot have null values.\n",
    "A primary key is used to enforce data integrity and maintain the uniqueness of the table.\n",
    "\n",
    "For example, in a table of students, the student ID could be used as the primary key since each student will have a unique ID.\n",
    "\n",
    "A Foreign Key is a column or set of columns in a table that refers to the primary key of another table. \n",
    "It establishes a link between two tables and is used to enforce referential integrity. The foreign key constraint ensures that the values in the foreign key column of one table must match the values in the primary key column of another table.\n",
    "\n",
    "For example, in a table of courses, there could be a foreign key column that references the primary key of the students table. This would link each course to the student who is enrolled in the course.\n",
    "\n"
   ]
  },
  {
   "cell_type": "code",
   "execution_count": null,
   "id": "7fafbcbc",
   "metadata": {},
   "outputs": [],
   "source": [
    "Q6. Write a python code to connect MySQL to python. Explain the cursor() and execute() method.\n"
   ]
  },
  {
   "cell_type": "code",
   "execution_count": null,
   "id": "9e51c2fb",
   "metadata": {},
   "outputs": [],
   "source": [
    "import mysql.connector\n",
    "\n",
    "# establish a connection to the database\n",
    "mydb = mysql.connector.connect(\n",
    "  host=\"localhost\",\n",
    "  user=\"username\",\n",
    "  password=\"password\",\n",
    "  database=\"mydatabase\"\n",
    ")\n",
    "\n",
    "# create a cursor object\n",
    "mycursor = mydb.cursor()\n",
    "\n",
    "# execute a query using the execute method\n",
    "mycursor.execute(\"SELECT * FROM customers\")\n",
    "\n",
    "# fetch the results of the query\n",
    "result = mycursor.fetchall()\n",
    "\n",
    "# iterate over the results and print each row\n",
    "for row in result:\n",
    "  print(row)\n"
   ]
  },
  {
   "cell_type": "code",
   "execution_count": null,
   "id": "d6fdc1e6",
   "metadata": {},
   "outputs": [],
   "source": [
    "Q7. Give the order of execution of SQL clauses in an SQL query."
   ]
  },
  {
   "cell_type": "code",
   "execution_count": null,
   "id": "5d461ec6",
   "metadata": {},
   "outputs": [],
   "source": [
    "The order of execution of SQL clauses in an SQL query is as follows:\n",
    "\n",
    "SELECT\n",
    "FROM\n",
    "JOIN\n",
    "WHERE\n",
    "GROUP BY\n",
    "HAVING\n",
    "ORDER BY\n",
    "However, not all clauses are required for every query, \n",
    "and some may appear in a different order depending on the specific query being executed."
   ]
  }
 ],
 "metadata": {
  "kernelspec": {
   "display_name": "Python 3 (ipykernel)",
   "language": "python",
   "name": "python3"
  },
  "language_info": {
   "codemirror_mode": {
    "name": "ipython",
    "version": 3
   },
   "file_extension": ".py",
   "mimetype": "text/x-python",
   "name": "python",
   "nbconvert_exporter": "python",
   "pygments_lexer": "ipython3",
   "version": "3.9.13"
  }
 },
 "nbformat": 4,
 "nbformat_minor": 5
}
