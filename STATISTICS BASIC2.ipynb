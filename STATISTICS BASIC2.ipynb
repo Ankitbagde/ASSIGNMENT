{
 "cells": [
  {
   "cell_type": "code",
   "execution_count": null,
   "id": "401a24ba",
   "metadata": {},
   "outputs": [],
   "source": [
    "Q1. What are the three measures of central tendency?\n"
   ]
  },
  {
   "cell_type": "code",
   "execution_count": null,
   "id": "7f110d51",
   "metadata": {},
   "outputs": [],
   "source": [
    "ANS-The three measures of central tendency are the mean, median, and mode.\n",
    "\n"
   ]
  },
  {
   "cell_type": "code",
   "execution_count": null,
   "id": "fec58d21",
   "metadata": {},
   "outputs": [],
   "source": [
    "Q2. What is the difference between the mean, median, and mode? How are they used to measure the\n",
    "central tendency of a dataset?\n"
   ]
  },
  {
   "cell_type": "code",
   "execution_count": null,
   "id": "758fb971",
   "metadata": {},
   "outputs": [],
   "source": [
    "ANS-The mean, median, and mode are different ways to measure the central tendency of a dataset. \n",
    "The mean is the arithmetic average of all the data points in a set. \n",
    "It is calculated by adding up all the values in the set and dividing by the number of values in the set.\n",
    "\n",
    "The median is the middle value in a dataset, where half of the values are above and half are below it. \n",
    "To calculate the median, you first need to order the dataset from smallest to largest, and then find the middle value. \n",
    "If there are an even number of values in the dataset, you take the average of the two middle values.\n",
    "The mode is the value that occurs most frequently in a dataset. It is useful for datasets with discrete values or when you are interested in the most common value.\n",
    "\n",
    "These three measures of central tendency are used to describe the typical value or center of a dataset. \n",
    "They are important because they provide a summary of the data and can help you make comparisons between different datasets. \n",
    "The choice of which measure to use depends on the type of data and the research question. \n",
    "For example, the mean is often used when the data is normally distributed and there are no outliers, \n",
    "while the median is more appropriate when there are outliers or the data is skewed. \n",
    "The mode is useful for categorical data or when you want to know the most common value."
   ]
  },
  {
   "cell_type": "code",
   "execution_count": null,
   "id": "f7f6c7de",
   "metadata": {},
   "outputs": [],
   "source": [
    "Q3. Measure the three measures of central tendency for the given height data:\n",
    "[178,177,176,177,178.2,178,175,179,180,175,178.9,176.2,177,172.5,178,176.5]\n"
   ]
  },
  {
   "cell_type": "code",
   "execution_count": null,
   "id": "0272b18f",
   "metadata": {},
   "outputs": [],
   "source": [
    "ANS-The three measures of central tendency are:\n",
    "\n",
    "Mean: The sum of all values divided by the number of values.\n",
    "Mean = (178+177+176+177+178.2+178+175+179+180+175+178.9+176.2+177+172.5+178+176.5)/16\n",
    "Mean = 176.90625\n",
    "\n",
    "Median: The middle value when the data is arranged in order.\n",
    "First, arrange the data in order: [172.5, 175, 175, 176, 176.2, 176.5, 177, 177, 178, 178, 178, 178.2, 178.9, 179, 180]\n",
    "Since there are 16 values, the median is the average of the two middle values:\n",
    "Median = (176 + 177) / 2\n",
    "Median = 176.5\n",
    "\n",
    "Mode: The value that appears most frequently in the data.\n",
    "The mode of the given data is 178, as it appears 4 times."
   ]
  },
  {
   "cell_type": "code",
   "execution_count": null,
   "id": "b69ef7e0",
   "metadata": {},
   "outputs": [],
   "source": [
    "Q4. Find the standard deviation for the given data:\n",
    "[178,177,176,177,178.2,178,175,179,180,175,178.9,176.2,177,172.5,178,176.5]\n"
   ]
  },
  {
   "cell_type": "code",
   "execution_count": null,
   "id": "5b052750",
   "metadata": {},
   "outputs": [],
   "source": [
    "ANS-The standard deviation measures how spread out the data is from the mean.\n",
    "\n",
    "First, calculate the mean of the data:\n",
    "Mean = 176.90625\n",
    "\n",
    "Next, calculate the variance:\n",
    "Variance = ( (178-176.90625)^2 + (177-176.90625)^2 + ... + (176.5-176.90625)^2 ) / 15\n",
    "Variance = 2.1746\n",
    "\n",
    "Finally, calculate the standard deviation as the square root of the variance:\n",
    "Standard Deviation = sqrt(Variance)\n",
    "Standard Deviation = 1.4746\n",
    "\n"
   ]
  },
  {
   "cell_type": "code",
   "execution_count": null,
   "id": "66f54b64",
   "metadata": {},
   "outputs": [],
   "source": [
    "Q5. How are measures of dispersion such as range, variance, and standard deviation used to describe\n",
    "the spread of a dataset? Provide an example.\n"
   ]
  },
  {
   "cell_type": "code",
   "execution_count": null,
   "id": "3df7c126",
   "metadata": {},
   "outputs": [],
   "source": [
    "ANS-Measures of dispersion are used to describe how spread out the values in a dataset are.\n",
    "\n",
    "Range: The range is the difference between the maximum and minimum values in the dataset.\n",
    "It gives an idea of how spread out the values are.\n",
    "For example, the range of a dataset of test scores from 50 to 100 is 50, indicating that there is a large spread in scores.\n",
    "\n",
    "Variance: The variance is a measure of how much the values in the dataset vary from the mean.\n",
    "A higher variance indicates that the values are more spread out.\n",
    "For example, if the variance of a dataset of salaries is high,\n",
    "it indicates that there is a large difference in salaries among the people in the dataset.\n",
    "\n",
    "Standard Deviation: The standard deviation is the square root of the variance, \n",
    "and it measures how spread out the values in the dataset are relative to the mean. \n",
    "A higher standard deviation indicates that the values are more spread out.\n",
    "For example, if the standard deviation of a dataset of heights is high, \n",
    "it indicates that the heights of the people in the dataset vary greatly from the average height."
   ]
  },
  {
   "cell_type": "code",
   "execution_count": null,
   "id": "d43a76a1",
   "metadata": {},
   "outputs": [],
   "source": [
    "Q6. What is a Venn diagram?\n"
   ]
  },
  {
   "cell_type": "code",
   "execution_count": null,
   "id": "13fe54a3",
   "metadata": {},
   "outputs": [],
   "source": [
    "A Venn diagram is a graphical representation of the relationships between sets. \n",
    "It is made up of overlapping circles or other shapes"
   ]
  },
  {
   "cell_type": "code",
   "execution_count": null,
   "id": "58b42e9d",
   "metadata": {},
   "outputs": [],
   "source": [
    "Q7. For the two given sets A = (2,3,4,5,6,7) & B = (0,2,6,8,10). Find:\n",
    "(i) A B\n",
    "(ii) A ⋃ B\n"
   ]
  },
  {
   "cell_type": "code",
   "execution_count": null,
   "id": "47217cb9",
   "metadata": {},
   "outputs": [],
   "source": [
    "(i) A ∩ B (the intersection of A and B)\n",
    "To find the intersection of two sets, we need to list the elements that are common to both sets. \n",
    "In this case, the common element is 2 and 6.\n",
    "So, A ∩ B = {2,6}\n",
    "\n",
    "(ii) A ⋃ B (the union of A and B)\n",
    "To find the union of two sets, we need to list all the elements that are in either set.\n",
    "In this case, the elements in A are {2,3,4,5,6,7} and the elements in B are {0,2,6,8,10}.\n",
    "So, A ⋃ B = {0,2,3,4,5,6,7,8,10}"
   ]
  },
  {
   "cell_type": "code",
   "execution_count": null,
   "id": "df9f9b59",
   "metadata": {},
   "outputs": [],
   "source": [
    "Q8. What do you understand about skewness in data?\n"
   ]
  },
  {
   "cell_type": "code",
   "execution_count": null,
   "id": "5d11225e",
   "metadata": {},
   "outputs": [],
   "source": [
    "Skewness is a measure of the asymmetry of a probability distribution. \n",
    "It measures the degree to which a distribution is not symmetric. \n",
    "If a distribution is symmetric, it has zero skewness. \n",
    "If the distribution is skewed to the right, it has positive skewness, \n",
    "and if it is skewed to the left, it has negative skewness. \n",
    "Skewed data can affect measures of central tendency and dispersion, and may require different statistical methods than symmetrical data."
   ]
  },
  {
   "cell_type": "code",
   "execution_count": null,
   "id": "92e069a9",
   "metadata": {},
   "outputs": [],
   "source": [
    "Q9. If a data is right skewed then what will be the position of median with respect to mean?\n"
   ]
  },
  {
   "cell_type": "code",
   "execution_count": null,
   "id": "69ec461b",
   "metadata": {},
   "outputs": [],
   "source": [
    "If a data is right-skewed, it means that the tail of the distribution is longer on the right side than on the left side. \n",
    "In this case, the mean will be greater than the median.\n",
    "This is because the tail of the distribution pulls the mean towards the higher values, but does not affect the median as much.\n",
    "\n"
   ]
  },
  {
   "cell_type": "code",
   "execution_count": null,
   "id": "2417b2ba",
   "metadata": {},
   "outputs": [],
   "source": [
    "Q10. Explain the difference between covariance and correlation. How are these measures used in\n",
    "statistical analysis?\n"
   ]
  },
  {
   "cell_type": "code",
   "execution_count": null,
   "id": "d950063a",
   "metadata": {},
   "outputs": [],
   "source": [
    "Covariance is a measure of the relationship between two variables. \n",
    "It measures how two variables vary together.\n",
    "A positive covariance indicates that the variables tend to increase or decrease together, \n",
    "while a negative covariance indicates that they tend to move in opposite directions. \n",
    "However, covariance is difficult to interpret because it depends on the units of measurement of the variables.\n",
    "\n",
    "Correlation is a standardized version of covariance.\n",
    "It measures the strength and direction of the linear relationship between two variables, and ranges from -1 to 1.\n",
    "A correlation of 1 indicates a perfect positive relationship, a correlation of -1 indicates a perfect negative relationship, and a correlation of 0 indicates no relationship. \n",
    "Correlation is easier to interpret because it is unitless.\n",
    "\n",
    "These measures are used in statistical analysis to study the relationship between variables. \n",
    "They can help identify patterns and predict outcomes. \n",
    "For example, in finance, covariance and correlation are used to measure the relationship between two stocks, which can help investors diversify their portfolios."
   ]
  },
  {
   "cell_type": "code",
   "execution_count": null,
   "id": "4986922b",
   "metadata": {},
   "outputs": [],
   "source": [
    "Q11. What is the formula for calculating the sample mean? Provide an example calculation for a\n",
    "dataset.\n"
   ]
  },
  {
   "cell_type": "code",
   "execution_count": null,
   "id": "84af5525",
   "metadata": {},
   "outputs": [],
   "source": [
    "The formula for calculating the sample mean is:\n",
    "\n",
    "sample mean = sum of values / number of values\n",
    "\n",
    "For example, consider the following dataset of 5 values:\n",
    "\n",
    "2, 4, 5, 6, 8\n",
    "\n",
    "The sample mean is:\n",
    "\n",
    "sample mean = (2 + 4 + 5 + 6 + 8) / 5\n",
    "sample mean = 25 / 5\n",
    "sample mean = 5\n",
    "\n",
    "So, the sample mean of this dataset is 5."
   ]
  },
  {
   "cell_type": "code",
   "execution_count": null,
   "id": "1d42d141",
   "metadata": {},
   "outputs": [],
   "source": [
    "Q12. For a normal distribution data what is the relationship between its measure of central tendency?\n"
   ]
  },
  {
   "cell_type": "code",
   "execution_count": null,
   "id": "55da2496",
   "metadata": {},
   "outputs": [],
   "source": [
    " ANS--For a normal distribution, the mean, median, and mode are all equal.\n",
    "This means that the central tendency of a normal distribution is located at the peak of the distribution.\n"
   ]
  },
  {
   "cell_type": "code",
   "execution_count": null,
   "id": "3e3de758",
   "metadata": {},
   "outputs": [],
   "source": [
    "Q13. How is covariance different from correlation?\n"
   ]
  },
  {
   "cell_type": "code",
   "execution_count": null,
   "id": "cd76dd47",
   "metadata": {},
   "outputs": [],
   "source": [
    "\n",
    " Covariance and correlation are both measures of the relationship between two variables, \n",
    "but they differ in the way they are calculated and interpreted. \n",
    "Covariance measures the degree to which two variables vary together, while correlation measures the strength and direction of the linear relationship between two variables. Covariance is affected by the units of measurement of the variables, while correlation is unitless and easier to interpret. In addition, correlation is always between -1 and 1, while covariance has no upper or lower limit.\n"
   ]
  },
  {
   "cell_type": "code",
   "execution_count": null,
   "id": "a647fc3e",
   "metadata": {},
   "outputs": [],
   "source": [
    "Q14. How do outliers affect measures of central tendency and dispersion? Provide an example."
   ]
  },
  {
   "cell_type": "code",
   "execution_count": null,
   "id": "67b58635",
   "metadata": {},
   "outputs": [],
   "source": [
    "\n",
    "ANS-Outliers can have a significant impact on measures of central tendency and dispersion. Measures of central tendency, \n",
    "such as the mean, are sensitive to outliers because they are based on the sum or average of all the values in the dataset. \n",
    "Outliers can significantly increase or decrease the mean, making it an unreliable measure of central tendency. \n",
    "Measures of dispersion, such as the range, variance, and standard deviation, \n",
    "are also affected by outliers because they are based on the deviation of each value from the central tendency.\n",
    "Outliers can increase the range and variance, and increase or decrease the standard deviation, depending on their position relative to the mean.\n",
    "\n",
    "For example, consider the following dataset of 10 values:\n",
    "\n",
    "5, 6, 7, 8, 9, 10, 11, 12, 13, 100\n",
    "\n",
    "The mean of this dataset is:\n",
    "\n",
    "mean = (5 + 6 + 7 + 8 + 9 + 10 + 11 + 12 + 13 + 100) / 10\n",
    "mean = 18.1\n",
    "\n",
    "The median of this dataset is:\n",
    "\n",
    "median = (9 + 10) / 2\n",
    "median = 9.5\n",
    "\n",
    "The range of this dataset is:\n",
    "\n",
    "range = 100 - 5\n",
    "range = 95\n",
    "\n",
    "The variance of this dataset is:\n",
    "\n",
    "variance = ((5 - 18.1)^2 + (6 - 18.1)^2 + ... + (100 - 18.1)^2) / 9\n",
    "variance = 984.99\n",
    "\n",
    "The standard deviation of this dataset is:\n",
    "\n",
    "standard deviation = sqrt(variance)\n",
    "standard deviation = 31.39\n",
    "\n",
    "In this case, the outlier (100) has significantly affected the mean, range, variance, and standard deviation.\n",
    "The median, however, is not affected by outliers, making it a more robust measure of central tendency for skewed datasets."
   ]
  },
  {
   "cell_type": "code",
   "execution_count": null,
   "id": "af6d6e14",
   "metadata": {},
   "outputs": [],
   "source": []
  },
  {
   "cell_type": "code",
   "execution_count": null,
   "id": "6b378d56",
   "metadata": {},
   "outputs": [],
   "source": []
  },
  {
   "cell_type": "code",
   "execution_count": null,
   "id": "a6c03d30",
   "metadata": {},
   "outputs": [],
   "source": []
  }
 ],
 "metadata": {
  "kernelspec": {
   "display_name": "Python 3 (ipykernel)",
   "language": "python",
   "name": "python3"
  },
  "language_info": {
   "codemirror_mode": {
    "name": "ipython",
    "version": 3
   },
   "file_extension": ".py",
   "mimetype": "text/x-python",
   "name": "python",
   "nbconvert_exporter": "python",
   "pygments_lexer": "ipython3",
   "version": "3.9.13"
  }
 },
 "nbformat": 4,
 "nbformat_minor": 5
}
