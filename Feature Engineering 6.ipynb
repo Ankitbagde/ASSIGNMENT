{
 "cells": [
  {
   "cell_type": "code",
   "execution_count": null,
   "id": "7f002713",
   "metadata": {},
   "outputs": [],
   "source": [
    "Q1. Pearson correlation coefficient is a measure of the linear relationship between two variables. Suppose\n",
    "you have collected data on the amount of time students spend studying for an exam and their final exam\n",
    "scores. Calculate the Pearson correlation coefficient between these two variables and interpret the result.\n"
   ]
  },
  {
   "cell_type": "code",
   "execution_count": null,
   "id": "b97f2e01",
   "metadata": {},
   "outputs": [],
   "source": [
    "To calculate the Pearson correlation coefficient, we need to use a formula that measures the strength and direction \n",
    "of the linear relationship between two variables. The Pearson correlation coefficient, also known as \n",
    "Pearson's r, can range from -1 to +1. A value of -1 indicates a perfect negative linear relationship, \n",
    "0 indicates no linear relationship, and +1 indicates a perfect positive linear relationship."
   ]
  },
  {
   "cell_type": "code",
   "execution_count": null,
   "id": "1d898299",
   "metadata": {},
   "outputs": [],
   "source": [
    "For example, let's say we collected data on the amount of time 20 students studied for an exam and \n",
    "their corresponding scores on the exam, and we found the following values:\n",
    "\n",
    "Study Time (hours)\tExam Score (out of 100)\n",
    "2\t60\n",
    "4\t70\n",
    "5\t75\n",
    "3\t65\n",
    "6\t80\n",
    "4\t70\n",
    "5\t75\n",
    "7\t85\n",
    "1\t50\n",
    "2\t55\n",
    "6\t80\n",
    "4\t70\n",
    "3\t65\n",
    "1\t45\n",
    "2\t60\n",
    "3\t65\n",
    "5\t75\n",
    "4\t70\n",
    "6\t80\n",
    "7\t85\n"
   ]
  },
  {
   "cell_type": "code",
   "execution_count": 2,
   "id": "e873a261",
   "metadata": {},
   "outputs": [
    {
     "name": "stdout",
     "output_type": "stream",
     "text": [
      "Pearson correlation coefficient: 0.9817723601201307\n"
     ]
    }
   ],
   "source": [
    "import numpy as np\n",
    "\n",
    "study_time = [2, 4, 5, 3, 6, 4, 5, 7, 1, 2, 6, 4, 3, 1, 2, 3, 5, 4, 6, 7]\n",
    "exam_score = [60, 70, 75, 65, 80, 70, 75, 85, 50, 55, 80, 70, 65, 45, 60, 65, 75, 70, 80, 85]\n",
    "\n",
    "r = np.corrcoef(study_time, exam_score)[0, 1]\n",
    "print(\"Pearson correlation coefficient:\", r)\n"
   ]
  },
  {
   "cell_type": "code",
   "execution_count": null,
   "id": "65fc87d6",
   "metadata": {},
   "outputs": [],
   "source": [
    "Q2. Spearman's rank correlation is a measure of the monotonic relationship between two variables.\n",
    "Suppose you have collected data on the amount of sleep individuals get each night and their overall job\n",
    "satisfaction level on a scale of 1 to 10. Calculate the Spearman's rank correlation between these two\n",
    "variables and interpret the result.\n"
   ]
  },
  {
   "cell_type": "code",
   "execution_count": 4,
   "id": "3d637b54",
   "metadata": {},
   "outputs": [
    {
     "name": "stdout",
     "output_type": "stream",
     "text": [
      "Spearman's rank correlation coefficient:  1.0\n"
     ]
    }
   ],
   "source": [
    "import numpy as np\n",
    "from scipy.stats import spearmanr\n",
    "\n",
    "# Define the sleep and job satisfaction data\n",
    "sleep = np.array([7, 8, 6, 7, 5, 6, 8, 7, 9, 6, 7, 8, 5, 6, 7, 8, 6, 5, 9, 7])\n",
    "job_satisfaction = np.array([8, 9, 7, 8, 6, 7, 9, 8, 10, 7, 8, 9, 6, 7, 8, 9, 7, 6, 10, 8])\n",
    "\n",
    "# Calculate the Spearman's rank correlation coefficient\n",
    "spearman_corr, _ = spearmanr(sleep, job_satisfaction)\n",
    "print(\"Spearman's rank correlation coefficient: \", spearman_corr)\n"
   ]
  },
  {
   "cell_type": "code",
   "execution_count": null,
   "id": "9d1b3fa0",
   "metadata": {},
   "outputs": [],
   "source": [
    "Q3. Suppose you are conducting a study to examine the relationship between the number of hours of\n",
    "exercise per week and body mass index (BMI) in a sample of adults. You collected data on both variables\n",
    "for 50 participants. Calculate the Pearson correlation coefficient and the Spearman's rank correlation\n",
    "between these two variables and compare the results.\n"
   ]
  },
  {
   "cell_type": "code",
   "execution_count": 3,
   "id": "406a9c9a",
   "metadata": {},
   "outputs": [
    {
     "name": "stdout",
     "output_type": "stream",
     "text": [
      "Pearson correlation coefficient:  0.9883498137024863\n",
      "Spearman's rank correlation coefficient:  0.9860734944082767\n"
     ]
    }
   ],
   "source": [
    "import numpy as np\n",
    "from scipy.stats import pearsonr, spearmanr\n",
    "\n",
    "# Define the exercise and BMI data\n",
    "exercise = np.array([3, 5, 1, 4, 2, 6, 3, 4, 1, 5, 2, 4, 1, 6, 2, 3, 5, 2, 4, 1,\n",
    "                     6, 3, 5, 2, 4, 6, 3, 1, 5, 2, 4, 6, 1, 3, 5, 2, 4, 6, 1, 3, 5, 2, 4, 6, 1, 3, 5, 2, 4, 6])\n",
    "BMI = np.array([25.3, 29.2, 22.1, 26.8, 23.5, 30.1, 24.2, 27.3, 21.5, 28.7, \n",
    "                22.9, 26.5, 21.2, 30.5, 23.1, 24.5, 28.8, 23.9, 26.3, 20.8, 30.2, 25.1, 29.6, 23.2, 26.9, 30.7, 25.6, 20.5, 29.3, 23.4, 26.6, 30.9, 20.9, 25.2, 29.7, 23.6, 26.7, 31.1, 21.1, 25.4, 29.8, 23.8, 26.4, 31.3, 21.3, 25.5, 29.9, 24.0, 26.2, 31.5])\n",
    "\n",
    "# Calculate the Pearson correlation coefficient\n",
    "pearson_corr, _ = pearsonr(exercise, BMI)\n",
    "print(\"Pearson correlation coefficient: \", pearson_corr)\n",
    "\n",
    "# Calculate the Spearman's rank correlation coefficient\n",
    "spearman_corr, _ = spearmanr(exercise, BMI)\n",
    "print(\"Spearman's rank correlation coefficient: \", spearman_corr)\n"
   ]
  },
  {
   "cell_type": "code",
   "execution_count": null,
   "id": "28b814ce",
   "metadata": {},
   "outputs": [],
   "source": [
    "Q4. A researcher is interested in examining the relationship between the number of hours individuals\n",
    "spend watching television per day and their level of physical activity. The researcher collected data on\n",
    "both variables from a sample of 50 participants. Calculate the Pearson correlation coefficient between\n",
    "these two variables."
   ]
  },
  {
   "cell_type": "code",
   "execution_count": 5,
   "id": "9dc51d43",
   "metadata": {},
   "outputs": [
    {
     "name": "stdout",
     "output_type": "stream",
     "text": [
      "Pearson correlation coefficient: -0.9751225545594856\n"
     ]
    }
   ],
   "source": [
    "import scipy.stats as stats\n",
    "hours_tv = [3, 2, 4, 5, 1, 2, 3, 4, 2, 1, 2, 1, 3, 4, 5, 2, 3, 4, 1, 5, 4, 2, 3, 1, 4, \n",
    "            5, 2, 3, 4, 5, 1, 2, 3, 4, 5, 1, 2, 3, 4, 5, 2, 3, 4, 1, 2, 3, 4, 5, 2, 3, 4, 1]\n",
    "physical_activity = [20, 30, 25, 10, 40, 30, 20, 15, 30, 40, 30, 40, 20, 15, \n",
    "                     10, 30, 20, 15, 40, 10, 15, 30, 20, 40, 15, 10, 30, 20, 15, \n",
    "                     10, 40, 30, 20, 15, 10, 40, 30, 20, 15, 10, 30, 20, 15, 40, 30, 20, 15, 10, 30, 20, 15, 40]\n",
    "corr_coef, p_value = stats.pearsonr(hours_tv, physical_activity)\n",
    "\n",
    "print(\"Pearson correlation coefficient:\", corr_coef)\n"
   ]
  },
  {
   "cell_type": "code",
   "execution_count": null,
   "id": "d025dd4b",
   "metadata": {},
   "outputs": [],
   "source": []
  },
  {
   "cell_type": "code",
   "execution_count": null,
   "id": "408f3aca",
   "metadata": {},
   "outputs": [],
   "source": [
    "Q5. A survey was conducted to examine the relationship between age and preference for a particular\n",
    "brand of soft drink. The survey results are shown below:\n",
    "\n",
    "\n",
    "Age(Years)   Soft drink Preference\n",
    "25          Coke      \n",
    "42          Pepsi\n",
    "37         Mountain dew\n",
    "19          Coke\n",
    "31         Pepsi\n",
    "28          Coke\n"
   ]
  },
  {
   "cell_type": "code",
   "execution_count": 6,
   "id": "8a799481",
   "metadata": {},
   "outputs": [
    {
     "name": "stdout",
     "output_type": "stream",
     "text": [
      "   Age Soft drink Preference\n",
      "0   25                  Coke\n",
      "1   42                 Pepsi\n",
      "2   37          Mountain dew\n",
      "3   19                  Coke\n",
      "4   31                 Pepsi\n",
      "5   28                  Coke\n"
     ]
    }
   ],
   "source": [
    "import pandas as pd\n",
    "\n",
    "survey_results = pd.DataFrame({\n",
    "    'Age': [25, 42, 37, 19, 31, 28],\n",
    "    'Soft drink Preference': ['Coke', 'Pepsi', 'Mountain dew', 'Coke', 'Pepsi', 'Coke']\n",
    "})\n",
    "\n",
    "print(survey_results)\n"
   ]
  },
  {
   "cell_type": "code",
   "execution_count": 7,
   "id": "e2b08902",
   "metadata": {},
   "outputs": [
    {
     "name": "stdout",
     "output_type": "stream",
     "text": [
      "Age  Soft drink Preference\n",
      "19   Coke                     1\n",
      "25   Coke                     1\n",
      "28   Coke                     1\n",
      "31   Pepsi                    1\n",
      "37   Mountain dew             1\n",
      "42   Pepsi                    1\n",
      "dtype: int64\n"
     ]
    }
   ],
   "source": [
    "# Group the data by age and soft drink preference\n",
    "grouped_data = survey_results.groupby(['Age', 'Soft drink Preference'])\n",
    "\n",
    "# Count the frequency of each preference\n",
    "preference_counts = grouped_data.size()\n",
    "\n",
    "print(preference_counts)\n"
   ]
  },
  {
   "cell_type": "code",
   "execution_count": null,
   "id": "50ec0bd6",
   "metadata": {},
   "outputs": [],
   "source": [
    "Q6. A company is interested in examining the relationship between the number of sales calls made per day\n",
    "and the number of sales made per week. The company collected data on both variables from a sample of\n",
    "30 sales representatives. Calculate the Pearson correlation coefficient between these two variables."
   ]
  },
  {
   "cell_type": "code",
   "execution_count": 8,
   "id": "52c9274b",
   "metadata": {},
   "outputs": [
    {
     "name": "stdout",
     "output_type": "stream",
     "text": [
      "The Pearson correlation coefficient between sales calls per day and sales per week is: 0.9625758297820799\n"
     ]
    }
   ],
   "source": [
    "import pandas as pd\n",
    "\n",
    "# Create a DataFrame with the sample data\n",
    "sales_data = pd.DataFrame({\n",
    "    'Sales Calls per Day': [18, 24, 26, 20, 22, 17, 23, 19, 25, 21, 14, 16, 19, 22,\n",
    "                            18, 20, 15, 21, 23, 16, 19, 22, 24, 17, 20, 18, 23, 26, 21, 19],\n",
    "    'Sales per Week': [14, 18, 20, 16, 19, 13, 17, 15, 20, 16, 10, 12, 15, 19, \n",
    "                       14, 16, 11, 17, 18, 12, 14, 19, 18, 12, 16, 14, 19, 20, 17, 15]\n",
    "})\n",
    "\n",
    "# Calculate the Pearson correlation coefficient\n",
    "correlation_coefficient = sales_data['Sales Calls per Day'].corr(sales_data['Sales per Week'])\n",
    "\n",
    "print(\"The Pearson correlation coefficient between sales calls per day and sales per week is:\", correlation_coefficient)\n"
   ]
  },
  {
   "cell_type": "code",
   "execution_count": null,
   "id": "963ab041",
   "metadata": {},
   "outputs": [],
   "source": []
  }
 ],
 "metadata": {
  "kernelspec": {
   "display_name": "Python 3 (ipykernel)",
   "language": "python",
   "name": "python3"
  },
  "language_info": {
   "codemirror_mode": {
    "name": "ipython",
    "version": 3
   },
   "file_extension": ".py",
   "mimetype": "text/x-python",
   "name": "python",
   "nbconvert_exporter": "python",
   "pygments_lexer": "ipython3",
   "version": "3.9.13"
  }
 },
 "nbformat": 4,
 "nbformat_minor": 5
}
