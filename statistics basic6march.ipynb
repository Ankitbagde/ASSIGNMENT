{
 "cells": [
  {
   "cell_type": "code",
   "execution_count": null,
   "id": "f94d8cc1",
   "metadata": {},
   "outputs": [],
   "source": [
    "Q1. What is Statistics?\n"
   ]
  },
  {
   "cell_type": "code",
   "execution_count": null,
   "id": "2e3c8372",
   "metadata": {},
   "outputs": [],
   "source": [
    "ANS--Statistics is a branch of mathematics that involves collecting, analyzing, interpreting, and presenting data. \n",
    "It is used to understand patterns and relationships in data, \n",
    "make informed decisions based on data, and to communicate results to others."
   ]
  },
  {
   "cell_type": "code",
   "execution_count": null,
   "id": "ee199b04",
   "metadata": {},
   "outputs": [],
   "source": [
    "Q2. Define the different types of statistics and give an example of when each type might be used.\n"
   ]
  },
  {
   "cell_type": "code",
   "execution_count": null,
   "id": "4f6ad1f2",
   "metadata": {},
   "outputs": [],
   "source": [
    "There are two main types of statistics: \n",
    "Descriptive statistics and Inferential statistics.\n",
    "\n",
    "--Descriptive statistics involves the collection, organization, analysis, and presentation of data to summarize and describe a set of observations.\n",
    "It is often used to provide a basic understanding of the data and to identify patterns or trends.\n",
    "Examples of descriptive statistics include measures of central tendency (e.g., mean, median, mode)\n",
    "measures of variability (e.g., standard deviation, range), and graphical displays (e.g., histograms, box plots).\n",
    "\n",
    "-Inferential statistics involves using sample data to make inferences or draw conclusions about a population.\n",
    "It involves the use of probability theory and hypothesis testing to make predictions about the population based on the sample data.\n",
    "Inferential statistics is often used in scientific research to test hypotheses or to make predictions about future events.\n",
    "An example of inferential statistics would be a hypothesis test to determine if a new medication is effective in treating a particular disease.\n",
    "\n"
   ]
  },
  {
   "cell_type": "code",
   "execution_count": null,
   "id": "f8bd6f3b",
   "metadata": {},
   "outputs": [],
   "source": [
    "Q3. What are the different types of data and how do they differ from each other? Provide an example of\n",
    "each type of data.\n",
    "\n"
   ]
  },
  {
   "cell_type": "code",
   "execution_count": null,
   "id": "2cf0389c",
   "metadata": {},
   "outputs": [],
   "source": [
    "There are four main types of data: \n",
    "1.nominal\n",
    "2.ordinal \n",
    "3.interval \n",
    "4.ratio\n",
    "\n",
    "Nominal data is categorical data that consists of labels or names. \n",
    "Examples of nominal data include gender (male or female), \n",
    "eye color (blue, green, or brown), \n",
    "types of fruit (apple, banana, or orange).\n",
    "\n",
    "Ordinal data is data that can be placed in a specific order or rank. \n",
    "The distance between values is not known, but the order or ranking is meaningful. \n",
    "Examples of ordinal data include letter grades (A, B, C, D, or F), levels of satisfaction (very satisfied, satisfied, neutral, dissatisfied, or very dissatisfied), and rankings (first place, second place, third place, etc.).\n",
    "\n",
    "Interval data is data that is measured on a scale with equal intervals between values.\n",
    "Examples of interval data include temperature (measured in degrees Celsius or Fahrenheit),\n",
    "calendar dates, and IQ scores.\n",
    "\n",
    "Ratio data is similar to interval data, but it has a true zero point. \n",
    "This means that the absence of something is meaningful. \n",
    "Examples of ratio data include height, weight, time, and income."
   ]
  },
  {
   "cell_type": "code",
   "execution_count": null,
   "id": "d4d5dfc9",
   "metadata": {},
   "outputs": [],
   "source": [
    "Q4. Categorise the following datasets with respect to quantitative and qualitative data types:\n",
    "(i) Grading in exam: A+, A, B+, B, C+, C, D, E\n",
    "(ii) Colour of mangoes: yellow, green, orange, red\n",
    "(iii) Height data of a class: [178.9, 179, 179.5, 176, 177.2, 178.3, 175.8,...]\n",
    "(iv) Number of mangoes exported by a farm: [500, 600, 478, 672, ...]"
   ]
  },
  {
   "cell_type": "code",
   "execution_count": null,
   "id": "131a7508",
   "metadata": {},
   "outputs": [],
   "source": [
    "(i) Qualitative data - Grading in exam\n",
    "(ii) Qualitative data - Colour of mangoes\n",
    "(iii) Quantitative data - Height data of a class\n",
    "(iv) Quantitative data - Number of mangoes exported by a farm"
   ]
  },
  {
   "cell_type": "code",
   "execution_count": null,
   "id": "82d6b954",
   "metadata": {},
   "outputs": [],
   "source": [
    "Q5. Explain the concept of levels of measurement and give an example of a variable for each level.\n"
   ]
  },
  {
   "cell_type": "code",
   "execution_count": null,
   "id": "d1b23fff",
   "metadata": {},
   "outputs": [],
   "source": [
    "Nominal: In this level, variables are measured by categories or names that are not ordered in any way. \n",
    "    Example: Gender (male/female), Marital status (single/married/divorced)\n",
    "Ordinal: In this level, variables are measured by categories that have an order or ranking. \n",
    "    Example: Education level (elementary, high school, college, postgraduate), Socioeconomic status (low, medium, high)\n",
    "Interval: In this level, variables are measured by numerical values that have a fixed interval between them but do not have a true zero point.\n",
    "    Example: Temperature (measured in Celsius or Fahrenheit), Time (measured in hours, minutes, seconds)\n",
    "Ratio: In this level, variables are measured by numerical values that have a fixed interval between them and a true zero point. \n",
    "    Example: Weight (measured in kilograms or pounds), Height (measured in centimeters or feet)\n"
   ]
  },
  {
   "cell_type": "code",
   "execution_count": null,
   "id": "d7ede97f",
   "metadata": {},
   "outputs": [],
   "source": [
    "Q6. Why is it important to understand the level of measurement when analyzing data? Provide an\n",
    "example to illustrate your answer.\n"
   ]
  },
  {
   "cell_type": "code",
   "execution_count": null,
   "id": "ff2d599e",
   "metadata": {},
   "outputs": [],
   "source": [
    "Understanding the level of measurement is crucial when analyzing data because \n",
    "it determines which statistical methods are appropriate for analyzing the data.\n",
    "For example, if a variable is measured at the nominal level, it cannot be subjected to arithmetic operations \n",
    "or used in regression analysis, and appropriate methods such as mode or chi-square test need to be used. \n",
    "On the other hand, if a variable is measured at the ratio level, it can be used in a wider range of statistical analysis such as correlation, regression analysis, and ANOVA.\n",
    "\n",
    "For instance, let's say we want to analyze the relationship between income and expenditure of a household. \n",
    "If we measure income and expenditure in nominal or ordinal level (for example, income categories: low, medium, high and expenditure categories: low, medium, high), \n",
    "we cannot conduct meaningful correlation analysis. However, if we measure income and expenditure in the ratio level, (for example, actual values in dollars),\n",
    "we can perform correlation and regression analysis to examine the relationship between the two variables."
   ]
  },
  {
   "cell_type": "code",
   "execution_count": null,
   "id": "afba9092",
   "metadata": {},
   "outputs": [],
   "source": [
    "Q7. How nominal data type is different from ordinal data type.\n"
   ]
  },
  {
   "cell_type": "code",
   "execution_count": null,
   "id": "97b34795",
   "metadata": {},
   "outputs": [],
   "source": [
    "Nominal data type is different from ordinal data type in terms of the level of measurement.\n",
    "Nominal data is a categorical data type that doesn't have any natural ordering or ranking, \n",
    "while ordinal data is also a categorical data type but has a natural order or ranking. \n",
    "For example, gender is a nominal data type as there is no natural order or ranking between male and female. \n",
    "On the other hand, education level is an ordinal data type as there is a natural order or ranking between the education levels of primary, secondary, and tertiary."
   ]
  },
  {
   "cell_type": "code",
   "execution_count": null,
   "id": "acdb8871",
   "metadata": {},
   "outputs": [],
   "source": [
    "Q8. Which type of plot can be used to display data in terms of range?\n"
   ]
  },
  {
   "cell_type": "code",
   "execution_count": null,
   "id": "61ba1e0d",
   "metadata": {},
   "outputs": [],
   "source": [
    "A box plot or a box-and-whisker plot can be used to display data in terms of range.\n",
    "\n"
   ]
  },
  {
   "cell_type": "code",
   "execution_count": null,
   "id": "8e1d8bed",
   "metadata": {},
   "outputs": [],
   "source": [
    "Q9. Describe the difference between descriptive and inferential statistics. Give an example of each\n",
    "type of statistics and explain how they are used.\n"
   ]
  },
  {
   "cell_type": "code",
   "execution_count": null,
   "id": "1b3e97d1",
   "metadata": {},
   "outputs": [],
   "source": [
    "Descriptive statistics is used to summarize and describe the main features of a dataset,\n",
    "while inferential statistics is used to make inferences or draw conclusions about a population based on a sample of data.\n",
    "Descriptive statistics includes measures of central tendency and variability, such as mean and standard deviation, \n",
    "while inferential statistics includes hypothesis testing and confidence intervals.\n",
    "\n",
    "An example of descriptive statistics is calculating the mean, median, and mode of a dataset to describe the typical value and the spread of the data.\n",
    "An example of inferential statistics is using a sample mean and standard deviation to make inferences about the population mean and standard deviation."
   ]
  },
  {
   "cell_type": "code",
   "execution_count": null,
   "id": "955c47c5",
   "metadata": {},
   "outputs": [],
   "source": [
    "Q10. What are some common measures of central tendency and variability used in statistics? Explain\n",
    "how each measure can be used to describe a dataset."
   ]
  },
  {
   "cell_type": "code",
   "execution_count": null,
   "id": "523271e6",
   "metadata": {},
   "outputs": [],
   "source": [
    "Measures of central tendency include the mean, median, and mode. \n",
    "The mean is the average of all values in a dataset, \n",
    "the median is the middle value when the dataset is ordered, and the mode is the most common value in the dataset.\n",
    "These measures can be used to describe the typical value of a dataset.\n",
    "\n",
    "Measures of variability include the range, variance, and standard deviation. \n",
    "The range is the difference between the highest and lowest value in a dataset, \n",
    "the variance is the average of the squared differences from the mean, \n",
    "and the standard deviation is the square root of the variance. \n",
    "These measures can be used to describe how spread out the values in a dataset are."
   ]
  }
 ],
 "metadata": {
  "kernelspec": {
   "display_name": "Python 3 (ipykernel)",
   "language": "python",
   "name": "python3"
  },
  "language_info": {
   "codemirror_mode": {
    "name": "ipython",
    "version": 3
   },
   "file_extension": ".py",
   "mimetype": "text/x-python",
   "name": "python",
   "nbconvert_exporter": "python",
   "pygments_lexer": "ipython3",
   "version": "3.9.13"
  }
 },
 "nbformat": 4,
 "nbformat_minor": 5
}
