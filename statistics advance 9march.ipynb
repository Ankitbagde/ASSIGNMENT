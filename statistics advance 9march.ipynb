{
 "cells": [
  {
   "cell_type": "code",
   "execution_count": null,
   "id": "6c37a1f3",
   "metadata": {},
   "outputs": [],
   "source": [
    "Q1: What are the Probability Mass Function (PMF) and Probability Density Function (PDF)? Explain with\n",
    "an example.\n"
   ]
  },
  {
   "cell_type": "code",
   "execution_count": null,
   "id": "de649bee",
   "metadata": {},
   "outputs": [],
   "source": [
    " The Probability Mass Function (PMF) is a function that maps the possible values of a discrete random variable to their respective probabilities.\n",
    "It gives the probability of a specific outcome of a discrete random variable. \n",
    "For example, suppose we roll a fair six-sided die,\n",
    "the PMF would be a function that maps each possible value (1, 2, 3, 4, 5, 6) to their respective probabilities (1/6, 1/6, 1/6, 1/6, 1/6, 1/6).\n",
    "\n",
    "The Probability Density Function (PDF) is a function that maps the possible values of a continuous random variable to their respective probabilities. \n",
    "Unlike PMF, PDF cannot give the probability of a specific outcome but gives the probability density at a given point.\n",
    "For example, suppose the height of a population is normally distributed with mean 170 cm and standard deviation 5 cm. \n",
    "The PDF would give the probability density for each possible height value. \n",
    "It would not give the probability that a randomly chosen person would be precisely, say, 1\n",
    "72 cm tall but would tell us how likely it is to observe heights between 171.5 cm and 172.5 cm.\n",
    "\n"
   ]
  },
  {
   "cell_type": "code",
   "execution_count": null,
   "id": "e623fbe2",
   "metadata": {},
   "outputs": [],
   "source": [
    "Q2: What is Cumulative Density Function (CDF)? Explain with an example. Why CDF is used?\n"
   ]
  },
  {
   "cell_type": "code",
   "execution_count": null,
   "id": "c9d797d8",
   "metadata": {},
   "outputs": [],
   "source": [
    "The Cumulative Density Function (CDF) is a function that gives the probability that a random variable is less than or equal to a certain value. \n",
    "It is a measure of the distribution's cumulative probability up to that point. \n",
    "CDF is defined for both continuous and discrete random variables.\n",
    "For example, suppose we toss a fair coin. The CDF would be a function that maps 0 and 1 to their respective probabilities at each point,\n",
    "with the value at 0 being 0.5 (the probability of obtaining a head or a tail) and the value at 1 being 1.0 (the probability of obtaining a head and a tail).\n",
    "\n",
    "CDF is used to determine various statistics, such as the median and percentiles, which are useful in decision-making processes.\n",
    "CDF also helps us to analyze the distribution of data in a more efficient way, especially when compared to raw data."
   ]
  },
  {
   "cell_type": "code",
   "execution_count": null,
   "id": "078f34d3",
   "metadata": {},
   "outputs": [],
   "source": [
    "Q3: What are some examples of situations where the normal distribution might be used as a model?\n",
    "Explain how the parameters of the normal distribution relate to the shape of the distribution.\n"
   ]
  },
  {
   "cell_type": "code",
   "execution_count": null,
   "id": "8cf61912",
   "metadata": {},
   "outputs": [],
   "source": [
    "The normal distribution, also known as the Gaussian distribution, is a widely used probability distribution in statistics. \n",
    "Some examples of situations where the normal distribution might be used as a model include:\n",
    "\n",
    "The distribution of heights and weights of a population\n",
    "The distribution of IQ scores\n",
    "The distribution of errors in measurements and experimental data\n",
    "The distribution of grades in a large class\n",
    "The parameters of the normal distribution are the mean (μ) and the standard deviation (σ). \n",
    "The mean determines the center of the distribution, while the standard deviation determines the spread or variability of the distribution. A larger value of σ indicates that the data is more dispersed and the distribution is flatter, while a smaller value of σ indicates that the data is more concentrated around the mean and the distribution is taller. The normal distribution is symmetrical about its mean, with 50% of the data lying on each side of the mean."
   ]
  },
  {
   "cell_type": "code",
   "execution_count": null,
   "id": "fdfb1a70",
   "metadata": {},
   "outputs": [],
   "source": [
    "Q4: Explain the importance of Normal Distribution. Give a few real-life examples of Normal\n",
    "Distribution.\n"
   ]
  },
  {
   "cell_type": "code",
   "execution_count": null,
   "id": "e4e5bbb5",
   "metadata": {},
   "outputs": [],
   "source": [
    "The normal distribution is important in statistics because it provides a simple and widely applicable model for many real-world phenomena. \n",
    "The normal distribution is often used to model random variables that have a large number of factors contributing to their values, \n",
    "which tend to average out to a central tendency. \n",
    "The normal distribution also has some desirable mathematical properties, \n",
    "which make it useful for statistical inference and hypothesis testing.\n",
    "\n",
    "Some examples of real-life phenomena that can be modeled by the normal distribution include:\n",
    "\n",
    "The distribution of heights and weights in a population\n",
    "The distribution of IQ scores\n",
    "The distribution of errors in measurements and experimental data\n",
    "The distribution of scores on standardized tests, such as the SAT or ACT\n",
    "The distribution of financial returns on investments"
   ]
  },
  {
   "cell_type": "code",
   "execution_count": null,
   "id": "7b304974",
   "metadata": {},
   "outputs": [],
   "source": [
    "Q5: What is Bernaulli Distribution? Give an Example. What is the difference between Bernoulli\n",
    "Distribution and Binomial Distribution?\n"
   ]
  },
  {
   "cell_type": "code",
   "execution_count": null,
   "id": "6a29a1b3",
   "metadata": {},
   "outputs": [],
   "source": [
    "The Bernoulli distribution is a probability distribution that models a random variable that can take on only two values, usually represented as 0 or 1. \n",
    "It is named after the Swiss mathematician Jacob Bernoulli.\n",
    "The Bernoulli distribution is useful for modeling situations where an experiment can result in only one of two outcomes, such as a coin toss.\n",
    "\n",
    "For example, suppose we toss a fair coin, and we define the random variable X as follows: X=1 if the coin lands heads, and X=0 if the coin lands tails. \n",
    "    Then, X follows a Bernoulli distribution with parameter p=0.5, which represents the probability of obtaining a head.\n",
    "\n",
    "The binomial distribution is an extension of the Bernoulli distribution to situations where the experiment is repeated a fixed number of times,\n",
    "and we are interested in the number of times a particular outcome occurs. \n",
    "The binomial distribution is used to model a situation where there are n independent trials, each with a Bernoulli distribution, and we are interested in the number of successes (or failures) that occur.\n",
    "\n",
    "For example, suppose we toss a fair coin 10 times, and we define the random variable Y as the number of heads obtained. Then, Y follows a binomial distribution with parameters n=10 and p=0.5,\n",
    "where n is the number of trials and p is the probability of success in each trial. The binomial distribution can be used to answer questions like \"What is the probability of obtaining exactly 4 heads in 10 coin tosses?\""
   ]
  },
  {
   "cell_type": "code",
   "execution_count": null,
   "id": "f751dff0",
   "metadata": {},
   "outputs": [],
   "source": [
    "Q6. Consider a dataset with a mean of 50 and a standard deviation of 10. If we assume that the dataset\n",
    "is normally distributed, what is the probability that a randomly selected observation will be greater\n",
    "than 60? Use the appropriate formula and show your calculations.\n"
   ]
  },
  {
   "cell_type": "code",
   "execution_count": null,
   "id": "ae51dd1c",
   "metadata": {},
   "outputs": [],
   "source": [
    " If we assume that the dataset is normally distributed with a mean of 50 and a standard deviation of 10,\n",
    "    we can use the standard normal distribution to find the probability that a randomly selected observation will be greater than 60. \n",
    "    The standard normal distribution has a mean of 0 and a standard deviation of 1. We can convert the observation of 60 to a z-score as follows:\n",
    "\n",
    "z = (60 - 50) / 10 = 1\n",
    "\n",
    "Then, we can use a standard normal distribution table or calculator to find the probability that a randomly selected observation from a standard normal distribution is greater than 1.\n",
    "This probability is approximately 0.1587. Therefore, the probability that a randomly selected observation from the given dataset is greater than 60 is approximately 0.1587."
   ]
  },
  {
   "cell_type": "code",
   "execution_count": null,
   "id": "8a462f5d",
   "metadata": {},
   "outputs": [],
   "source": [
    "Q7: Explain uniform Distribution with an example.\n"
   ]
  },
  {
   "cell_type": "code",
   "execution_count": null,
   "id": "bf9ce553",
   "metadata": {},
   "outputs": [],
   "source": [
    "The uniform distribution is a probability distribution that models a random variable that can take on values within a specified interval with equal probability. \n",
    "The probability density function (PDF) of a uniform distribution is constant within the interval and zero outside the interval. For example,\n",
    "if we consider a uniform distribution over the interval [0,1], the PDF is given by:\n",
    "\n",
    "f(x) = 1 for 0 ≤ x ≤ 1\n",
    "0 otherwise\n",
    "\n",
    "This means that any value between 0 and 1 is equally likely to be selected."
   ]
  },
  {
   "cell_type": "code",
   "execution_count": null,
   "id": "08f8db67",
   "metadata": {},
   "outputs": [],
   "source": [
    "Q8: What is the z score? State the importance of the z score.\n"
   ]
  },
  {
   "cell_type": "code",
   "execution_count": null,
   "id": "8dff4ef3",
   "metadata": {},
   "outputs": [],
   "source": [
    "The z-score is a standardized score that measures the number of standard deviations a data point is from the mean.\n",
    "The formula for calculating the z-score for a data point x with mean μ and standard deviation σ is:\n",
    "\n",
    "z = (x - μ) / σ\n",
    "\n",
    "The z-score is important because it allows us to compare observations from different datasets that may have different scales and distributions.\n",
    "By standardizing the observations, we can compare them on a common scale and make inferences about the population from the sample."
   ]
  },
  {
   "cell_type": "code",
   "execution_count": null,
   "id": "9e4b99a5",
   "metadata": {},
   "outputs": [],
   "source": [
    "Q9: What is Central Limit Theorem? State the significance of the Central Limit Theorem.\n"
   ]
  },
  {
   "cell_type": "code",
   "execution_count": null,
   "id": "63fd1f46",
   "metadata": {},
   "outputs": [],
   "source": [
    "The Central Limit Theorem (CLT) is a fundamental theorem in statistics that states that,\n",
    "under certain conditions, the sample mean of a random sample from any population will be approximately normally distributed, \n",
    "regardless of the underlying distribution of the population.\n",
    "The CLT is important because it allows us to use the normal distribution to make inferences about the population mean, \n",
    "even when the population distribution is unknown or non-normal."
   ]
  },
  {
   "cell_type": "code",
   "execution_count": null,
   "id": "ff890fcd",
   "metadata": {},
   "outputs": [],
   "source": [
    "Q10: State the assumptions of the Central Limit Theorem."
   ]
  },
  {
   "cell_type": "code",
   "execution_count": null,
   "id": "040d9e59",
   "metadata": {},
   "outputs": [],
   "source": [
    "The assumptions of the Central Limit Theorem are:\n",
    "\n",
    "The sample is a random sample.\n",
    "The sample size is sufficiently large (typically n ≥ 30).\n",
    "The observations in the sample are independent of each other.\n",
    "The population has a finite variance.\n",
    "\n",
    "\n"
   ]
  },
  {
   "cell_type": "code",
   "execution_count": null,
   "id": "f52f00d0",
   "metadata": {},
   "outputs": [],
   "source": []
  },
  {
   "cell_type": "code",
   "execution_count": null,
   "id": "3ea5af3f",
   "metadata": {},
   "outputs": [],
   "source": []
  },
  {
   "cell_type": "code",
   "execution_count": null,
   "id": "5663517c",
   "metadata": {},
   "outputs": [],
   "source": []
  }
 ],
 "metadata": {
  "kernelspec": {
   "display_name": "Python 3 (ipykernel)",
   "language": "python",
   "name": "python3"
  },
  "language_info": {
   "codemirror_mode": {
    "name": "ipython",
    "version": 3
   },
   "file_extension": ".py",
   "mimetype": "text/x-python",
   "name": "python",
   "nbconvert_exporter": "python",
   "pygments_lexer": "ipython3",
   "version": "3.9.13"
  }
 },
 "nbformat": 4,
 "nbformat_minor": 5
}
