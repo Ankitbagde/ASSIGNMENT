{
 "cells": [
  {
   "cell_type": "code",
   "execution_count": null,
   "id": "b96aacb9",
   "metadata": {},
   "outputs": [],
   "source": [
    "Q1.What is multithreading in python? Why is it used? Name the module used to handle threads in python\n"
   ]
  },
  {
   "cell_type": "code",
   "execution_count": null,
   "id": "aed5418a",
   "metadata": {},
   "outputs": [],
   "source": [
    "ANS-Multithreading in Python refers to the process of executing multiple threads simultaneously within a single process. \n",
    "A thread is a lightweight process that can run in parallel with other threads within the same program.\n",
    "\n",
    "Multithreading is used in Python to improve the performance of certain types of applications, \n",
    "especially those that require concurrent execution of multiple tasks. \n",
    "It allows a program to perform multiple tasks at the same time, thereby reducing the overall processing time.\n",
    "\n",
    "The module used to handle threads in Python is the \"threading\" module. \n",
    "It provides a simple way to create and manage threads in Python.\n",
    "The threading module allows you to create multiple threads, start them, stop them, and synchronize their execution. \n",
    "It provides various synchronization primitives such as Locks, Semaphores, and Condition variables, \n",
    "which can be used to control access to shared resources and coordinate the execution of multiple threads.\n",
    "\n",
    "\n",
    "\n",
    "\n",
    "\n"
   ]
  },
  {
   "cell_type": "code",
   "execution_count": null,
   "id": "0208c289",
   "metadata": {},
   "outputs": [],
   "source": [
    "Q2.Why threading module used? Write the use of the following functions\n",
    " 1.activeCount()\n",
    " 2.currentThread()\n",
    " 3.enumerate()\n"
   ]
  },
  {
   "cell_type": "code",
   "execution_count": null,
   "id": "c4e33774",
   "metadata": {},
   "outputs": [],
   "source": [
    "ANS-The threading module in Python is used to create and manage threads in a program. \n",
    "It provides a way to execute multiple threads simultaneously, \n",
    "which can improve the performance of certain types of applications.\n",
    "\n",
    "The activeCount() function is used to return the number of thread objects that are active in the current thread's control flow. \n",
    "This function is useful for debugging and monitoring purposes as it can help identify if there are any threads that are not properly terminated.\n",
    "\n",
    "The currentThread() function is used to return a thread object that represents the current thread of execution.\n",
    "This function can be used to identify the thread that is currently executing and to obtain information about that thread, such as its name, identification number, or other attributes.\n",
    "\n",
    "The enumerate() function is used to return a list of all thread objects that are currently active in the program. \n",
    "This function can be used to obtain information about all the threads that are currently executing, such as their names, identification numbers, or other attributes. \n",
    "It can also be used to monitor the activity of threads and to identify if any threads are not properly terminated.\n",
    "\n",
    "\n",
    "\n",
    "\n",
    "\n"
   ]
  },
  {
   "cell_type": "code",
   "execution_count": null,
   "id": "09a76a39",
   "metadata": {},
   "outputs": [],
   "source": [
    "3. Explain the following functions\n",
    " 1.run()\n",
    " 2.start()\n",
    " 3.join()\n",
    " 4.isAlive()\n"
   ]
  },
  {
   "cell_type": "code",
   "execution_count": null,
   "id": "dd197dd3",
   "metadata": {},
   "outputs": [],
   "source": [
    "1.The run() function is the entry point for the thread's activity. It defines the code to be executed in the thread's separate control flow when the thread is started. \n",
    "When a thread is started, the run() method is called automatically by the threading module.\n",
    "\n",
    "2.The start() function is used to start a thread's activity. \n",
    "It creates a new thread of control flow and calls the run() method of the thread in that new thread.\n",
    "The start() function should be called only once for each thread object, and it cannot be called again until the thread has finished executing.\n",
    "\n",
    "3.The join() function is used to wait for a thread to complete its execution.\n",
    "When the join() method is called on a thread object, the calling thread is blocked until the thread being joined completes its execution.\n",
    "This function is typically used to ensure that a thread has completed its task before continuing with the main program.\n",
    "\n",
    "\n",
    "4.The isAlive() function is used to determine whether a thread is still executing or has completed its execution. \n",
    "When called on a thread object, the isAlive() method returns True if the thread is still executing and False otherwise.\n",
    "This function can be useful for monitoring the status of a thread and determining when it has completed its task.\n",
    "\n",
    "\n",
    "\n",
    "\n",
    "\n"
   ]
  },
  {
   "cell_type": "code",
   "execution_count": null,
   "id": "0e165eff",
   "metadata": {},
   "outputs": [],
   "source": [
    "4. Write a python program to create two threads. Thread one must print the list of squares and thread\n",
    "two must print the list of cubes\n"
   ]
  },
  {
   "cell_type": "code",
   "execution_count": 1,
   "id": "b0710fee",
   "metadata": {},
   "outputs": [
    {
     "name": "stdout",
     "output_type": "stream",
     "text": [
      "Square of 1: 1\n",
      "Square of 2: 4\n",
      "Square of 3: 9\n",
      "Square of 4: 16\n",
      "Square of 5: 25\n",
      "Cube of 1: 1\n",
      "Cube of 2: 8\n",
      "Cube of 3: 27\n",
      "Cube of 4: 64\n",
      "Cube of 5: 125\n",
      "Done!\n"
     ]
    }
   ],
   "source": [
    "import threading\n",
    "\n",
    "def print_squares():\n",
    "    for i in range(1, 6):\n",
    "        print(f\"Square of {i}: {i*i}\")\n",
    "\n",
    "def print_cubes():\n",
    "    for i in range(1, 6):\n",
    "        print(f\"Cube of {i}: {i*i*i}\")\n",
    "\n",
    "t1 = threading.Thread(target=print_squares)\n",
    "t2 = threading.Thread(target=print_cubes)\n",
    "\n",
    "t1.start()\n",
    "t2.start()\n",
    "\n",
    "t1.join()\n",
    "t2.join()\n",
    "\n",
    "print(\"Done!\")\n"
   ]
  },
  {
   "cell_type": "code",
   "execution_count": null,
   "id": "aba76dd9",
   "metadata": {},
   "outputs": [],
   "source": [
    "5. State advantages and disadvantages of multithreading\n"
   ]
  },
  {
   "cell_type": "code",
   "execution_count": null,
   "id": "37fb0a74",
   "metadata": {},
   "outputs": [],
   "source": [
    "ANS---Multithreading is a technique used in computer programming to improve the performance of applications by allowing multiple threads of execution to run simultaneously within a single process.\n",
    "Here are some of the advantages and disadvantages of multithreading:\n",
    "\n",
    "**Advantages:\n",
    "\n",
    "Increased performance: By allowing multiple threads to execute in parallel, multithreading can significantly improve the performance of certain types of applications.\n",
    "\n",
    "Resource sharing: Multithreading enables different threads to share resources such as memory, input/output devices, and other system resources, thereby reducing the overall resource requirements of the application.\n",
    "\n",
    "Simplified programming: In some cases, multithreading can simplify the programming of complex applications by allowing different parts of the application to be executed in parallel threads.\n",
    "\n",
    "Responsiveness: Multithreading can improve the responsiveness of an application by allowing it to continue executing other tasks while waiting for input/output operations or other system events to occur.\n",
    "\n",
    "***Disadvantages:\n",
    "\n",
    "Complexity: Multithreading can add significant complexity to the design and implementation of applications, making them more difficult to debug and maintain.\n",
    "\n",
    "Synchronization issues: When multiple threads share resources, there can be issues with synchronization, such as race conditions and deadlocks, which can cause the application to behave unpredictably.\n",
    "\n",
    "Overhead: Creating and managing multiple threads can add significant overhead to the application, which can offset the performance gains achieved by multithreading.\n",
    "\n",
    "Debugging challenges: Debugging multithreaded applications can be challenging because of the non-deterministic nature of thread execution and the possibility of synchronization issues.\n",
    "\n",
    "In summary, multithreading can provide significant benefits in terms of performance, resource sharing, and responsiveness, but it can also introduce complexity, synchronization issues, overhead, and debugging challenges. It is important to carefully consider the trade-offs involved and to design and implement multithreaded applications with care."
   ]
  },
  {
   "cell_type": "code",
   "execution_count": null,
   "id": "13b4339f",
   "metadata": {},
   "outputs": [],
   "source": [
    "6. Explain deadlocks and race conditions."
   ]
  },
  {
   "cell_type": "code",
   "execution_count": null,
   "id": "9009ac49",
   "metadata": {},
   "outputs": [],
   "source": [
    "Deadlocks and race conditions are two common concurrency issues that can occur in multithreaded applications.\n",
    "\n",
    "***Deadlocks:\n",
    "A deadlock is a situation where two or more threads are blocked, each waiting for the other to release a resource or lock that it holds. \n",
    "This can occur when multiple threads compete for the same set of resources, such as locks or shared memory, \n",
    "and one or more threads hold a resource while waiting for another resource that is held by another thread.\n",
    "When this occurs, none of the threads can proceed, and the application may become unresponsive.\n",
    "\n",
    "***Race conditions:\n",
    "A race condition is a situation where the behavior of an application depends on the timing or order of events, \n",
    "such as the relative timing of thread execution or access to shared resources. \n",
    "In a race condition, multiple threads may access the same shared resource or memory location concurrently, \n",
    "and the result of their operations depends on the order in which they execute. \n",
    "This can lead to unpredictable behavior, such as incorrect results, crashes, or other errors.\n",
    "\n",
    "To avoid these issues, it is important to carefully design and test multithreaded applications, using techniques such as locks, semaphores, \n",
    "and other synchronization primitives to ensure that threads access shared resources in a coordinated and controlled manner. \n",
    "Additionally, it is important to avoid holding locks or other resources for extended periods of time and to minimize the use of shared resources as much as possible. \n",
    "By carefully managing concurrency and minimizing the potential for deadlocks and race conditions, you can ensure that your multithreaded applications are reliable, efficient, and robust."
   ]
  },
  {
   "cell_type": "code",
   "execution_count": null,
   "id": "69c7d33c",
   "metadata": {},
   "outputs": [],
   "source": []
  },
  {
   "cell_type": "code",
   "execution_count": null,
   "id": "06f87949",
   "metadata": {},
   "outputs": [],
   "source": []
  }
 ],
 "metadata": {
  "kernelspec": {
   "display_name": "Python 3 (ipykernel)",
   "language": "python",
   "name": "python3"
  },
  "language_info": {
   "codemirror_mode": {
    "name": "ipython",
    "version": 3
   },
   "file_extension": ".py",
   "mimetype": "text/x-python",
   "name": "python",
   "nbconvert_exporter": "python",
   "pygments_lexer": "ipython3",
   "version": "3.9.13"
  }
 },
 "nbformat": 4,
 "nbformat_minor": 5
}
