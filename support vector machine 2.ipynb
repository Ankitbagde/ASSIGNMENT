{
 "cells": [
  {
   "cell_type": "code",
   "execution_count": null,
   "id": "e691344a",
   "metadata": {},
   "outputs": [],
   "source": [
    "Q1. What is the relationship between polynomial functions and kernel functions in machine learning\n",
    "algorithms?\n"
   ]
  },
  {
   "cell_type": "code",
   "execution_count": null,
   "id": "a734a6b7",
   "metadata": {},
   "outputs": [],
   "source": [
    "Polynomial functions and kernel functions are closely related in machine learning algorithms, particularly in the context of kernel methods and support vector machines (SVMs).\n",
    "\n",
    "A polynomial function is a function of the form f(x) = a0 + a1x + a2x^2 + ... + an*x^n, where a0, a1, a2, ..., an are constants and x is the input variable. Polynomial functions can be used to model nonlinear relationships between the input variables and the target variable.\n",
    "\n",
    "Kernel functions, on the other hand, are functions that measure the similarity between two inputs. In machine learning, kernel functions are often used in kernel methods and SVMs to map the input data to a higher-dimensional feature space, where the data can be more easily separated by a hyperplane. One common type of kernel function is the polynomial kernel, which is defined as K(x, y) = (x.y + c)^d, where x and y are input vectors, d is the degree of the polynomial, and c is a constant.\n",
    "\n",
    "The polynomial kernel is essentially a way of computing a dot product in a higher-dimensional feature space, without actually having to compute the coordinates of the data points in that space. This is known as the kernel trick, and it allows for efficient computation of SVMs and other kernel methods.\n",
    "\n",
    "In other words, the polynomial kernel function allows us to implicitly map the input data into a higher-dimensional space, where we can apply a polynomial function to capture nonlinear relationships. Therefore, the polynomial function and the polynomial kernel function are related in that they both allow us to model nonlinear relationships in the data, but the kernel function does so by mapping the data to a higher-dimensional space."
   ]
  },
  {
   "cell_type": "code",
   "execution_count": null,
   "id": "61758c09",
   "metadata": {},
   "outputs": [],
   "source": [
    "Q2. How can we implement an SVM with a polynomial kernel in Python using Scikit-learn?\n"
   ]
  },
  {
   "cell_type": "code",
   "execution_count": null,
   "id": "1a8ca590",
   "metadata": {},
   "outputs": [],
   "source": [
    "To implement an SVM with a polynomial kernel in Python using Scikit-learn, you can use the\n",
    "SVC (Support Vector Classification) class, which allows you to specify the kernel function to use. \n",
    "Here is an example code that trains an SVM with a polynomial kernel on the iris dataset:"
   ]
  },
  {
   "cell_type": "code",
   "execution_count": 1,
   "id": "e138ac5b",
   "metadata": {},
   "outputs": [
    {
     "name": "stdout",
     "output_type": "stream",
     "text": [
      "Accuracy: 0.9777777777777777\n"
     ]
    }
   ],
   "source": [
    "from sklearn.datasets import load_iris\n",
    "from sklearn.model_selection import train_test_split\n",
    "from sklearn.svm import SVC\n",
    "from sklearn.metrics import accuracy_score\n",
    "\n",
    "# Load the iris dataset\n",
    "iris = load_iris()\n",
    "\n",
    "# Split the dataset into training and testing sets\n",
    "X_train, X_test, y_train, y_test = train_test_split(iris.data, iris.target, test_size=0.3, random_state=42)\n",
    "\n",
    "# Train an SVM with a polynomial kernel\n",
    "svc = SVC(kernel='poly', degree=3)\n",
    "svc.fit(X_train, y_train)\n",
    "\n",
    "# Predict on the testing set\n",
    "y_pred = svc.predict(X_test)\n",
    "\n",
    "# Calculate the accuracy of the model\n",
    "accuracy = accuracy_score(y_test, y_pred)\n",
    "print(\"Accuracy:\", accuracy)\n"
   ]
  },
  {
   "cell_type": "code",
   "execution_count": null,
   "id": "4d894425",
   "metadata": {},
   "outputs": [],
   "source": [
    "In this example, we first load the iris dataset using the load_iris function from Scikit-learn. We then split the\n",
    "dataset into training and testing sets using the train_test_split function.\n",
    "\n",
    "Next, we create an instance of the SVC class and specify the polynomial kernel by setting the kernel parameter \n",
    "to 'poly' and the degree of the polynomial to 3 (which is the default value for the degree parameter). \n",
    "We then fit the model on the training data using the fit method.\n",
    "\n",
    "After training the model, we predict on the testing set using the predict method and calculate the accuracy of the\n",
    "model using the accuracy_score function from Scikit-learn. Finally, we print the accuracy of the model."
   ]
  },
  {
   "cell_type": "code",
   "execution_count": null,
   "id": "129bf631",
   "metadata": {},
   "outputs": [],
   "source": [
    "Q3. How does increasing the value of epsilon affect the number of support vectors in SVR?"
   ]
  },
  {
   "cell_type": "code",
   "execution_count": null,
   "id": "58dcf58c",
   "metadata": {},
   "outputs": [],
   "source": [
    "In support vector regression (SVR), the parameter epsilon controls the size of the margin around the regression \n",
    "line (or hyperplane) within which no penalty is incurred. Increasing the value of epsilon allows for more training \n",
    "points to be within the margin or even on the wrong side of the regression line, which can result in a wider margin\n",
    "and more tolerant model.\n",
    "\n",
    "When the value of epsilon is increased, the number of support vectors in SVR may decrease. This is because increasing\n",
    "the value of epsilon can lead to a wider margin and a larger number of training points lying outside the margin or on \n",
    "the wrong side of the regression line. As a result, some of the training points that were previously classified as \n",
    "support vectors may no longer be necessary to define the margin and may no longer be classified as support vectors.\n",
    "\n",
    "On the other hand, decreasing the value of epsilon can lead to a narrower margin and a smaller number of training \n",
    "points lying outside the margin or on the wrong side of the regression line. This can result in a larger number of\n",
    "support vectors.\n",
    "\n",
    "It's important to note that the number of support vectors in SVR depends not only on the value of epsilon but also\n",
    "on the complexity of the model and the distribution of the training data. In some cases, increasing the value of \n",
    "epsilon may result in a more complex model with more support vectors, while in other cases it may result in a\n",
    "simpler model with fewer support vectors."
   ]
  },
  {
   "cell_type": "code",
   "execution_count": null,
   "id": "8f2f2dae",
   "metadata": {},
   "outputs": [],
   "source": []
  },
  {
   "cell_type": "code",
   "execution_count": null,
   "id": "fbea453f",
   "metadata": {},
   "outputs": [],
   "source": [
    "Q4. How does the choice of kernel function, C parameter, epsilon parameter, and gamma parameter\n",
    "affect the performance of Support Vector Regression (SVR)? Can you explain how each parameter works\n",
    "and provide examples of when you might want to increase or decrease its value?\n"
   ]
  },
  {
   "cell_type": "code",
   "execution_count": null,
   "id": "ba953ef7",
   "metadata": {},
   "outputs": [],
   "source": [
    "The choice of kernel function, C parameter, epsilon parameter, and gamma parameter can all have a significant impact on the performance of Support Vector Regression (SVR).\n",
    "\n",
    "Kernel Function: The kernel function is used to map the input data to a higher dimensional feature space, which makes it possible to find a non-linear relationship between the input features and the target variable. The choice of kernel function depends on the nature of the data and the problem at hand. For example, the radial basis function (RBF) kernel is a popular choice for SVR because it can capture complex non-linear relationships.\n",
    "\n",
    "C Parameter: The C parameter controls the trade-off between achieving a low training error and a low testing error by adjusting the penalty for misclassifying training examples. A large C value will result in a smaller margin, which can lead to overfitting, while a small C value will result in a larger margin, which can lead to underfitting. It is important to choose an appropriate C value through cross-validation to avoid overfitting or underfitting.\n",
    "\n",
    "Epsilon Parameter: The epsilon parameter controls the width of the epsilon-insensitive zone around the predicted regression line. A larger value of epsilon makes the SVR more tolerant to errors, allowing more training examples to be within the margin or even on the wrong side of the regression line. A smaller value of epsilon makes the SVR less tolerant to errors, which can result in a narrower margin and fewer support vectors.\n",
    "\n",
    "Gamma Parameter: The gamma parameter controls the shape of the decision boundary and the influence of each training example. A small gamma value results in a more flexible decision boundary, while a large gamma value results in a more rigid decision boundary. A larger gamma value makes each training example have a stronger influence on the decision boundary, which can lead to overfitting. Conversely, a smaller gamma value can lead to underfitting.\n",
    "\n",
    "Examples of when you might want to increase or decrease the value of each parameter:\n",
    "\n",
    "Kernel Function: If the data is linearly separable, you might want to use a linear kernel. If the data is not linearly separable, you might want to use a non-linear kernel such as the RBF kernel.\n",
    "\n",
    "C Parameter: If the model is overfitting, you might want to increase the value of C to reduce the margin and force the model to classify the training examples more accurately. If the model is underfitting, you might want to decrease the value of C to increase the margin and allow for more misclassifications.\n",
    "\n",
    "Epsilon Parameter: If the model is underfitting, you might want to increase the value of epsilon to make the model more tolerant to errors and allow more training examples to be within the margin. If the model is overfitting, you might want to decrease the value of epsilon to make the model less tolerant to errors and force it to rely more on the support vectors.\n",
    "\n",
    "Gamma Parameter: If the model is overfitting, you might want to decrease the value of gamma to make the decision boundary more flexible and reduce the influence of each training example. If the model is underfitting, you might want to increase the value of gamma to make the decision boundary more rigid and give each training example more influence."
   ]
  },
  {
   "cell_type": "code",
   "execution_count": null,
   "id": "7eeb61b5",
   "metadata": {},
   "outputs": [],
   "source": [
    "Q5. Assignment:\n",
    "L Import the necessary libraries and load the dataseg\n",
    "L Split the dataset into training and testing setZ\n",
    "L Preprocess the data using any technique of your choice (e.g. scaling, normaliMationK\n",
    "L Create an instance of the SVC classifier and train it on the training datW\n",
    "L hse the trained classifier to predict the labels of the testing datW\n",
    "L Evaluate the performance of the classifier using any metric of your choice (e.g. accuracy,\n",
    "precision, recall, F1-scoreK\n",
    "L Tune the hyperparameters of the SVC classifier using GridSearchCV or RandomiMedSearchCV to\n",
    "improve its performanc_\n",
    "L Train the tuned classifier on the entire dataseg\n",
    "L Save the trained classifier to a file for future use.\n",
    "\n",
    "You can use any dataset of your choice for this assignment, but make sure it is suitable for\n",
    "classification and has a sufficient number of features and samples."
   ]
  },
  {
   "cell_type": "code",
   "execution_count": 3,
   "id": "ea75d601",
   "metadata": {},
   "outputs": [],
   "source": [
    "#Let's start with importing necessary libraries\n",
    "import pandas as pd \n",
    "import numpy as np \n",
    "from sklearn.preprocessing import StandardScaler \n",
    "from sklearn.linear_model  import LogisticRegression\n",
    "from sklearn.model_selection import train_test_split\n",
    "from sklearn.metrics import accuracy_score, confusion_matrix\n",
    "import matplotlib.pyplot as plt\n",
    "import seaborn as sns"
   ]
  },
  {
   "cell_type": "code",
   "execution_count": 8,
   "id": "3a15dffe",
   "metadata": {},
   "outputs": [],
   "source": [
    "data=pd.read_csv(\"diabetes.csv\")"
   ]
  },
  {
   "cell_type": "code",
   "execution_count": 9,
   "id": "ef868a8c",
   "metadata": {},
   "outputs": [
    {
     "data": {
      "text/html": [
       "<div>\n",
       "<style scoped>\n",
       "    .dataframe tbody tr th:only-of-type {\n",
       "        vertical-align: middle;\n",
       "    }\n",
       "\n",
       "    .dataframe tbody tr th {\n",
       "        vertical-align: top;\n",
       "    }\n",
       "\n",
       "    .dataframe thead th {\n",
       "        text-align: right;\n",
       "    }\n",
       "</style>\n",
       "<table border=\"1\" class=\"dataframe\">\n",
       "  <thead>\n",
       "    <tr style=\"text-align: right;\">\n",
       "      <th></th>\n",
       "      <th>Pregnancies</th>\n",
       "      <th>Glucose</th>\n",
       "      <th>BloodPressure</th>\n",
       "      <th>SkinThickness</th>\n",
       "      <th>Insulin</th>\n",
       "      <th>BMI</th>\n",
       "      <th>DiabetesPedigreeFunction</th>\n",
       "      <th>Age</th>\n",
       "      <th>Outcome</th>\n",
       "    </tr>\n",
       "  </thead>\n",
       "  <tbody>\n",
       "    <tr>\n",
       "      <th>0</th>\n",
       "      <td>6</td>\n",
       "      <td>148</td>\n",
       "      <td>72</td>\n",
       "      <td>35</td>\n",
       "      <td>0</td>\n",
       "      <td>33.6</td>\n",
       "      <td>0.627</td>\n",
       "      <td>50</td>\n",
       "      <td>1</td>\n",
       "    </tr>\n",
       "    <tr>\n",
       "      <th>1</th>\n",
       "      <td>1</td>\n",
       "      <td>85</td>\n",
       "      <td>66</td>\n",
       "      <td>29</td>\n",
       "      <td>0</td>\n",
       "      <td>26.6</td>\n",
       "      <td>0.351</td>\n",
       "      <td>31</td>\n",
       "      <td>0</td>\n",
       "    </tr>\n",
       "    <tr>\n",
       "      <th>2</th>\n",
       "      <td>8</td>\n",
       "      <td>183</td>\n",
       "      <td>64</td>\n",
       "      <td>0</td>\n",
       "      <td>0</td>\n",
       "      <td>23.3</td>\n",
       "      <td>0.672</td>\n",
       "      <td>32</td>\n",
       "      <td>1</td>\n",
       "    </tr>\n",
       "    <tr>\n",
       "      <th>3</th>\n",
       "      <td>1</td>\n",
       "      <td>89</td>\n",
       "      <td>66</td>\n",
       "      <td>23</td>\n",
       "      <td>94</td>\n",
       "      <td>28.1</td>\n",
       "      <td>0.167</td>\n",
       "      <td>21</td>\n",
       "      <td>0</td>\n",
       "    </tr>\n",
       "    <tr>\n",
       "      <th>4</th>\n",
       "      <td>0</td>\n",
       "      <td>137</td>\n",
       "      <td>40</td>\n",
       "      <td>35</td>\n",
       "      <td>168</td>\n",
       "      <td>43.1</td>\n",
       "      <td>2.288</td>\n",
       "      <td>33</td>\n",
       "      <td>1</td>\n",
       "    </tr>\n",
       "  </tbody>\n",
       "</table>\n",
       "</div>"
      ],
      "text/plain": [
       "   Pregnancies  Glucose  BloodPressure  SkinThickness  Insulin   BMI  \\\n",
       "0            6      148             72             35        0  33.6   \n",
       "1            1       85             66             29        0  26.6   \n",
       "2            8      183             64              0        0  23.3   \n",
       "3            1       89             66             23       94  28.1   \n",
       "4            0      137             40             35      168  43.1   \n",
       "\n",
       "   DiabetesPedigreeFunction  Age  Outcome  \n",
       "0                     0.627   50        1  \n",
       "1                     0.351   31        0  \n",
       "2                     0.672   32        1  \n",
       "3                     0.167   21        0  \n",
       "4                     2.288   33        1  "
      ]
     },
     "execution_count": 9,
     "metadata": {},
     "output_type": "execute_result"
    }
   ],
   "source": [
    "data.head()"
   ]
  },
  {
   "cell_type": "code",
   "execution_count": 11,
   "id": "4cfbdcd4",
   "metadata": {},
   "outputs": [
    {
     "data": {
      "text/html": [
       "<div>\n",
       "<style scoped>\n",
       "    .dataframe tbody tr th:only-of-type {\n",
       "        vertical-align: middle;\n",
       "    }\n",
       "\n",
       "    .dataframe tbody tr th {\n",
       "        vertical-align: top;\n",
       "    }\n",
       "\n",
       "    .dataframe thead th {\n",
       "        text-align: right;\n",
       "    }\n",
       "</style>\n",
       "<table border=\"1\" class=\"dataframe\">\n",
       "  <thead>\n",
       "    <tr style=\"text-align: right;\">\n",
       "      <th></th>\n",
       "      <th>Pregnancies</th>\n",
       "      <th>Glucose</th>\n",
       "      <th>BloodPressure</th>\n",
       "      <th>SkinThickness</th>\n",
       "      <th>Insulin</th>\n",
       "      <th>BMI</th>\n",
       "      <th>DiabetesPedigreeFunction</th>\n",
       "      <th>Age</th>\n",
       "      <th>Outcome</th>\n",
       "    </tr>\n",
       "  </thead>\n",
       "  <tbody>\n",
       "    <tr>\n",
       "      <th>count</th>\n",
       "      <td>768.000000</td>\n",
       "      <td>768.000000</td>\n",
       "      <td>768.000000</td>\n",
       "      <td>768.000000</td>\n",
       "      <td>768.000000</td>\n",
       "      <td>768.000000</td>\n",
       "      <td>768.000000</td>\n",
       "      <td>768.000000</td>\n",
       "      <td>768.000000</td>\n",
       "    </tr>\n",
       "    <tr>\n",
       "      <th>mean</th>\n",
       "      <td>3.845052</td>\n",
       "      <td>120.894531</td>\n",
       "      <td>69.105469</td>\n",
       "      <td>20.536458</td>\n",
       "      <td>79.799479</td>\n",
       "      <td>31.992578</td>\n",
       "      <td>0.471876</td>\n",
       "      <td>33.240885</td>\n",
       "      <td>0.348958</td>\n",
       "    </tr>\n",
       "    <tr>\n",
       "      <th>std</th>\n",
       "      <td>3.369578</td>\n",
       "      <td>31.972618</td>\n",
       "      <td>19.355807</td>\n",
       "      <td>15.952218</td>\n",
       "      <td>115.244002</td>\n",
       "      <td>7.884160</td>\n",
       "      <td>0.331329</td>\n",
       "      <td>11.760232</td>\n",
       "      <td>0.476951</td>\n",
       "    </tr>\n",
       "    <tr>\n",
       "      <th>min</th>\n",
       "      <td>0.000000</td>\n",
       "      <td>0.000000</td>\n",
       "      <td>0.000000</td>\n",
       "      <td>0.000000</td>\n",
       "      <td>0.000000</td>\n",
       "      <td>0.000000</td>\n",
       "      <td>0.078000</td>\n",
       "      <td>21.000000</td>\n",
       "      <td>0.000000</td>\n",
       "    </tr>\n",
       "    <tr>\n",
       "      <th>25%</th>\n",
       "      <td>1.000000</td>\n",
       "      <td>99.000000</td>\n",
       "      <td>62.000000</td>\n",
       "      <td>0.000000</td>\n",
       "      <td>0.000000</td>\n",
       "      <td>27.300000</td>\n",
       "      <td>0.243750</td>\n",
       "      <td>24.000000</td>\n",
       "      <td>0.000000</td>\n",
       "    </tr>\n",
       "    <tr>\n",
       "      <th>50%</th>\n",
       "      <td>3.000000</td>\n",
       "      <td>117.000000</td>\n",
       "      <td>72.000000</td>\n",
       "      <td>23.000000</td>\n",
       "      <td>30.500000</td>\n",
       "      <td>32.000000</td>\n",
       "      <td>0.372500</td>\n",
       "      <td>29.000000</td>\n",
       "      <td>0.000000</td>\n",
       "    </tr>\n",
       "    <tr>\n",
       "      <th>75%</th>\n",
       "      <td>6.000000</td>\n",
       "      <td>140.250000</td>\n",
       "      <td>80.000000</td>\n",
       "      <td>32.000000</td>\n",
       "      <td>127.250000</td>\n",
       "      <td>36.600000</td>\n",
       "      <td>0.626250</td>\n",
       "      <td>41.000000</td>\n",
       "      <td>1.000000</td>\n",
       "    </tr>\n",
       "    <tr>\n",
       "      <th>max</th>\n",
       "      <td>17.000000</td>\n",
       "      <td>199.000000</td>\n",
       "      <td>122.000000</td>\n",
       "      <td>99.000000</td>\n",
       "      <td>846.000000</td>\n",
       "      <td>67.100000</td>\n",
       "      <td>2.420000</td>\n",
       "      <td>81.000000</td>\n",
       "      <td>1.000000</td>\n",
       "    </tr>\n",
       "  </tbody>\n",
       "</table>\n",
       "</div>"
      ],
      "text/plain": [
       "       Pregnancies     Glucose  BloodPressure  SkinThickness     Insulin  \\\n",
       "count   768.000000  768.000000     768.000000     768.000000  768.000000   \n",
       "mean      3.845052  120.894531      69.105469      20.536458   79.799479   \n",
       "std       3.369578   31.972618      19.355807      15.952218  115.244002   \n",
       "min       0.000000    0.000000       0.000000       0.000000    0.000000   \n",
       "25%       1.000000   99.000000      62.000000       0.000000    0.000000   \n",
       "50%       3.000000  117.000000      72.000000      23.000000   30.500000   \n",
       "75%       6.000000  140.250000      80.000000      32.000000  127.250000   \n",
       "max      17.000000  199.000000     122.000000      99.000000  846.000000   \n",
       "\n",
       "              BMI  DiabetesPedigreeFunction         Age     Outcome  \n",
       "count  768.000000                768.000000  768.000000  768.000000  \n",
       "mean    31.992578                  0.471876   33.240885    0.348958  \n",
       "std      7.884160                  0.331329   11.760232    0.476951  \n",
       "min      0.000000                  0.078000   21.000000    0.000000  \n",
       "25%     27.300000                  0.243750   24.000000    0.000000  \n",
       "50%     32.000000                  0.372500   29.000000    0.000000  \n",
       "75%     36.600000                  0.626250   41.000000    1.000000  \n",
       "max     67.100000                  2.420000   81.000000    1.000000  "
      ]
     },
     "execution_count": 11,
     "metadata": {},
     "output_type": "execute_result"
    }
   ],
   "source": [
    "data.describe()"
   ]
  },
  {
   "cell_type": "code",
   "execution_count": 12,
   "id": "b35f2e6d",
   "metadata": {},
   "outputs": [
    {
     "data": {
      "text/plain": [
       "Pregnancies                 0\n",
       "Glucose                     0\n",
       "BloodPressure               0\n",
       "SkinThickness               0\n",
       "Insulin                     0\n",
       "BMI                         0\n",
       "DiabetesPedigreeFunction    0\n",
       "Age                         0\n",
       "Outcome                     0\n",
       "dtype: int64"
      ]
     },
     "execution_count": 12,
     "metadata": {},
     "output_type": "execute_result"
    }
   ],
   "source": [
    "data.isnull().sum()"
   ]
  },
  {
   "cell_type": "code",
   "execution_count": 13,
   "id": "514f299f",
   "metadata": {},
   "outputs": [
    {
     "data": {
      "text/plain": [
       "<AxesSubplot:>"
      ]
     },
     "execution_count": 13,
     "metadata": {},
     "output_type": "execute_result"
    },
    {
     "data": {
      "image/png": "[encoded data removed]",
      "text/plain": [
       "<Figure size 1500x1000 with 1 Axes>"
      ]
     },
     "metadata": {},
     "output_type": "display_data"
    }
   ],
   "source": [
    "fig, ax = plt.subplots(figsize=(15,10))\n",
    "sns.boxplot(data=data, width= 0.5,ax=ax,  fliersize=3)"
   ]
  },
  {
   "cell_type": "code",
   "execution_count": 15,
   "id": "4b9bc758",
   "metadata": {},
   "outputs": [],
   "source": [
    "data[\"Glucose\"]=data[\"Glucose\"].replace(0,data[\"Glucose\"].mean())\n",
    "data[\"BloodPressure\"]=data[\"BloodPressure\"].replace(0,data[\"BloodPressure\"].mean())\n",
    "data[\"SkinThickness\"]=data[\"SkinThickness\"].replace(0,data[\"SkinThickness\"].mean())\n",
    "data[\"Insulin\"]=data[\"Insulin\"].replace(0,data[\"Insulin\"].median())\n",
    "data[\"BMI\"]=data[\"BMI\"].replace(0,data[\"BMI\"].mean())"
   ]
  },
  {
   "cell_type": "code",
   "execution_count": 16,
   "id": "ab9cce6b",
   "metadata": {},
   "outputs": [
    {
     "data": {
      "text/plain": [
       "<AxesSubplot:>"
      ]
     },
     "execution_count": 16,
     "metadata": {},
     "output_type": "execute_result"
    },
    {
     "data": {
      "image/png": "[encoded data removed]",
      "text/plain": [
       "<Figure size 1500x1000 with 1 Axes>"
      ]
     },
     "metadata": {},
     "output_type": "display_data"
    }
   ],
   "source": [
    "fig, ax = plt.subplots(figsize=(15,10))\n",
    "sns.boxplot(data=data, width= 0.5,ax=ax,  fliersize=3)"
   ]
  },
  {
   "cell_type": "code",
   "execution_count": 17,
   "id": "730474d0",
   "metadata": {},
   "outputs": [
    {
     "data": {
      "text/html": [
       "<div>\n",
       "<style scoped>\n",
       "    .dataframe tbody tr th:only-of-type {\n",
       "        vertical-align: middle;\n",
       "    }\n",
       "\n",
       "    .dataframe tbody tr th {\n",
       "        vertical-align: top;\n",
       "    }\n",
       "\n",
       "    .dataframe thead th {\n",
       "        text-align: right;\n",
       "    }\n",
       "</style>\n",
       "<table border=\"1\" class=\"dataframe\">\n",
       "  <thead>\n",
       "    <tr style=\"text-align: right;\">\n",
       "      <th></th>\n",
       "      <th>Pregnancies</th>\n",
       "      <th>Glucose</th>\n",
       "      <th>BloodPressure</th>\n",
       "      <th>SkinThickness</th>\n",
       "      <th>Insulin</th>\n",
       "      <th>BMI</th>\n",
       "      <th>DiabetesPedigreeFunction</th>\n",
       "      <th>Age</th>\n",
       "      <th>Outcome</th>\n",
       "    </tr>\n",
       "  </thead>\n",
       "  <tbody>\n",
       "    <tr>\n",
       "      <th>0</th>\n",
       "      <td>6</td>\n",
       "      <td>148.0</td>\n",
       "      <td>72.0</td>\n",
       "      <td>35.000000</td>\n",
       "      <td>30.5</td>\n",
       "      <td>33.6</td>\n",
       "      <td>0.627</td>\n",
       "      <td>50</td>\n",
       "      <td>1</td>\n",
       "    </tr>\n",
       "    <tr>\n",
       "      <th>1</th>\n",
       "      <td>1</td>\n",
       "      <td>85.0</td>\n",
       "      <td>66.0</td>\n",
       "      <td>29.000000</td>\n",
       "      <td>30.5</td>\n",
       "      <td>26.6</td>\n",
       "      <td>0.351</td>\n",
       "      <td>31</td>\n",
       "      <td>0</td>\n",
       "    </tr>\n",
       "    <tr>\n",
       "      <th>2</th>\n",
       "      <td>8</td>\n",
       "      <td>183.0</td>\n",
       "      <td>64.0</td>\n",
       "      <td>20.536458</td>\n",
       "      <td>30.5</td>\n",
       "      <td>23.3</td>\n",
       "      <td>0.672</td>\n",
       "      <td>32</td>\n",
       "      <td>1</td>\n",
       "    </tr>\n",
       "    <tr>\n",
       "      <th>3</th>\n",
       "      <td>1</td>\n",
       "      <td>89.0</td>\n",
       "      <td>66.0</td>\n",
       "      <td>23.000000</td>\n",
       "      <td>94.0</td>\n",
       "      <td>28.1</td>\n",
       "      <td>0.167</td>\n",
       "      <td>21</td>\n",
       "      <td>0</td>\n",
       "    </tr>\n",
       "    <tr>\n",
       "      <th>4</th>\n",
       "      <td>0</td>\n",
       "      <td>137.0</td>\n",
       "      <td>40.0</td>\n",
       "      <td>35.000000</td>\n",
       "      <td>168.0</td>\n",
       "      <td>43.1</td>\n",
       "      <td>2.288</td>\n",
       "      <td>33</td>\n",
       "      <td>1</td>\n",
       "    </tr>\n",
       "  </tbody>\n",
       "</table>\n",
       "</div>"
      ],
      "text/plain": [
       "   Pregnancies  Glucose  BloodPressure  SkinThickness  Insulin   BMI  \\\n",
       "0            6    148.0           72.0      35.000000     30.5  33.6   \n",
       "1            1     85.0           66.0      29.000000     30.5  26.6   \n",
       "2            8    183.0           64.0      20.536458     30.5  23.3   \n",
       "3            1     89.0           66.0      23.000000     94.0  28.1   \n",
       "4            0    137.0           40.0      35.000000    168.0  43.1   \n",
       "\n",
       "   DiabetesPedigreeFunction  Age  Outcome  \n",
       "0                     0.627   50        1  \n",
       "1                     0.351   31        0  \n",
       "2                     0.672   32        1  \n",
       "3                     0.167   21        0  \n",
       "4                     2.288   33        1  "
      ]
     },
     "execution_count": 17,
     "metadata": {},
     "output_type": "execute_result"
    }
   ],
   "source": [
    "data.head()"
   ]
  },
  {
   "cell_type": "code",
   "execution_count": 18,
   "id": "42165219",
   "metadata": {},
   "outputs": [],
   "source": [
    "X=data.drop(columns=[\"Outcome\"])\n",
    "y=data[\"Outcome\"]"
   ]
  },
  {
   "cell_type": "code",
   "execution_count": 19,
   "id": "069a7cda",
   "metadata": {},
   "outputs": [
    {
     "data": {
      "text/html": [
       "<div>\n",
       "<style scoped>\n",
       "    .dataframe tbody tr th:only-of-type {\n",
       "        vertical-align: middle;\n",
       "    }\n",
       "\n",
       "    .dataframe tbody tr th {\n",
       "        vertical-align: top;\n",
       "    }\n",
       "\n",
       "    .dataframe thead th {\n",
       "        text-align: right;\n",
       "    }\n",
       "</style>\n",
       "<table border=\"1\" class=\"dataframe\">\n",
       "  <thead>\n",
       "    <tr style=\"text-align: right;\">\n",
       "      <th></th>\n",
       "      <th>Pregnancies</th>\n",
       "      <th>Glucose</th>\n",
       "      <th>BloodPressure</th>\n",
       "      <th>SkinThickness</th>\n",
       "      <th>Insulin</th>\n",
       "      <th>BMI</th>\n",
       "      <th>DiabetesPedigreeFunction</th>\n",
       "      <th>Age</th>\n",
       "    </tr>\n",
       "  </thead>\n",
       "  <tbody>\n",
       "    <tr>\n",
       "      <th>0</th>\n",
       "      <td>6</td>\n",
       "      <td>148.0</td>\n",
       "      <td>72.0</td>\n",
       "      <td>35.000000</td>\n",
       "      <td>30.5</td>\n",
       "      <td>33.6</td>\n",
       "      <td>0.627</td>\n",
       "      <td>50</td>\n",
       "    </tr>\n",
       "    <tr>\n",
       "      <th>1</th>\n",
       "      <td>1</td>\n",
       "      <td>85.0</td>\n",
       "      <td>66.0</td>\n",
       "      <td>29.000000</td>\n",
       "      <td>30.5</td>\n",
       "      <td>26.6</td>\n",
       "      <td>0.351</td>\n",
       "      <td>31</td>\n",
       "    </tr>\n",
       "    <tr>\n",
       "      <th>2</th>\n",
       "      <td>8</td>\n",
       "      <td>183.0</td>\n",
       "      <td>64.0</td>\n",
       "      <td>20.536458</td>\n",
       "      <td>30.5</td>\n",
       "      <td>23.3</td>\n",
       "      <td>0.672</td>\n",
       "      <td>32</td>\n",
       "    </tr>\n",
       "    <tr>\n",
       "      <th>3</th>\n",
       "      <td>1</td>\n",
       "      <td>89.0</td>\n",
       "      <td>66.0</td>\n",
       "      <td>23.000000</td>\n",
       "      <td>94.0</td>\n",
       "      <td>28.1</td>\n",
       "      <td>0.167</td>\n",
       "      <td>21</td>\n",
       "    </tr>\n",
       "    <tr>\n",
       "      <th>4</th>\n",
       "      <td>0</td>\n",
       "      <td>137.0</td>\n",
       "      <td>40.0</td>\n",
       "      <td>35.000000</td>\n",
       "      <td>168.0</td>\n",
       "      <td>43.1</td>\n",
       "      <td>2.288</td>\n",
       "      <td>33</td>\n",
       "    </tr>\n",
       "    <tr>\n",
       "      <th>...</th>\n",
       "      <td>...</td>\n",
       "      <td>...</td>\n",
       "      <td>...</td>\n",
       "      <td>...</td>\n",
       "      <td>...</td>\n",
       "      <td>...</td>\n",
       "      <td>...</td>\n",
       "      <td>...</td>\n",
       "    </tr>\n",
       "    <tr>\n",
       "      <th>763</th>\n",
       "      <td>10</td>\n",
       "      <td>101.0</td>\n",
       "      <td>76.0</td>\n",
       "      <td>48.000000</td>\n",
       "      <td>180.0</td>\n",
       "      <td>32.9</td>\n",
       "      <td>0.171</td>\n",
       "      <td>63</td>\n",
       "    </tr>\n",
       "    <tr>\n",
       "      <th>764</th>\n",
       "      <td>2</td>\n",
       "      <td>122.0</td>\n",
       "      <td>70.0</td>\n",
       "      <td>27.000000</td>\n",
       "      <td>30.5</td>\n",
       "      <td>36.8</td>\n",
       "      <td>0.340</td>\n",
       "      <td>27</td>\n",
       "    </tr>\n",
       "    <tr>\n",
       "      <th>765</th>\n",
       "      <td>5</td>\n",
       "      <td>121.0</td>\n",
       "      <td>72.0</td>\n",
       "      <td>23.000000</td>\n",
       "      <td>112.0</td>\n",
       "      <td>26.2</td>\n",
       "      <td>0.245</td>\n",
       "      <td>30</td>\n",
       "    </tr>\n",
       "    <tr>\n",
       "      <th>766</th>\n",
       "      <td>1</td>\n",
       "      <td>126.0</td>\n",
       "      <td>60.0</td>\n",
       "      <td>20.536458</td>\n",
       "      <td>30.5</td>\n",
       "      <td>30.1</td>\n",
       "      <td>0.349</td>\n",
       "      <td>47</td>\n",
       "    </tr>\n",
       "    <tr>\n",
       "      <th>767</th>\n",
       "      <td>1</td>\n",
       "      <td>93.0</td>\n",
       "      <td>70.0</td>\n",
       "      <td>31.000000</td>\n",
       "      <td>30.5</td>\n",
       "      <td>30.4</td>\n",
       "      <td>0.315</td>\n",
       "      <td>23</td>\n",
       "    </tr>\n",
       "  </tbody>\n",
       "</table>\n",
       "<p>768 rows × 8 columns</p>\n",
       "</div>"
      ],
      "text/plain": [
       "     Pregnancies  Glucose  BloodPressure  SkinThickness  Insulin   BMI  \\\n",
       "0              6    148.0           72.0      35.000000     30.5  33.6   \n",
       "1              1     85.0           66.0      29.000000     30.5  26.6   \n",
       "2              8    183.0           64.0      20.536458     30.5  23.3   \n",
       "3              1     89.0           66.0      23.000000     94.0  28.1   \n",
       "4              0    137.0           40.0      35.000000    168.0  43.1   \n",
       "..           ...      ...            ...            ...      ...   ...   \n",
       "763           10    101.0           76.0      48.000000    180.0  32.9   \n",
       "764            2    122.0           70.0      27.000000     30.5  36.8   \n",
       "765            5    121.0           72.0      23.000000    112.0  26.2   \n",
       "766            1    126.0           60.0      20.536458     30.5  30.1   \n",
       "767            1     93.0           70.0      31.000000     30.5  30.4   \n",
       "\n",
       "     DiabetesPedigreeFunction  Age  \n",
       "0                       0.627   50  \n",
       "1                       0.351   31  \n",
       "2                       0.672   32  \n",
       "3                       0.167   21  \n",
       "4                       2.288   33  \n",
       "..                        ...  ...  \n",
       "763                     0.171   63  \n",
       "764                     0.340   27  \n",
       "765                     0.245   30  \n",
       "766                     0.349   47  \n",
       "767                     0.315   23  \n",
       "\n",
       "[768 rows x 8 columns]"
      ]
     },
     "execution_count": 19,
     "metadata": {},
     "output_type": "execute_result"
    }
   ],
   "source": [
    "X"
   ]
  },
  {
   "cell_type": "code",
   "execution_count": 20,
   "id": "7b892092",
   "metadata": {},
   "outputs": [
    {
     "data": {
      "text/plain": [
       "0      1\n",
       "1      0\n",
       "2      1\n",
       "3      0\n",
       "4      1\n",
       "      ..\n",
       "763    0\n",
       "764    0\n",
       "765    0\n",
       "766    1\n",
       "767    0\n",
       "Name: Outcome, Length: 768, dtype: int64"
      ]
     },
     "execution_count": 20,
     "metadata": {},
     "output_type": "execute_result"
    }
   ],
   "source": [
    "y"
   ]
  },
  {
   "cell_type": "code",
   "execution_count": 21,
   "id": "79721e44",
   "metadata": {},
   "outputs": [
    {
     "data": {
      "text/plain": [
       "((576, 8), (192, 8))"
      ]
     },
     "execution_count": 21,
     "metadata": {},
     "output_type": "execute_result"
    }
   ],
   "source": [
    "X_train, X_test, y_train, y_test = train_test_split(X,y,test_size=0.25,random_state=0)\n",
    "X_train.shape, X_test.shape"
   ]
  },
  {
   "cell_type": "code",
   "execution_count": 36,
   "id": "1a28ed40",
   "metadata": {},
   "outputs": [],
   "source": [
    "import pickle\n",
    "##standard Scaling- Standardization\n",
    "def scaler_standard(X_train, X_test):\n",
    "    #scaling the data\n",
    "    scaler = StandardScaler()\n",
    "    X_train= scaler.fit_transform(X_train)\n",
    "    X_test= scaler.transform(X_test)\n",
    "    \n"
   ]
  },
  {
   "cell_type": "code",
   "execution_count": 37,
   "id": "4d96e228",
   "metadata": {},
   "outputs": [
    {
     "data": {
      "text/html": [
       "<div>\n",
       "<style scoped>\n",
       "    .dataframe tbody tr th:only-of-type {\n",
       "        vertical-align: middle;\n",
       "    }\n",
       "\n",
       "    .dataframe tbody tr th {\n",
       "        vertical-align: top;\n",
       "    }\n",
       "\n",
       "    .dataframe thead th {\n",
       "        text-align: right;\n",
       "    }\n",
       "</style>\n",
       "<table border=\"1\" class=\"dataframe\">\n",
       "  <thead>\n",
       "    <tr style=\"text-align: right;\">\n",
       "      <th></th>\n",
       "      <th>Pregnancies</th>\n",
       "      <th>Glucose</th>\n",
       "      <th>BloodPressure</th>\n",
       "      <th>SkinThickness</th>\n",
       "      <th>Insulin</th>\n",
       "      <th>BMI</th>\n",
       "      <th>DiabetesPedigreeFunction</th>\n",
       "      <th>Age</th>\n",
       "    </tr>\n",
       "  </thead>\n",
       "  <tbody>\n",
       "    <tr>\n",
       "      <th>762</th>\n",
       "      <td>9</td>\n",
       "      <td>89.0</td>\n",
       "      <td>62.0</td>\n",
       "      <td>20.536458</td>\n",
       "      <td>30.5</td>\n",
       "      <td>22.500000</td>\n",
       "      <td>0.142</td>\n",
       "      <td>33</td>\n",
       "    </tr>\n",
       "    <tr>\n",
       "      <th>127</th>\n",
       "      <td>1</td>\n",
       "      <td>118.0</td>\n",
       "      <td>58.0</td>\n",
       "      <td>36.000000</td>\n",
       "      <td>94.0</td>\n",
       "      <td>33.300000</td>\n",
       "      <td>0.261</td>\n",
       "      <td>23</td>\n",
       "    </tr>\n",
       "    <tr>\n",
       "      <th>564</th>\n",
       "      <td>0</td>\n",
       "      <td>91.0</td>\n",
       "      <td>80.0</td>\n",
       "      <td>20.536458</td>\n",
       "      <td>30.5</td>\n",
       "      <td>32.400000</td>\n",
       "      <td>0.601</td>\n",
       "      <td>27</td>\n",
       "    </tr>\n",
       "    <tr>\n",
       "      <th>375</th>\n",
       "      <td>12</td>\n",
       "      <td>140.0</td>\n",
       "      <td>82.0</td>\n",
       "      <td>43.000000</td>\n",
       "      <td>325.0</td>\n",
       "      <td>39.200000</td>\n",
       "      <td>0.528</td>\n",
       "      <td>58</td>\n",
       "    </tr>\n",
       "    <tr>\n",
       "      <th>663</th>\n",
       "      <td>9</td>\n",
       "      <td>145.0</td>\n",
       "      <td>80.0</td>\n",
       "      <td>46.000000</td>\n",
       "      <td>130.0</td>\n",
       "      <td>37.900000</td>\n",
       "      <td>0.637</td>\n",
       "      <td>40</td>\n",
       "    </tr>\n",
       "    <tr>\n",
       "      <th>...</th>\n",
       "      <td>...</td>\n",
       "      <td>...</td>\n",
       "      <td>...</td>\n",
       "      <td>...</td>\n",
       "      <td>...</td>\n",
       "      <td>...</td>\n",
       "      <td>...</td>\n",
       "      <td>...</td>\n",
       "    </tr>\n",
       "    <tr>\n",
       "      <th>763</th>\n",
       "      <td>10</td>\n",
       "      <td>101.0</td>\n",
       "      <td>76.0</td>\n",
       "      <td>48.000000</td>\n",
       "      <td>180.0</td>\n",
       "      <td>32.900000</td>\n",
       "      <td>0.171</td>\n",
       "      <td>63</td>\n",
       "    </tr>\n",
       "    <tr>\n",
       "      <th>192</th>\n",
       "      <td>7</td>\n",
       "      <td>159.0</td>\n",
       "      <td>66.0</td>\n",
       "      <td>20.536458</td>\n",
       "      <td>30.5</td>\n",
       "      <td>30.400000</td>\n",
       "      <td>0.383</td>\n",
       "      <td>36</td>\n",
       "    </tr>\n",
       "    <tr>\n",
       "      <th>629</th>\n",
       "      <td>4</td>\n",
       "      <td>94.0</td>\n",
       "      <td>65.0</td>\n",
       "      <td>22.000000</td>\n",
       "      <td>30.5</td>\n",
       "      <td>24.700000</td>\n",
       "      <td>0.148</td>\n",
       "      <td>21</td>\n",
       "    </tr>\n",
       "    <tr>\n",
       "      <th>559</th>\n",
       "      <td>11</td>\n",
       "      <td>85.0</td>\n",
       "      <td>74.0</td>\n",
       "      <td>20.536458</td>\n",
       "      <td>30.5</td>\n",
       "      <td>30.100000</td>\n",
       "      <td>0.300</td>\n",
       "      <td>35</td>\n",
       "    </tr>\n",
       "    <tr>\n",
       "      <th>684</th>\n",
       "      <td>5</td>\n",
       "      <td>136.0</td>\n",
       "      <td>82.0</td>\n",
       "      <td>20.536458</td>\n",
       "      <td>30.5</td>\n",
       "      <td>31.992578</td>\n",
       "      <td>0.640</td>\n",
       "      <td>69</td>\n",
       "    </tr>\n",
       "  </tbody>\n",
       "</table>\n",
       "<p>576 rows × 8 columns</p>\n",
       "</div>"
      ],
      "text/plain": [
       "     Pregnancies  Glucose  BloodPressure  SkinThickness  Insulin        BMI  \\\n",
       "762            9     89.0           62.0      20.536458     30.5  22.500000   \n",
       "127            1    118.0           58.0      36.000000     94.0  33.300000   \n",
       "564            0     91.0           80.0      20.536458     30.5  32.400000   \n",
       "375           12    140.0           82.0      43.000000    325.0  39.200000   \n",
       "663            9    145.0           80.0      46.000000    130.0  37.900000   \n",
       "..           ...      ...            ...            ...      ...        ...   \n",
       "763           10    101.0           76.0      48.000000    180.0  32.900000   \n",
       "192            7    159.0           66.0      20.536458     30.5  30.400000   \n",
       "629            4     94.0           65.0      22.000000     30.5  24.700000   \n",
       "559           11     85.0           74.0      20.536458     30.5  30.100000   \n",
       "684            5    136.0           82.0      20.536458     30.5  31.992578   \n",
       "\n",
       "     DiabetesPedigreeFunction  Age  \n",
       "762                     0.142   33  \n",
       "127                     0.261   23  \n",
       "564                     0.601   27  \n",
       "375                     0.528   58  \n",
       "663                     0.637   40  \n",
       "..                        ...  ...  \n",
       "763                     0.171   63  \n",
       "192                     0.383   36  \n",
       "629                     0.148   21  \n",
       "559                     0.300   35  \n",
       "684                     0.640   69  \n",
       "\n",
       "[576 rows x 8 columns]"
      ]
     },
     "execution_count": 37,
     "metadata": {},
     "output_type": "execute_result"
    }
   ],
   "source": [
    "X_train\n"
   ]
  },
  {
   "cell_type": "code",
   "execution_count": 38,
   "id": "cabe0daa",
   "metadata": {},
   "outputs": [
    {
     "name": "stderr",
     "output_type": "stream",
     "text": [
      "/Users/onkibagde.619gmail.com/opt/anaconda3/lib/python3.9/site-packages/sklearn/linear_model/_logistic.py:814: ConvergenceWarning: lbfgs failed to converge (status=1):\n",
      "STOP: TOTAL NO. of ITERATIONS REACHED LIMIT.\n",
      "\n",
      "Increase the number of iterations (max_iter) or scale the data as shown in:\n",
      "    https://scikit-learn.org/stable/modules/preprocessing.html\n",
      "Please also refer to the documentation for alternative solver options:\n",
      "    https://scikit-learn.org/stable/modules/linear_model.html#logistic-regression\n",
      "  n_iter_i = _check_optimize_result(\n"
     ]
    },
    {
     "data": {
      "text/plain": [
       "LogisticRegression()"
      ]
     },
     "execution_count": 38,
     "metadata": {},
     "output_type": "execute_result"
    }
   ],
   "source": [
    "log_reg = LogisticRegression()\n",
    "\n",
    "log_reg.fit(X_train,y_train)"
   ]
  },
  {
   "cell_type": "code",
   "execution_count": 39,
   "id": "ae73015e",
   "metadata": {},
   "outputs": [],
   "source": [
    "# Hyperparameter Tuning\n",
    "## GridSearch CV\n",
    "from sklearn.model_selection import GridSearchCV\n",
    "import numpy as np\n",
    "import warnings\n",
    "warnings.filterwarnings('ignore')\n",
    "# parameter grid\n",
    "parameters = {\n",
    "    'penalty' : ['l1','l2'], \n",
    "    'C'       : np.logspace(-3,3,7),\n",
    "    'solver'  : ['newton-cg', 'lbfgs', 'liblinear'],\n",
    "}"
   ]
  },
  {
   "cell_type": "code",
   "execution_count": 40,
   "id": "feda585e",
   "metadata": {},
   "outputs": [
    {
     "data": {
      "text/plain": [
       "GridSearchCV(cv=10, estimator=LogisticRegression(),\n",
       "             param_grid={'C': array([1.e-03, 1.e-02, 1.e-01, 1.e+00, 1.e+01, 1.e+02, 1.e+03]),\n",
       "                         'penalty': ['l1', 'l2'],\n",
       "                         'solver': ['newton-cg', 'lbfgs', 'liblinear']},\n",
       "             scoring='accuracy')"
      ]
     },
     "execution_count": 40,
     "metadata": {},
     "output_type": "execute_result"
    }
   ],
   "source": [
    "logreg = LogisticRegression()\n",
    "clf = GridSearchCV(logreg,                    # model\n",
    "                   param_grid = parameters,   # hyperparameters\n",
    "                   scoring='accuracy',        # metric for scoring\n",
    "                   cv=10)                     # number of folds\n",
    "\n",
    "clf.fit(X_train,y_train)"
   ]
  },
  {
   "cell_type": "code",
   "execution_count": 41,
   "id": "e213b391",
   "metadata": {},
   "outputs": [
    {
     "data": {
      "text/plain": [
       "{'C': 1.0, 'penalty': 'l2', 'solver': 'newton-cg'}"
      ]
     },
     "execution_count": 41,
     "metadata": {},
     "output_type": "execute_result"
    }
   ],
   "source": [
    "clf.best_params_"
   ]
  },
  {
   "cell_type": "code",
   "execution_count": 42,
   "id": "27174dfd",
   "metadata": {},
   "outputs": [
    {
     "data": {
      "text/plain": [
       "0.763762855414398"
      ]
     },
     "execution_count": 42,
     "metadata": {},
     "output_type": "execute_result"
    }
   ],
   "source": [
    "clf.best_score_"
   ]
  },
  {
   "cell_type": "code",
   "execution_count": 43,
   "id": "a5d53ee7",
   "metadata": {},
   "outputs": [],
   "source": [
    "y_pred = clf.predict(X_test)"
   ]
  },
  {
   "cell_type": "code",
   "execution_count": 44,
   "id": "0f900e73",
   "metadata": {},
   "outputs": [
    {
     "data": {
      "text/plain": [
       "array([[117,  13],\n",
       "       [ 26,  36]])"
      ]
     },
     "execution_count": 44,
     "metadata": {},
     "output_type": "execute_result"
    }
   ],
   "source": [
    "conf_mat = confusion_matrix(y_test,y_pred)\n",
    "conf_mat"
   ]
  },
  {
   "cell_type": "code",
   "execution_count": 46,
   "id": "c41943d2",
   "metadata": {},
   "outputs": [],
   "source": [
    "true_positive = conf_mat[0][0]\n",
    "false_positive = conf_mat[0][1]\n",
    "false_negative = conf_mat[1][0]\n",
    "true_negative = conf_mat[1][1]"
   ]
  },
  {
   "cell_type": "code",
   "execution_count": null,
   "id": "08796c62",
   "metadata": {},
   "outputs": [],
   "source": []
  },
  {
   "cell_type": "code",
   "execution_count": 49,
   "id": "7a3471a6",
   "metadata": {},
   "outputs": [
    {
     "data": {
      "text/plain": [
       "0.9"
      ]
     },
     "execution_count": 49,
     "metadata": {},
     "output_type": "execute_result"
    }
   ],
   "source": [
    "Precision = true_positive/(true_positive+false_positive)\n",
    "Precision"
   ]
  },
  {
   "cell_type": "code",
   "execution_count": 47,
   "id": "f91e6f2e",
   "metadata": {},
   "outputs": [
    {
     "data": {
      "text/plain": [
       "0.8181818181818182"
      ]
     },
     "execution_count": 47,
     "metadata": {},
     "output_type": "execute_result"
    }
   ],
   "source": [
    "Recall = true_positive/(true_positive+false_negative)\n",
    "Recall"
   ]
  },
  {
   "cell_type": "code",
   "execution_count": 50,
   "id": "8dc0766f",
   "metadata": {},
   "outputs": [
    {
     "data": {
      "text/plain": [
       "0.8571428571428572"
      ]
     },
     "execution_count": 50,
     "metadata": {},
     "output_type": "execute_result"
    }
   ],
   "source": [
    "F1_Score = 2*(Recall * Precision) / (Recall + Precision)\n",
    "F1_Score"
   ]
  },
  {
   "cell_type": "code",
   "execution_count": null,
   "id": "4ddfbd52",
   "metadata": {},
   "outputs": [],
   "source": []
  },
  {
   "cell_type": "code",
   "execution_count": 51,
   "id": "823e9aad",
   "metadata": {},
   "outputs": [],
   "source": [
    "## Decision Tree Model Training With Hyperparameter Tuning\n",
    "import warnings\n",
    "warnings.filterwarnings('ignore')"
   ]
  },
  {
   "cell_type": "code",
   "execution_count": 52,
   "id": "eb99efe3",
   "metadata": {},
   "outputs": [],
   "source": [
    "parameter={\n",
    " 'criterion':['gini','entropy','log_loss'],\n",
    "  'splitter':['best','random'],\n",
    "  'max_depth':[1,2,3,4,5],\n",
    "  'max_features':['auto', 'sqrt', 'log2']\n",
    "    \n",
    "}"
   ]
  },
  {
   "cell_type": "code",
   "execution_count": 54,
   "id": "065c1a56",
   "metadata": {},
   "outputs": [],
   "source": [
    "#Let's start with importing necessary libraries\n",
    "import pandas as pd \n",
    "import numpy as np \n",
    "from sklearn.preprocessing import StandardScaler \n",
    "#from sklearn.linear_model  import LogisticRegression\n",
    "from sklearn.tree import DecisionTreeClassifier\n",
    "from sklearn.svm import SVC\n",
    "from sklearn.naive_bayes import BernoulliNB\n",
    "from sklearn.model_selection import train_test_split\n",
    "from sklearn.metrics import accuracy_score, confusion_matrix\n",
    "import matplotlib.pyplot as plt\n",
    "import seaborn as sns"
   ]
  },
  {
   "cell_type": "code",
   "execution_count": 55,
   "id": "614cbe18",
   "metadata": {},
   "outputs": [],
   "source": [
    "from sklearn.model_selection import GridSearchCV\n",
    "classifier=DecisionTreeClassifier()"
   ]
  },
  {
   "cell_type": "code",
   "execution_count": 56,
   "id": "2f2813d9",
   "metadata": {},
   "outputs": [
    {
     "name": "stdout",
     "output_type": "stream",
     "text": [
      "Fitting 3 folds for each of 90 candidates, totalling 270 fits\n",
      "[CV 1/3] END criterion=gini, max_depth=1, max_features=auto, splitter=best;, score=0.708 total time=   0.0s\n",
      "[CV 2/3] END criterion=gini, max_depth=1, max_features=auto, splitter=best;, score=0.583 total time=   0.0s\n",
      "[CV 3/3] END criterion=gini, max_depth=1, max_features=auto, splitter=best;, score=0.620 total time=   0.0s\n",
      "[CV 1/3] END criterion=gini, max_depth=1, max_features=auto, splitter=random;, score=0.656 total time=   0.0s\n",
      "[CV 2/3] END criterion=gini, max_depth=1, max_features=auto, splitter=random;, score=0.641 total time=   0.0s\n",
      "[CV 3/3] END criterion=gini, max_depth=1, max_features=auto, splitter=random;, score=0.724 total time=   0.0s\n",
      "[CV 1/3] END criterion=gini, max_depth=1, max_features=sqrt, splitter=best;, score=0.578 total time=   0.0s\n",
      "[CV 2/3] END criterion=gini, max_depth=1, max_features=sqrt, splitter=best;, score=0.703 total time=   0.0s\n",
      "[CV 3/3] END criterion=gini, max_depth=1, max_features=sqrt, splitter=best;, score=0.667 total time=   0.0s\n",
      "[CV 1/3] END criterion=gini, max_depth=1, max_features=sqrt, splitter=random;, score=0.646 total time=   0.0s\n",
      "[CV 2/3] END criterion=gini, max_depth=1, max_features=sqrt, splitter=random;, score=0.641 total time=   0.0s\n",
      "[CV 3/3] END criterion=gini, max_depth=1, max_features=sqrt, splitter=random;, score=0.625 total time=   0.0s\n",
      "[CV 1/3] END criterion=gini, max_depth=1, max_features=log2, splitter=best;, score=0.578 total time=   0.0s\n",
      "[CV 2/3] END criterion=gini, max_depth=1, max_features=log2, splitter=best;, score=0.703 total time=   0.0s\n",
      "[CV 3/3] END criterion=gini, max_depth=1, max_features=log2, splitter=best;, score=0.641 total time=   0.0s\n",
      "[CV 1/3] END criterion=gini, max_depth=1, max_features=log2, splitter=random;, score=0.667 total time=   0.0s\n",
      "[CV 2/3] END criterion=gini, max_depth=1, max_features=log2, splitter=random;, score=0.641 total time=   0.0s\n",
      "[CV 3/3] END criterion=gini, max_depth=1, max_features=log2, splitter=random;, score=0.641 total time=   0.0s\n",
      "[CV 1/3] END criterion=gini, max_depth=2, max_features=auto, splitter=best;, score=0.708 total time=   0.0s\n",
      "[CV 2/3] END criterion=gini, max_depth=2, max_features=auto, splitter=best;, score=0.708 total time=   0.0s\n",
      "[CV 3/3] END criterion=gini, max_depth=2, max_features=auto, splitter=best;, score=0.688 total time=   0.0s\n",
      "[CV 1/3] END criterion=gini, max_depth=2, max_features=auto, splitter=random;, score=0.672 total time=   0.0s\n",
      "[CV 2/3] END criterion=gini, max_depth=2, max_features=auto, splitter=random;, score=0.755 total time=   0.0s\n",
      "[CV 3/3] END criterion=gini, max_depth=2, max_features=auto, splitter=random;, score=0.672 total time=   0.0s\n",
      "[CV 1/3] END criterion=gini, max_depth=2, max_features=sqrt, splitter=best;, score=0.708 total time=   0.0s\n",
      "[CV 2/3] END criterion=gini, max_depth=2, max_features=sqrt, splitter=best;, score=0.703 total time=   0.0s\n",
      "[CV 3/3] END criterion=gini, max_depth=2, max_features=sqrt, splitter=best;, score=0.703 total time=   0.0s\n",
      "[CV 1/3] END criterion=gini, max_depth=2, max_features=sqrt, splitter=random;, score=0.646 total time=   0.0s\n",
      "[CV 2/3] END criterion=gini, max_depth=2, max_features=sqrt, splitter=random;, score=0.750 total time=   0.0s\n",
      "[CV 3/3] END criterion=gini, max_depth=2, max_features=sqrt, splitter=random;, score=0.698 total time=   0.0s\n",
      "[CV 1/3] END criterion=gini, max_depth=2, max_features=log2, splitter=best;, score=0.714 total time=   0.0s\n",
      "[CV 2/3] END criterion=gini, max_depth=2, max_features=log2, splitter=best;, score=0.740 total time=   0.0s\n",
      "[CV 3/3] END criterion=gini, max_depth=2, max_features=log2, splitter=best;, score=0.693 total time=   0.0s\n",
      "[CV 1/3] END criterion=gini, max_depth=2, max_features=log2, splitter=random;, score=0.651 total time=   0.0s\n",
      "[CV 2/3] END criterion=gini, max_depth=2, max_features=log2, splitter=random;, score=0.641 total time=   0.0s\n",
      "[CV 3/3] END criterion=gini, max_depth=2, max_features=log2, splitter=random;, score=0.641 total time=   0.0s\n",
      "[CV 1/3] END criterion=gini, max_depth=3, max_features=auto, splitter=best;, score=0.771 total time=   0.0s\n",
      "[CV 2/3] END criterion=gini, max_depth=3, max_features=auto, splitter=best;, score=0.724 total time=   0.0s\n",
      "[CV 3/3] END criterion=gini, max_depth=3, max_features=auto, splitter=best;, score=0.682 total time=   0.0s\n",
      "[CV 1/3] END criterion=gini, max_depth=3, max_features=auto, splitter=random;, score=0.672 total time=   0.0s\n",
      "[CV 2/3] END criterion=gini, max_depth=3, max_features=auto, splitter=random;, score=0.760 total time=   0.0s\n",
      "[CV 3/3] END criterion=gini, max_depth=3, max_features=auto, splitter=random;, score=0.724 total time=   0.0s\n",
      "[CV 1/3] END criterion=gini, max_depth=3, max_features=sqrt, splitter=best;, score=0.708 total time=   0.0s\n",
      "[CV 2/3] END criterion=gini, max_depth=3, max_features=sqrt, splitter=best;, score=0.734 total time=   0.0s\n",
      "[CV 3/3] END criterion=gini, max_depth=3, max_features=sqrt, splitter=best;, score=0.688 total time=   0.0s\n",
      "[CV 1/3] END criterion=gini, max_depth=3, max_features=sqrt, splitter=random;, score=0.630 total time=   0.0s\n",
      "[CV 2/3] END criterion=gini, max_depth=3, max_features=sqrt, splitter=random;, score=0.682 total time=   0.0s\n",
      "[CV 3/3] END criterion=gini, max_depth=3, max_features=sqrt, splitter=random;, score=0.667 total time=   0.0s\n",
      "[CV 1/3] END criterion=gini, max_depth=3, max_features=log2, splitter=best;, score=0.755 total time=   0.0s\n",
      "[CV 2/3] END criterion=gini, max_depth=3, max_features=log2, splitter=best;, score=0.771 total time=   0.0s\n",
      "[CV 3/3] END criterion=gini, max_depth=3, max_features=log2, splitter=best;, score=0.667 total time=   0.0s\n",
      "[CV 1/3] END criterion=gini, max_depth=3, max_features=log2, splitter=random;, score=0.672 total time=   0.0s\n",
      "[CV 2/3] END criterion=gini, max_depth=3, max_features=log2, splitter=random;, score=0.661 total time=   0.0s\n",
      "[CV 3/3] END criterion=gini, max_depth=3, max_features=log2, splitter=random;, score=0.714 total time=   0.0s\n",
      "[CV 1/3] END criterion=gini, max_depth=4, max_features=auto, splitter=best;, score=0.719 total time=   0.0s\n",
      "[CV 2/3] END criterion=gini, max_depth=4, max_features=auto, splitter=best;, score=0.771 total time=   0.0s\n",
      "[CV 3/3] END criterion=gini, max_depth=4, max_features=auto, splitter=best;, score=0.714 total time=   0.0s\n",
      "[CV 1/3] END criterion=gini, max_depth=4, max_features=auto, splitter=random;, score=0.656 total time=   0.0s\n",
      "[CV 2/3] END criterion=gini, max_depth=4, max_features=auto, splitter=random;, score=0.703 total time=   0.0s\n",
      "[CV 3/3] END criterion=gini, max_depth=4, max_features=auto, splitter=random;, score=0.656 total time=   0.0s\n",
      "[CV 1/3] END criterion=gini, max_depth=4, max_features=sqrt, splitter=best;, score=0.651 total time=   0.0s\n",
      "[CV 2/3] END criterion=gini, max_depth=4, max_features=sqrt, splitter=best;, score=0.792 total time=   0.0s\n",
      "[CV 3/3] END criterion=gini, max_depth=4, max_features=sqrt, splitter=best;, score=0.740 total time=   0.0s\n",
      "[CV 1/3] END criterion=gini, max_depth=4, max_features=sqrt, splitter=random;, score=0.609 total time=   0.0s\n",
      "[CV 2/3] END criterion=gini, max_depth=4, max_features=sqrt, splitter=random;, score=0.682 total time=   0.0s\n",
      "[CV 3/3] END criterion=gini, max_depth=4, max_features=sqrt, splitter=random;, score=0.646 total time=   0.0s\n",
      "[CV 1/3] END criterion=gini, max_depth=4, max_features=log2, splitter=best;, score=0.672 total time=   0.0s\n",
      "[CV 2/3] END criterion=gini, max_depth=4, max_features=log2, splitter=best;, score=0.740 total time=   0.0s\n",
      "[CV 3/3] END criterion=gini, max_depth=4, max_features=log2, splitter=best;, score=0.703 total time=   0.0s\n",
      "[CV 1/3] END criterion=gini, max_depth=4, max_features=log2, splitter=random;, score=0.766 total time=   0.0s\n",
      "[CV 2/3] END criterion=gini, max_depth=4, max_features=log2, splitter=random;, score=0.667 total time=   0.0s\n",
      "[CV 3/3] END criterion=gini, max_depth=4, max_features=log2, splitter=random;, score=0.703 total time=   0.0s\n",
      "[CV 1/3] END criterion=gini, max_depth=5, max_features=auto, splitter=best;, score=0.734 total time=   0.0s\n",
      "[CV 2/3] END criterion=gini, max_depth=5, max_features=auto, splitter=best;, score=0.672 total time=   0.0s\n",
      "[CV 3/3] END criterion=gini, max_depth=5, max_features=auto, splitter=best;, score=0.672 total time=   0.0s\n",
      "[CV 1/3] END criterion=gini, max_depth=5, max_features=auto, splitter=random;, score=0.719 total time=   0.0s\n",
      "[CV 2/3] END criterion=gini, max_depth=5, max_features=auto, splitter=random;, score=0.641 total time=   0.0s\n",
      "[CV 3/3] END criterion=gini, max_depth=5, max_features=auto, splitter=random;, score=0.667 total time=   0.0s\n",
      "[CV 1/3] END criterion=gini, max_depth=5, max_features=sqrt, splitter=best;, score=0.661 total time=   0.0s\n",
      "[CV 2/3] END criterion=gini, max_depth=5, max_features=sqrt, splitter=best;, score=0.677 total time=   0.0s\n",
      "[CV 3/3] END criterion=gini, max_depth=5, max_features=sqrt, splitter=best;, score=0.724 total time=   0.0s\n",
      "[CV 1/3] END criterion=gini, max_depth=5, max_features=sqrt, splitter=random;, score=0.620 total time=   0.0s\n",
      "[CV 2/3] END criterion=gini, max_depth=5, max_features=sqrt, splitter=random;, score=0.776 total time=   0.0s\n",
      "[CV 3/3] END criterion=gini, max_depth=5, max_features=sqrt, splitter=random;, score=0.667 total time=   0.0s\n",
      "[CV 1/3] END criterion=gini, max_depth=5, max_features=log2, splitter=best;, score=0.740 total time=   0.0s\n",
      "[CV 2/3] END criterion=gini, max_depth=5, max_features=log2, splitter=best;, score=0.719 total time=   0.0s\n",
      "[CV 3/3] END criterion=gini, max_depth=5, max_features=log2, splitter=best;, score=0.703 total time=   0.0s\n",
      "[CV 1/3] END criterion=gini, max_depth=5, max_features=log2, splitter=random;, score=0.708 total time=   0.0s\n",
      "[CV 2/3] END criterion=gini, max_depth=5, max_features=log2, splitter=random;, score=0.693 total time=   0.0s\n",
      "[CV 3/3] END criterion=gini, max_depth=5, max_features=log2, splitter=random;, score=0.740 total time=   0.0s\n",
      "[CV 1/3] END criterion=entropy, max_depth=1, max_features=auto, splitter=best;, score=0.708 total time=   0.0s\n",
      "[CV 2/3] END criterion=entropy, max_depth=1, max_features=auto, splitter=best;, score=0.635 total time=   0.0s\n",
      "[CV 3/3] END criterion=entropy, max_depth=1, max_features=auto, splitter=best;, score=0.620 total time=   0.0s\n",
      "[CV 1/3] END criterion=entropy, max_depth=1, max_features=auto, splitter=random;, score=0.667 total time=   0.0s\n",
      "[CV 2/3] END criterion=entropy, max_depth=1, max_features=auto, splitter=random;, score=0.641 total time=   0.0s\n",
      "[CV 3/3] END criterion=entropy, max_depth=1, max_features=auto, splitter=random;, score=0.635 total time=   0.0s\n",
      "[CV 1/3] END criterion=entropy, max_depth=1, max_features=sqrt, splitter=best;, score=0.646 total time=   0.0s\n",
      "[CV 2/3] END criterion=entropy, max_depth=1, max_features=sqrt, splitter=best;, score=0.641 total time=   0.0s\n",
      "[CV 3/3] END criterion=entropy, max_depth=1, max_features=sqrt, splitter=best;, score=0.641 total time=   0.0s\n",
      "[CV 1/3] END criterion=entropy, max_depth=1, max_features=sqrt, splitter=random;, score=0.646 total time=   0.0s\n",
      "[CV 2/3] END criterion=entropy, max_depth=1, max_features=sqrt, splitter=random;, score=0.641 total time=   0.0s\n",
      "[CV 3/3] END criterion=entropy, max_depth=1, max_features=sqrt, splitter=random;, score=0.641 total time=   0.0s\n",
      "[CV 1/3] END criterion=entropy, max_depth=1, max_features=log2, splitter=best;, score=0.646 total time=   0.0s\n",
      "[CV 2/3] END criterion=entropy, max_depth=1, max_features=log2, splitter=best;, score=0.583 total time=   0.0s\n",
      "[CV 3/3] END criterion=entropy, max_depth=1, max_features=log2, splitter=best;, score=0.641 total time=   0.0s\n",
      "[CV 1/3] END criterion=entropy, max_depth=1, max_features=log2, splitter=random;, score=0.635 total time=   0.0s\n",
      "[CV 2/3] END criterion=entropy, max_depth=1, max_features=log2, splitter=random;, score=0.661 total time=   0.0s\n",
      "[CV 3/3] END criterion=entropy, max_depth=1, max_features=log2, splitter=random;, score=0.750 total time=   0.0s\n",
      "[CV 1/3] END criterion=entropy, max_depth=2, max_features=auto, splitter=best;, score=0.708 total time=   0.0s\n",
      "[CV 2/3] END criterion=entropy, max_depth=2, max_features=auto, splitter=best;, score=0.682 total time=   0.0s\n",
      "[CV 3/3] END criterion=entropy, max_depth=2, max_features=auto, splitter=best;, score=0.693 total time=   0.0s\n",
      "[CV 1/3] END criterion=entropy, max_depth=2, max_features=auto, splitter=random;, score=0.677 total time=   0.0s\n",
      "[CV 2/3] END criterion=entropy, max_depth=2, max_features=auto, splitter=random;, score=0.656 total time=   0.0s\n",
      "[CV 3/3] END criterion=entropy, max_depth=2, max_features=auto, splitter=random;, score=0.646 total time=   0.0s\n",
      "[CV 1/3] END criterion=entropy, max_depth=2, max_features=sqrt, splitter=best;, score=0.693 total time=   0.0s\n",
      "[CV 2/3] END criterion=entropy, max_depth=2, max_features=sqrt, splitter=best;, score=0.698 total time=   0.0s\n",
      "[CV 3/3] END criterion=entropy, max_depth=2, max_features=sqrt, splitter=best;, score=0.656 total time=   0.0s\n",
      "[CV 1/3] END criterion=entropy, max_depth=2, max_features=sqrt, splitter=random;, score=0.656 total time=   0.0s\n",
      "[CV 2/3] END criterion=entropy, max_depth=2, max_features=sqrt, splitter=random;, score=0.646 total time=   0.0s\n",
      "[CV 3/3] END criterion=entropy, max_depth=2, max_features=sqrt, splitter=random;, score=0.688 total time=   0.0s\n",
      "[CV 1/3] END criterion=entropy, max_depth=2, max_features=log2, splitter=best;, score=0.651 total time=   0.0s\n",
      "[CV 2/3] END criterion=entropy, max_depth=2, max_features=log2, splitter=best;, score=0.682 total time=   0.0s\n",
      "[CV 3/3] END criterion=entropy, max_depth=2, max_features=log2, splitter=best;, score=0.708 total time=   0.0s\n",
      "[CV 1/3] END criterion=entropy, max_depth=2, max_features=log2, splitter=random;, score=0.682 total time=   0.0s\n",
      "[CV 2/3] END criterion=entropy, max_depth=2, max_features=log2, splitter=random;, score=0.760 total time=   0.0s\n",
      "[CV 3/3] END criterion=entropy, max_depth=2, max_features=log2, splitter=random;, score=0.656 total time=   0.0s\n",
      "[CV 1/3] END criterion=entropy, max_depth=3, max_features=auto, splitter=best;, score=0.766 total time=   0.0s\n",
      "[CV 2/3] END criterion=entropy, max_depth=3, max_features=auto, splitter=best;, score=0.688 total time=   0.0s\n",
      "[CV 3/3] END criterion=entropy, max_depth=3, max_features=auto, splitter=best;, score=0.651 total time=   0.0s\n",
      "[CV 1/3] END criterion=entropy, max_depth=3, max_features=auto, splitter=random;, score=0.682 total time=   0.0s\n",
      "[CV 2/3] END criterion=entropy, max_depth=3, max_features=auto, splitter=random;, score=0.651 total time=   0.0s\n",
      "[CV 3/3] END criterion=entropy, max_depth=3, max_features=auto, splitter=random;, score=0.667 total time=   0.0s\n",
      "[CV 1/3] END criterion=entropy, max_depth=3, max_features=sqrt, splitter=best;, score=0.724 total time=   0.0s\n",
      "[CV 2/3] END criterion=entropy, max_depth=3, max_features=sqrt, splitter=best;, score=0.729 total time=   0.0s\n",
      "[CV 3/3] END criterion=entropy, max_depth=3, max_features=sqrt, splitter=best;, score=0.708 total time=   0.0s\n",
      "[CV 1/3] END criterion=entropy, max_depth=3, max_features=sqrt, splitter=random;, score=0.651 total time=   0.0s\n",
      "[CV 2/3] END criterion=entropy, max_depth=3, max_features=sqrt, splitter=random;, score=0.703 total time=   0.0s\n",
      "[CV 3/3] END criterion=entropy, max_depth=3, max_features=sqrt, splitter=random;, score=0.729 total time=   0.0s\n",
      "[CV 1/3] END criterion=entropy, max_depth=3, max_features=log2, splitter=best;, score=0.693 total time=   0.0s\n",
      "[CV 2/3] END criterion=entropy, max_depth=3, max_features=log2, splitter=best;, score=0.771 total time=   0.0s\n",
      "[CV 3/3] END criterion=entropy, max_depth=3, max_features=log2, splitter=best;, score=0.698 total time=   0.0s\n",
      "[CV 1/3] END criterion=entropy, max_depth=3, max_features=log2, splitter=random;, score=0.724 total time=   0.0s\n",
      "[CV 2/3] END criterion=entropy, max_depth=3, max_features=log2, splitter=random;, score=0.615 total time=   0.0s\n",
      "[CV 3/3] END criterion=entropy, max_depth=3, max_features=log2, splitter=random;, score=0.703 total time=   0.0s\n",
      "[CV 1/3] END criterion=entropy, max_depth=4, max_features=auto, splitter=best;, score=0.703 total time=   0.0s\n",
      "[CV 2/3] END criterion=entropy, max_depth=4, max_features=auto, splitter=best;, score=0.771 total time=   0.0s\n",
      "[CV 3/3] END criterion=entropy, max_depth=4, max_features=auto, splitter=best;, score=0.719 total time=   0.0s\n",
      "[CV 1/3] END criterion=entropy, max_depth=4, max_features=auto, splitter=random;, score=0.688 total time=   0.0s\n",
      "[CV 2/3] END criterion=entropy, max_depth=4, max_features=auto, splitter=random;, score=0.688 total time=   0.0s\n",
      "[CV 3/3] END criterion=entropy, max_depth=4, max_features=auto, splitter=random;, score=0.630 total time=   0.0s\n",
      "[CV 1/3] END criterion=entropy, max_depth=4, max_features=sqrt, splitter=best;, score=0.698 total time=   0.0s\n",
      "[CV 2/3] END criterion=entropy, max_depth=4, max_features=sqrt, splitter=best;, score=0.745 total time=   0.0s\n",
      "[CV 3/3] END criterion=entropy, max_depth=4, max_features=sqrt, splitter=best;, score=0.693 total time=   0.0s\n",
      "[CV 1/3] END criterion=entropy, max_depth=4, max_features=sqrt, splitter=random;, score=0.724 total time=   0.0s\n",
      "[CV 2/3] END criterion=entropy, max_depth=4, max_features=sqrt, splitter=random;, score=0.672 total time=   0.0s\n",
      "[CV 3/3] END criterion=entropy, max_depth=4, max_features=sqrt, splitter=random;, score=0.609 total time=   0.0s\n",
      "[CV 1/3] END criterion=entropy, max_depth=4, max_features=log2, splitter=best;, score=0.698 total time=   0.0s\n",
      "[CV 2/3] END criterion=entropy, max_depth=4, max_features=log2, splitter=best;, score=0.750 total time=   0.0s\n",
      "[CV 3/3] END criterion=entropy, max_depth=4, max_features=log2, splitter=best;, score=0.698 total time=   0.0s\n",
      "[CV 1/3] END criterion=entropy, max_depth=4, max_features=log2, splitter=random;, score=0.703 total time=   0.0s\n",
      "[CV 2/3] END criterion=entropy, max_depth=4, max_features=log2, splitter=random;, score=0.698 total time=   0.0s\n",
      "[CV 3/3] END criterion=entropy, max_depth=4, max_features=log2, splitter=random;, score=0.729 total time=   0.0s\n",
      "[CV 1/3] END criterion=entropy, max_depth=5, max_features=auto, splitter=best;, score=0.667 total time=   0.0s\n",
      "[CV 2/3] END criterion=entropy, max_depth=5, max_features=auto, splitter=best;, score=0.734 total time=   0.0s\n",
      "[CV 3/3] END criterion=entropy, max_depth=5, max_features=auto, splitter=best;, score=0.682 total time=   0.1s\n",
      "[CV 1/3] END criterion=entropy, max_depth=5, max_features=auto, splitter=random;, score=0.630 total time=   0.0s\n",
      "[CV 2/3] END criterion=entropy, max_depth=5, max_features=auto, splitter=random;, score=0.760 total time=   0.0s\n",
      "[CV 3/3] END criterion=entropy, max_depth=5, max_features=auto, splitter=random;, score=0.760 total time=   0.0s\n",
      "[CV 1/3] END criterion=entropy, max_depth=5, max_features=sqrt, splitter=best;, score=0.703 total time=   0.0s\n",
      "[CV 2/3] END criterion=entropy, max_depth=5, max_features=sqrt, splitter=best;, score=0.724 total time=   0.0s\n",
      "[CV 3/3] END criterion=entropy, max_depth=5, max_features=sqrt, splitter=best;, score=0.698 total time=   0.0s\n",
      "[CV 1/3] END criterion=entropy, max_depth=5, max_features=sqrt, splitter=random;, score=0.641 total time=   0.1s\n",
      "[CV 2/3] END criterion=entropy, max_depth=5, max_features=sqrt, splitter=random;, score=0.698 total time=   0.1s\n",
      "[CV 3/3] END criterion=entropy, max_depth=5, max_features=sqrt, splitter=random;, score=0.698 total time=   0.0s\n",
      "[CV 1/3] END criterion=entropy, max_depth=5, max_features=log2, splitter=best;, score=0.719 total time=   0.0s\n",
      "[CV 2/3] END criterion=entropy, max_depth=5, max_features=log2, splitter=best;, score=0.734 total time=   0.0s\n",
      "[CV 3/3] END criterion=entropy, max_depth=5, max_features=log2, splitter=best;, score=0.693 total time=   0.0s\n",
      "[CV 1/3] END criterion=entropy, max_depth=5, max_features=log2, splitter=random;, score=0.724 total time=   0.1s\n",
      "[CV 2/3] END criterion=entropy, max_depth=5, max_features=log2, splitter=random;, score=0.734 total time=   0.0s\n",
      "[CV 3/3] END criterion=entropy, max_depth=5, max_features=log2, splitter=random;, score=0.693 total time=   0.0s\n",
      "[CV 1/3] END criterion=log_loss, max_depth=1, max_features=auto, splitter=best;, score=nan total time=   0.1s\n",
      "[CV 2/3] END criterion=log_loss, max_depth=1, max_features=auto, splitter=best;, score=nan total time=   0.0s\n",
      "[CV 3/3] END criterion=log_loss, max_depth=1, max_features=auto, splitter=best;, score=nan total time=   0.0s\n",
      "[CV 1/3] END criterion=log_loss, max_depth=1, max_features=auto, splitter=random;, score=nan total time=   0.0s\n",
      "[CV 2/3] END criterion=log_loss, max_depth=1, max_features=auto, splitter=random;, score=nan total time=   0.0s\n",
      "[CV 3/3] END criterion=log_loss, max_depth=1, max_features=auto, splitter=random;, score=nan total time=   0.0s\n",
      "[CV 1/3] END criterion=log_loss, max_depth=1, max_features=sqrt, splitter=best;, score=nan total time=   0.0s\n",
      "[CV 2/3] END criterion=log_loss, max_depth=1, max_features=sqrt, splitter=best;, score=nan total time=   0.0s\n",
      "[CV 3/3] END criterion=log_loss, max_depth=1, max_features=sqrt, splitter=best;, score=nan total time=   0.0s\n",
      "[CV 1/3] END criterion=log_loss, max_depth=1, max_features=sqrt, splitter=random;, score=nan total time=   0.0s\n",
      "[CV 2/3] END criterion=log_loss, max_depth=1, max_features=sqrt, splitter=random;, score=nan total time=   0.0s\n",
      "[CV 3/3] END criterion=log_loss, max_depth=1, max_features=sqrt, splitter=random;, score=nan total time=   0.0s\n",
      "[CV 1/3] END criterion=log_loss, max_depth=1, max_features=log2, splitter=best;, score=nan total time=   0.0s\n",
      "[CV 2/3] END criterion=log_loss, max_depth=1, max_features=log2, splitter=best;, score=nan total time=   0.0s\n",
      "[CV 3/3] END criterion=log_loss, max_depth=1, max_features=log2, splitter=best;, score=nan total time=   0.0s\n",
      "[CV 1/3] END criterion=log_loss, max_depth=1, max_features=log2, splitter=random;, score=nan total time=   0.0s\n",
      "[CV 2/3] END criterion=log_loss, max_depth=1, max_features=log2, splitter=random;, score=nan total time=   0.0s\n",
      "[CV 3/3] END criterion=log_loss, max_depth=1, max_features=log2, splitter=random;, score=nan total time=   0.0s\n",
      "[CV 1/3] END criterion=log_loss, max_depth=2, max_features=auto, splitter=best;, score=nan total time=   0.0s\n",
      "[CV 2/3] END criterion=log_loss, max_depth=2, max_features=auto, splitter=best;, score=nan total time=   0.0s\n",
      "[CV 3/3] END criterion=log_loss, max_depth=2, max_features=auto, splitter=best;, score=nan total time=   0.0s\n",
      "[CV 1/3] END criterion=log_loss, max_depth=2, max_features=auto, splitter=random;, score=nan total time=   0.0s\n",
      "[CV 2/3] END criterion=log_loss, max_depth=2, max_features=auto, splitter=random;, score=nan total time=   0.0s\n",
      "[CV 3/3] END criterion=log_loss, max_depth=2, max_features=auto, splitter=random;, score=nan total time=   0.0s\n",
      "[CV 1/3] END criterion=log_loss, max_depth=2, max_features=sqrt, splitter=best;, score=nan total time=   0.0s\n",
      "[CV 2/3] END criterion=log_loss, max_depth=2, max_features=sqrt, splitter=best;, score=nan total time=   0.0s\n",
      "[CV 3/3] END criterion=log_loss, max_depth=2, max_features=sqrt, splitter=best;, score=nan total time=   0.0s\n",
      "[CV 1/3] END criterion=log_loss, max_depth=2, max_features=sqrt, splitter=random;, score=nan total time=   0.0s\n",
      "[CV 2/3] END criterion=log_loss, max_depth=2, max_features=sqrt, splitter=random;, score=nan total time=   0.0s\n",
      "[CV 3/3] END criterion=log_loss, max_depth=2, max_features=sqrt, splitter=random;, score=nan total time=   0.0s\n",
      "[CV 1/3] END criterion=log_loss, max_depth=2, max_features=log2, splitter=best;, score=nan total time=   0.0s\n",
      "[CV 2/3] END criterion=log_loss, max_depth=2, max_features=log2, splitter=best;, score=nan total time=   0.0s\n",
      "[CV 3/3] END criterion=log_loss, max_depth=2, max_features=log2, splitter=best;, score=nan total time=   0.0s\n",
      "[CV 1/3] END criterion=log_loss, max_depth=2, max_features=log2, splitter=random;, score=nan total time=   0.0s\n",
      "[CV 2/3] END criterion=log_loss, max_depth=2, max_features=log2, splitter=random;, score=nan total time=   0.0s\n",
      "[CV 3/3] END criterion=log_loss, max_depth=2, max_features=log2, splitter=random;, score=nan total time=   0.0s\n",
      "[CV 1/3] END criterion=log_loss, max_depth=3, max_features=auto, splitter=best;, score=nan total time=   0.0s\n",
      "[CV 2/3] END criterion=log_loss, max_depth=3, max_features=auto, splitter=best;, score=nan total time=   0.0s\n",
      "[CV 3/3] END criterion=log_loss, max_depth=3, max_features=auto, splitter=best;, score=nan total time=   0.0s\n",
      "[CV 1/3] END criterion=log_loss, max_depth=3, max_features=auto, splitter=random;, score=nan total time=   0.0s\n",
      "[CV 2/3] END criterion=log_loss, max_depth=3, max_features=auto, splitter=random;, score=nan total time=   0.0s\n",
      "[CV 3/3] END criterion=log_loss, max_depth=3, max_features=auto, splitter=random;, score=nan total time=   0.0s\n",
      "[CV 1/3] END criterion=log_loss, max_depth=3, max_features=sqrt, splitter=best;, score=nan total time=   0.0s\n",
      "[CV 2/3] END criterion=log_loss, max_depth=3, max_features=sqrt, splitter=best;, score=nan total time=   0.0s\n",
      "[CV 3/3] END criterion=log_loss, max_depth=3, max_features=sqrt, splitter=best;, score=nan total time=   0.0s\n",
      "[CV 1/3] END criterion=log_loss, max_depth=3, max_features=sqrt, splitter=random;, score=nan total time=   0.0s\n",
      "[CV 2/3] END criterion=log_loss, max_depth=3, max_features=sqrt, splitter=random;, score=nan total time=   0.0s\n",
      "[CV 3/3] END criterion=log_loss, max_depth=3, max_features=sqrt, splitter=random;, score=nan total time=   0.0s\n",
      "[CV 1/3] END criterion=log_loss, max_depth=3, max_features=log2, splitter=best;, score=nan total time=   0.0s\n",
      "[CV 2/3] END criterion=log_loss, max_depth=3, max_features=log2, splitter=best;, score=nan total time=   0.0s\n",
      "[CV 3/3] END criterion=log_loss, max_depth=3, max_features=log2, splitter=best;, score=nan total time=   0.0s\n",
      "[CV 1/3] END criterion=log_loss, max_depth=3, max_features=log2, splitter=random;, score=nan total time=   0.0s\n",
      "[CV 2/3] END criterion=log_loss, max_depth=3, max_features=log2, splitter=random;, score=nan total time=   0.0s\n",
      "[CV 3/3] END criterion=log_loss, max_depth=3, max_features=log2, splitter=random;, score=nan total time=   0.0s\n",
      "[CV 1/3] END criterion=log_loss, max_depth=4, max_features=auto, splitter=best;, score=nan total time=   0.0s\n",
      "[CV 2/3] END criterion=log_loss, max_depth=4, max_features=auto, splitter=best;, score=nan total time=   0.0s\n",
      "[CV 3/3] END criterion=log_loss, max_depth=4, max_features=auto, splitter=best;, score=nan total time=   0.0s\n",
      "[CV 1/3] END criterion=log_loss, max_depth=4, max_features=auto, splitter=random;, score=nan total time=   0.0s\n",
      "[CV 2/3] END criterion=log_loss, max_depth=4, max_features=auto, splitter=random;, score=nan total time=   0.0s\n",
      "[CV 3/3] END criterion=log_loss, max_depth=4, max_features=auto, splitter=random;, score=nan total time=   0.0s\n",
      "[CV 1/3] END criterion=log_loss, max_depth=4, max_features=sqrt, splitter=best;, score=nan total time=   0.0s\n",
      "[CV 2/3] END criterion=log_loss, max_depth=4, max_features=sqrt, splitter=best;, score=nan total time=   0.0s\n",
      "[CV 3/3] END criterion=log_loss, max_depth=4, max_features=sqrt, splitter=best;, score=nan total time=   0.0s\n",
      "[CV 1/3] END criterion=log_loss, max_depth=4, max_features=sqrt, splitter=random;, score=nan total time=   0.0s\n",
      "[CV 2/3] END criterion=log_loss, max_depth=4, max_features=sqrt, splitter=random;, score=nan total time=   0.0s\n",
      "[CV 3/3] END criterion=log_loss, max_depth=4, max_features=sqrt, splitter=random;, score=nan total time=   0.0s\n",
      "[CV 1/3] END criterion=log_loss, max_depth=4, max_features=log2, splitter=best;, score=nan total time=   0.0s\n",
      "[CV 2/3] END criterion=log_loss, max_depth=4, max_features=log2, splitter=best;, score=nan total time=   0.0s\n",
      "[CV 3/3] END criterion=log_loss, max_depth=4, max_features=log2, splitter=best;, score=nan total time=   0.0s\n",
      "[CV 1/3] END criterion=log_loss, max_depth=4, max_features=log2, splitter=random;, score=nan total time=   0.0s\n",
      "[CV 2/3] END criterion=log_loss, max_depth=4, max_features=log2, splitter=random;, score=nan total time=   0.0s\n",
      "[CV 3/3] END criterion=log_loss, max_depth=4, max_features=log2, splitter=random;, score=nan total time=   0.0s\n",
      "[CV 1/3] END criterion=log_loss, max_depth=5, max_features=auto, splitter=best;, score=nan total time=   0.0s\n",
      "[CV 2/3] END criterion=log_loss, max_depth=5, max_features=auto, splitter=best;, score=nan total time=   0.0s\n",
      "[CV 3/3] END criterion=log_loss, max_depth=5, max_features=auto, splitter=best;, score=nan total time=   0.0s\n",
      "[CV 1/3] END criterion=log_loss, max_depth=5, max_features=auto, splitter=random;, score=nan total time=   0.0s\n",
      "[CV 2/3] END criterion=log_loss, max_depth=5, max_features=auto, splitter=random;, score=nan total time=   0.0s\n",
      "[CV 3/3] END criterion=log_loss, max_depth=5, max_features=auto, splitter=random;, score=nan total time=   0.0s\n",
      "[CV 1/3] END criterion=log_loss, max_depth=5, max_features=sqrt, splitter=best;, score=nan total time=   0.0s\n",
      "[CV 2/3] END criterion=log_loss, max_depth=5, max_features=sqrt, splitter=best;, score=nan total time=   0.0s\n",
      "[CV 3/3] END criterion=log_loss, max_depth=5, max_features=sqrt, splitter=best;, score=nan total time=   0.0s\n",
      "[CV 1/3] END criterion=log_loss, max_depth=5, max_features=sqrt, splitter=random;, score=nan total time=   0.0s\n",
      "[CV 2/3] END criterion=log_loss, max_depth=5, max_features=sqrt, splitter=random;, score=nan total time=   0.0s\n",
      "[CV 3/3] END criterion=log_loss, max_depth=5, max_features=sqrt, splitter=random;, score=nan total time=   0.0s\n",
      "[CV 1/3] END criterion=log_loss, max_depth=5, max_features=log2, splitter=best;, score=nan total time=   0.0s\n",
      "[CV 2/3] END criterion=log_loss, max_depth=5, max_features=log2, splitter=best;, score=nan total time=   0.0s\n",
      "[CV 3/3] END criterion=log_loss, max_depth=5, max_features=log2, splitter=best;, score=nan total time=   0.0s\n",
      "[CV 1/3] END criterion=log_loss, max_depth=5, max_features=log2, splitter=random;, score=nan total time=   0.0s\n",
      "[CV 2/3] END criterion=log_loss, max_depth=5, max_features=log2, splitter=random;, score=nan total time=   0.0s\n",
      "[CV 3/3] END criterion=log_loss, max_depth=5, max_features=log2, splitter=random;, score=nan total time=   0.0s\n"
     ]
    },
    {
     "data": {
      "text/plain": [
       "GridSearchCV(cv=3, estimator=DecisionTreeClassifier(),\n",
       "             param_grid={'criterion': ['gini', 'entropy', 'log_loss'],\n",
       "                         'max_depth': [1, 2, 3, 4, 5],\n",
       "                         'max_features': ['auto', 'sqrt', 'log2'],\n",
       "                         'splitter': ['best', 'random']},\n",
       "             scoring='accuracy', verbose=3)"
      ]
     },
     "execution_count": 56,
     "metadata": {},
     "output_type": "execute_result"
    }
   ],
   "source": [
    "clf=GridSearchCV(classifier,param_grid=parameter,cv=3,scoring='accuracy',verbose=3)\n",
    "clf.fit(X_train,y_train)"
   ]
  },
  {
   "cell_type": "code",
   "execution_count": 57,
   "id": "7df3c451",
   "metadata": {},
   "outputs": [
    {
     "data": {
      "text/plain": [
       "{'criterion': 'gini',\n",
       " 'max_depth': 4,\n",
       " 'max_features': 'auto',\n",
       " 'splitter': 'best'}"
      ]
     },
     "execution_count": 57,
     "metadata": {},
     "output_type": "execute_result"
    }
   ],
   "source": [
    "clf.best_params_"
   ]
  },
  {
   "cell_type": "code",
   "execution_count": 58,
   "id": "01f74b1b",
   "metadata": {},
   "outputs": [
    {
     "data": {
      "text/plain": [
       "DecisionTreeClassifier()"
      ]
     },
     "execution_count": 58,
     "metadata": {},
     "output_type": "execute_result"
    }
   ],
   "source": [
    "classifier.fit(X_train,y_train)"
   ]
  },
  {
   "cell_type": "code",
   "execution_count": 59,
   "id": "8cf29a60",
   "metadata": {},
   "outputs": [],
   "source": [
    "## Support Vector Classifier With Hyperparameter Tuning\n",
    "\n",
    "# defining parameter range\n",
    "param_grid = {'C': [0.1, 1, 10],\n",
    "              'gamma': [1, 0.1, 0.01, 0.001, 0.0001],\n",
    "              'kernel':['linear','rbf','polynomial']\n",
    "              }"
   ]
  },
  {
   "cell_type": "code",
   "execution_count": 60,
   "id": "2826e0ff",
   "metadata": {},
   "outputs": [
    {
     "name": "stdout",
     "output_type": "stream",
     "text": [
      "Fitting 3 folds for each of 45 candidates, totalling 135 fits\n",
      "[CV 1/3] END .....C=0.1, gamma=1, kernel=linear;, score=0.760 total time=   0.5s\n",
      "[CV 2/3] END .....C=0.1, gamma=1, kernel=linear;, score=0.771 total time=   0.3s\n",
      "[CV 3/3] END .....C=0.1, gamma=1, kernel=linear;, score=0.750 total time=   0.4s\n",
      "[CV 1/3] END ........C=0.1, gamma=1, kernel=rbf;, score=0.646 total time=   0.1s\n",
      "[CV 2/3] END ........C=0.1, gamma=1, kernel=rbf;, score=0.641 total time=   0.1s\n",
      "[CV 3/3] END ........C=0.1, gamma=1, kernel=rbf;, score=0.641 total time=   0.1s\n",
      "[CV 1/3] END ...C=0.1, gamma=1, kernel=polynomial;, score=nan total time=   0.0s\n",
      "[CV 2/3] END ...C=0.1, gamma=1, kernel=polynomial;, score=nan total time=   0.0s\n",
      "[CV 3/3] END ...C=0.1, gamma=1, kernel=polynomial;, score=nan total time=   0.0s\n",
      "[CV 1/3] END ...C=0.1, gamma=0.1, kernel=linear;, score=0.760 total time=   0.9s\n",
      "[CV 2/3] END ...C=0.1, gamma=0.1, kernel=linear;, score=0.771 total time=   0.5s\n",
      "[CV 3/3] END ...C=0.1, gamma=0.1, kernel=linear;, score=0.750 total time=   0.1s\n",
      "[CV 1/3] END ......C=0.1, gamma=0.1, kernel=rbf;, score=0.646 total time=   0.0s\n",
      "[CV 2/3] END ......C=0.1, gamma=0.1, kernel=rbf;, score=0.641 total time=   0.0s\n",
      "[CV 3/3] END ......C=0.1, gamma=0.1, kernel=rbf;, score=0.641 total time=   0.0s\n",
      "[CV 1/3] END .C=0.1, gamma=0.1, kernel=polynomial;, score=nan total time=   0.0s\n",
      "[CV 2/3] END .C=0.1, gamma=0.1, kernel=polynomial;, score=nan total time=   0.0s\n",
      "[CV 3/3] END .C=0.1, gamma=0.1, kernel=polynomial;, score=nan total time=   0.0s\n",
      "[CV 1/3] END ..C=0.1, gamma=0.01, kernel=linear;, score=0.760 total time=   0.4s\n",
      "[CV 2/3] END ..C=0.1, gamma=0.01, kernel=linear;, score=0.771 total time=   0.3s\n",
      "[CV 3/3] END ..C=0.1, gamma=0.01, kernel=linear;, score=0.750 total time=   0.1s\n",
      "[CV 1/3] END .....C=0.1, gamma=0.01, kernel=rbf;, score=0.646 total time=   0.0s\n",
      "[CV 2/3] END .....C=0.1, gamma=0.01, kernel=rbf;, score=0.641 total time=   0.0s\n",
      "[CV 3/3] END .....C=0.1, gamma=0.01, kernel=rbf;, score=0.641 total time=   0.0s\n",
      "[CV 1/3] END C=0.1, gamma=0.01, kernel=polynomial;, score=nan total time=   0.0s\n",
      "[CV 2/3] END C=0.1, gamma=0.01, kernel=polynomial;, score=nan total time=   0.0s\n",
      "[CV 3/3] END C=0.1, gamma=0.01, kernel=polynomial;, score=nan total time=   0.0s\n",
      "[CV 1/3] END .C=0.1, gamma=0.001, kernel=linear;, score=0.760 total time=   0.4s\n",
      "[CV 2/3] END .C=0.1, gamma=0.001, kernel=linear;, score=0.771 total time=   0.4s\n",
      "[CV 3/3] END .C=0.1, gamma=0.001, kernel=linear;, score=0.750 total time=   0.1s\n",
      "[CV 1/3] END ....C=0.1, gamma=0.001, kernel=rbf;, score=0.667 total time=   0.0s\n",
      "[CV 2/3] END ....C=0.1, gamma=0.001, kernel=rbf;, score=0.677 total time=   0.0s\n",
      "[CV 3/3] END ....C=0.1, gamma=0.001, kernel=rbf;, score=0.672 total time=   0.0s\n",
      "[CV 1/3] END C=0.1, gamma=0.001, kernel=polynomial;, score=nan total time=   0.0s\n",
      "[CV 2/3] END C=0.1, gamma=0.001, kernel=polynomial;, score=nan total time=   0.0s\n",
      "[CV 3/3] END C=0.1, gamma=0.001, kernel=polynomial;, score=nan total time=   0.0s\n",
      "[CV 1/3] END C=0.1, gamma=0.0001, kernel=linear;, score=0.760 total time=   0.5s\n",
      "[CV 2/3] END C=0.1, gamma=0.0001, kernel=linear;, score=0.771 total time=   0.4s\n",
      "[CV 3/3] END C=0.1, gamma=0.0001, kernel=linear;, score=0.750 total time=   0.1s\n",
      "[CV 1/3] END ...C=0.1, gamma=0.0001, kernel=rbf;, score=0.698 total time=   0.0s\n",
      "[CV 2/3] END ...C=0.1, gamma=0.0001, kernel=rbf;, score=0.682 total time=   0.0s\n",
      "[CV 3/3] END ...C=0.1, gamma=0.0001, kernel=rbf;, score=0.714 total time=   0.0s\n",
      "[CV 1/3] END C=0.1, gamma=0.0001, kernel=polynomial;, score=nan total time=   0.0s\n",
      "[CV 2/3] END C=0.1, gamma=0.0001, kernel=polynomial;, score=nan total time=   0.0s\n",
      "[CV 3/3] END C=0.1, gamma=0.0001, kernel=polynomial;, score=nan total time=   0.0s\n",
      "[CV 1/3] END .......C=1, gamma=1, kernel=linear;, score=0.776 total time=   2.2s\n",
      "[CV 2/3] END .......C=1, gamma=1, kernel=linear;, score=0.771 total time=   1.3s\n",
      "[CV 3/3] END .......C=1, gamma=1, kernel=linear;, score=0.740 total time=   1.2s\n",
      "[CV 1/3] END ..........C=1, gamma=1, kernel=rbf;, score=0.646 total time=   0.0s\n",
      "[CV 2/3] END ..........C=1, gamma=1, kernel=rbf;, score=0.641 total time=   0.0s\n",
      "[CV 3/3] END ..........C=1, gamma=1, kernel=rbf;, score=0.641 total time=   0.0s\n",
      "[CV 1/3] END .....C=1, gamma=1, kernel=polynomial;, score=nan total time=   0.0s\n",
      "[CV 2/3] END .....C=1, gamma=1, kernel=polynomial;, score=nan total time=   0.0s\n",
      "[CV 3/3] END .....C=1, gamma=1, kernel=polynomial;, score=nan total time=   0.0s\n",
      "[CV 1/3] END .....C=1, gamma=0.1, kernel=linear;, score=0.776 total time=   2.5s\n",
      "[CV 2/3] END .....C=1, gamma=0.1, kernel=linear;, score=0.771 total time=   1.2s\n",
      "[CV 3/3] END .....C=1, gamma=0.1, kernel=linear;, score=0.740 total time=   0.8s\n",
      "[CV 1/3] END ........C=1, gamma=0.1, kernel=rbf;, score=0.646 total time=   0.0s\n",
      "[CV 2/3] END ........C=1, gamma=0.1, kernel=rbf;, score=0.641 total time=   0.0s\n",
      "[CV 3/3] END ........C=1, gamma=0.1, kernel=rbf;, score=0.641 total time=   0.0s\n",
      "[CV 1/3] END ...C=1, gamma=0.1, kernel=polynomial;, score=nan total time=   0.0s\n",
      "[CV 2/3] END ...C=1, gamma=0.1, kernel=polynomial;, score=nan total time=   0.0s\n",
      "[CV 3/3] END ...C=1, gamma=0.1, kernel=polynomial;, score=nan total time=   0.0s\n",
      "[CV 1/3] END ....C=1, gamma=0.01, kernel=linear;, score=0.776 total time=   2.5s\n",
      "[CV 2/3] END ....C=1, gamma=0.01, kernel=linear;, score=0.771 total time=   1.4s\n",
      "[CV 3/3] END ....C=1, gamma=0.01, kernel=linear;, score=0.740 total time=   0.9s\n",
      "[CV 1/3] END .......C=1, gamma=0.01, kernel=rbf;, score=0.656 total time=   0.0s\n",
      "[CV 2/3] END .......C=1, gamma=0.01, kernel=rbf;, score=0.667 total time=   0.0s\n",
      "[CV 3/3] END .......C=1, gamma=0.01, kernel=rbf;, score=0.656 total time=   0.0s\n",
      "[CV 1/3] END ..C=1, gamma=0.01, kernel=polynomial;, score=nan total time=   0.0s\n",
      "[CV 2/3] END ..C=1, gamma=0.01, kernel=polynomial;, score=nan total time=   0.0s\n",
      "[CV 3/3] END ..C=1, gamma=0.01, kernel=polynomial;, score=nan total time=   0.0s\n",
      "[CV 1/3] END ...C=1, gamma=0.001, kernel=linear;, score=0.776 total time=   2.2s\n",
      "[CV 2/3] END ...C=1, gamma=0.001, kernel=linear;, score=0.771 total time=   1.2s\n",
      "[CV 3/3] END ...C=1, gamma=0.001, kernel=linear;, score=0.740 total time=   1.0s\n",
      "[CV 1/3] END ......C=1, gamma=0.001, kernel=rbf;, score=0.719 total time=   0.0s\n",
      "[CV 2/3] END ......C=1, gamma=0.001, kernel=rbf;, score=0.724 total time=   0.0s\n",
      "[CV 3/3] END ......C=1, gamma=0.001, kernel=rbf;, score=0.724 total time=   0.0s\n",
      "[CV 1/3] END .C=1, gamma=0.001, kernel=polynomial;, score=nan total time=   0.0s\n",
      "[CV 2/3] END .C=1, gamma=0.001, kernel=polynomial;, score=nan total time=   0.0s\n",
      "[CV 3/3] END .C=1, gamma=0.001, kernel=polynomial;, score=nan total time=   0.0s\n",
      "[CV 1/3] END ..C=1, gamma=0.0001, kernel=linear;, score=0.776 total time=   2.7s\n",
      "[CV 2/3] END ..C=1, gamma=0.0001, kernel=linear;, score=0.771 total time=   1.1s\n",
      "[CV 3/3] END ..C=1, gamma=0.0001, kernel=linear;, score=0.740 total time=   1.4s\n",
      "[CV 1/3] END .....C=1, gamma=0.0001, kernel=rbf;, score=0.729 total time=   0.0s\n",
      "[CV 2/3] END .....C=1, gamma=0.0001, kernel=rbf;, score=0.766 total time=   0.0s\n",
      "[CV 3/3] END .....C=1, gamma=0.0001, kernel=rbf;, score=0.740 total time=   0.0s\n",
      "[CV 1/3] END C=1, gamma=0.0001, kernel=polynomial;, score=nan total time=   0.0s\n",
      "[CV 2/3] END C=1, gamma=0.0001, kernel=polynomial;, score=nan total time=   0.0s\n",
      "[CV 3/3] END C=1, gamma=0.0001, kernel=polynomial;, score=nan total time=   0.0s\n",
      "[CV 1/3] END ......C=10, gamma=1, kernel=linear;, score=0.771 total time=  26.2s\n",
      "[CV 2/3] END ......C=10, gamma=1, kernel=linear;, score=0.776 total time=  22.9s\n",
      "[CV 3/3] END ......C=10, gamma=1, kernel=linear;, score=0.745 total time=  18.7s\n",
      "[CV 1/3] END .........C=10, gamma=1, kernel=rbf;, score=0.646 total time=   0.0s\n",
      "[CV 2/3] END .........C=10, gamma=1, kernel=rbf;, score=0.641 total time=   0.0s\n",
      "[CV 3/3] END .........C=10, gamma=1, kernel=rbf;, score=0.641 total time=   0.0s\n",
      "[CV 1/3] END ....C=10, gamma=1, kernel=polynomial;, score=nan total time=   0.0s\n",
      "[CV 2/3] END ....C=10, gamma=1, kernel=polynomial;, score=nan total time=   0.0s\n",
      "[CV 3/3] END ....C=10, gamma=1, kernel=polynomial;, score=nan total time=   0.0s\n",
      "[CV 1/3] END ....C=10, gamma=0.1, kernel=linear;, score=0.771 total time=  28.5s\n",
      "[CV 2/3] END ....C=10, gamma=0.1, kernel=linear;, score=0.776 total time=  20.2s\n"
     ]
    },
    {
     "ename": "KeyboardInterrupt",
     "evalue": "",
     "output_type": "error",
     "traceback": [
      "\u001b[0;31m---------------------------------------------------------------------------\u001b[0m",
      "\u001b[0;31mKeyboardInterrupt\u001b[0m                         Traceback (most recent call last)",
      "\u001b[0;32m/var/folders/98/s_csvns12hlcpvtq83lb250h0000gn/T/ipykernel_56898/4153571945.py\u001b[0m in \u001b[0;36m<module>\u001b[0;34m\u001b[0m\n\u001b[1;32m      1\u001b[0m \u001b[0mgrid\u001b[0m\u001b[0;34m=\u001b[0m\u001b[0mGridSearchCV\u001b[0m\u001b[0;34m(\u001b[0m\u001b[0mSVC\u001b[0m\u001b[0;34m(\u001b[0m\u001b[0;34m)\u001b[0m\u001b[0;34m,\u001b[0m\u001b[0mparam_grid\u001b[0m\u001b[0;34m=\u001b[0m\u001b[0mparam_grid\u001b[0m\u001b[0;34m,\u001b[0m\u001b[0mrefit\u001b[0m\u001b[0;34m=\u001b[0m\u001b[0;32mTrue\u001b[0m\u001b[0;34m,\u001b[0m\u001b[0mcv\u001b[0m\u001b[0;34m=\u001b[0m\u001b[0;36m3\u001b[0m\u001b[0;34m,\u001b[0m\u001b[0mverbose\u001b[0m\u001b[0;34m=\u001b[0m\u001b[0;36m3\u001b[0m\u001b[0;34m,\u001b[0m\u001b[0mscoring\u001b[0m\u001b[0;34m=\u001b[0m\u001b[0;34m'accuracy'\u001b[0m\u001b[0;34m)\u001b[0m\u001b[0;34m\u001b[0m\u001b[0;34m\u001b[0m\u001b[0m\n\u001b[1;32m      2\u001b[0m \u001b[0;34m\u001b[0m\u001b[0m\n\u001b[0;32m----> 3\u001b[0;31m \u001b[0mgrid\u001b[0m\u001b[0;34m.\u001b[0m\u001b[0mfit\u001b[0m\u001b[0;34m(\u001b[0m\u001b[0mX_train\u001b[0m\u001b[0;34m,\u001b[0m\u001b[0my_train\u001b[0m\u001b[0;34m)\u001b[0m\u001b[0;34m\u001b[0m\u001b[0;34m\u001b[0m\u001b[0m\n\u001b[0m",
      "\u001b[0;32m~/opt/anaconda3/lib/python3.9/site-packages/sklearn/model_selection/_search.py\u001b[0m in \u001b[0;36mfit\u001b[0;34m(self, X, y, groups, **fit_params)\u001b[0m\n\u001b[1;32m    889\u001b[0m                 \u001b[0;32mreturn\u001b[0m \u001b[0mresults\u001b[0m\u001b[0;34m\u001b[0m\u001b[0;34m\u001b[0m\u001b[0m\n\u001b[1;32m    890\u001b[0m \u001b[0;34m\u001b[0m\u001b[0m\n\u001b[0;32m--> 891\u001b[0;31m             \u001b[0mself\u001b[0m\u001b[0;34m.\u001b[0m\u001b[0m_run_search\u001b[0m\u001b[0;34m(\u001b[0m\u001b[0mevaluate_candidates\u001b[0m\u001b[0;34m)\u001b[0m\u001b[0;34m\u001b[0m\u001b[0;34m\u001b[0m\u001b[0m\n\u001b[0m\u001b[1;32m    892\u001b[0m \u001b[0;34m\u001b[0m\u001b[0m\n\u001b[1;32m    893\u001b[0m             \u001b[0;31m# multimetric is determined here because in the case of a callable\u001b[0m\u001b[0;34m\u001b[0m\u001b[0;34m\u001b[0m\u001b[0m\n",
      "\u001b[0;32m~/opt/anaconda3/lib/python3.9/site-packages/sklearn/model_selection/_search.py\u001b[0m in \u001b[0;36m_run_search\u001b[0;34m(self, evaluate_candidates)\u001b[0m\n\u001b[1;32m   1390\u001b[0m     \u001b[0;32mdef\u001b[0m \u001b[0m_run_search\u001b[0m\u001b[0;34m(\u001b[0m\u001b[0mself\u001b[0m\u001b[0;34m,\u001b[0m \u001b[0mevaluate_candidates\u001b[0m\u001b[0;34m)\u001b[0m\u001b[0;34m:\u001b[0m\u001b[0;34m\u001b[0m\u001b[0;34m\u001b[0m\u001b[0m\n\u001b[1;32m   1391\u001b[0m         \u001b[0;34m\"\"\"Search all candidates in param_grid\"\"\"\u001b[0m\u001b[0;34m\u001b[0m\u001b[0;34m\u001b[0m\u001b[0m\n\u001b[0;32m-> 1392\u001b[0;31m         \u001b[0mevaluate_candidates\u001b[0m\u001b[0;34m(\u001b[0m\u001b[0mParameterGrid\u001b[0m\u001b[0;34m(\u001b[0m\u001b[0mself\u001b[0m\u001b[0;34m.\u001b[0m\u001b[0mparam_grid\u001b[0m\u001b[0;34m)\u001b[0m\u001b[0;34m)\u001b[0m\u001b[0;34m\u001b[0m\u001b[0;34m\u001b[0m\u001b[0m\n\u001b[0m\u001b[1;32m   1393\u001b[0m \u001b[0;34m\u001b[0m\u001b[0m\n\u001b[1;32m   1394\u001b[0m \u001b[0;34m\u001b[0m\u001b[0m\n",
      "\u001b[0;32m~/opt/anaconda3/lib/python3.9/site-packages/sklearn/model_selection/_search.py\u001b[0m in \u001b[0;36mevaluate_candidates\u001b[0;34m(candidate_params, cv, more_results)\u001b[0m\n\u001b[1;32m    836\u001b[0m                     )\n\u001b[1;32m    837\u001b[0m \u001b[0;34m\u001b[0m\u001b[0m\n\u001b[0;32m--> 838\u001b[0;31m                 out = parallel(\n\u001b[0m\u001b[1;32m    839\u001b[0m                     delayed(_fit_and_score)(\n\u001b[1;32m    840\u001b[0m                         \u001b[0mclone\u001b[0m\u001b[0;34m(\u001b[0m\u001b[0mbase_estimator\u001b[0m\u001b[0;34m)\u001b[0m\u001b[0;34m,\u001b[0m\u001b[0;34m\u001b[0m\u001b[0;34m\u001b[0m\u001b[0m\n",
      "\u001b[0;32m~/opt/anaconda3/lib/python3.9/site-packages/joblib/parallel.py\u001b[0m in \u001b[0;36m__call__\u001b[0;34m(self, iterable)\u001b[0m\n\u001b[1;32m   1044\u001b[0m                 \u001b[0mself\u001b[0m\u001b[0;34m.\u001b[0m\u001b[0m_iterating\u001b[0m \u001b[0;34m=\u001b[0m \u001b[0mself\u001b[0m\u001b[0;34m.\u001b[0m\u001b[0m_original_iterator\u001b[0m \u001b[0;32mis\u001b[0m \u001b[0;32mnot\u001b[0m \u001b[0;32mNone\u001b[0m\u001b[0;34m\u001b[0m\u001b[0;34m\u001b[0m\u001b[0m\n\u001b[1;32m   1045\u001b[0m \u001b[0;34m\u001b[0m\u001b[0m\n\u001b[0;32m-> 1046\u001b[0;31m             \u001b[0;32mwhile\u001b[0m \u001b[0mself\u001b[0m\u001b[0;34m.\u001b[0m\u001b[0mdispatch_one_batch\u001b[0m\u001b[0;34m(\u001b[0m\u001b[0miterator\u001b[0m\u001b[0;34m)\u001b[0m\u001b[0;34m:\u001b[0m\u001b[0;34m\u001b[0m\u001b[0;34m\u001b[0m\u001b[0m\n\u001b[0m\u001b[1;32m   1047\u001b[0m                 \u001b[0;32mpass\u001b[0m\u001b[0;34m\u001b[0m\u001b[0;34m\u001b[0m\u001b[0m\n\u001b[1;32m   1048\u001b[0m \u001b[0;34m\u001b[0m\u001b[0m\n",
      "\u001b[0;32m~/opt/anaconda3/lib/python3.9/site-packages/joblib/parallel.py\u001b[0m in \u001b[0;36mdispatch_one_batch\u001b[0;34m(self, iterator)\u001b[0m\n\u001b[1;32m    859\u001b[0m                 \u001b[0;32mreturn\u001b[0m \u001b[0;32mFalse\u001b[0m\u001b[0;34m\u001b[0m\u001b[0;34m\u001b[0m\u001b[0m\n\u001b[1;32m    860\u001b[0m             \u001b[0;32melse\u001b[0m\u001b[0;34m:\u001b[0m\u001b[0;34m\u001b[0m\u001b[0;34m\u001b[0m\u001b[0m\n\u001b[0;32m--> 861\u001b[0;31m                 \u001b[0mself\u001b[0m\u001b[0;34m.\u001b[0m\u001b[0m_dispatch\u001b[0m\u001b[0;34m(\u001b[0m\u001b[0mtasks\u001b[0m\u001b[0;34m)\u001b[0m\u001b[0;34m\u001b[0m\u001b[0;34m\u001b[0m\u001b[0m\n\u001b[0m\u001b[1;32m    862\u001b[0m                 \u001b[0;32mreturn\u001b[0m \u001b[0;32mTrue\u001b[0m\u001b[0;34m\u001b[0m\u001b[0;34m\u001b[0m\u001b[0m\n\u001b[1;32m    863\u001b[0m \u001b[0;34m\u001b[0m\u001b[0m\n",
      "\u001b[0;32m~/opt/anaconda3/lib/python3.9/site-packages/joblib/parallel.py\u001b[0m in \u001b[0;36m_dispatch\u001b[0;34m(self, batch)\u001b[0m\n\u001b[1;32m    777\u001b[0m         \u001b[0;32mwith\u001b[0m \u001b[0mself\u001b[0m\u001b[0;34m.\u001b[0m\u001b[0m_lock\u001b[0m\u001b[0;34m:\u001b[0m\u001b[0;34m\u001b[0m\u001b[0;34m\u001b[0m\u001b[0m\n\u001b[1;32m    778\u001b[0m             \u001b[0mjob_idx\u001b[0m \u001b[0;34m=\u001b[0m \u001b[0mlen\u001b[0m\u001b[0;34m(\u001b[0m\u001b[0mself\u001b[0m\u001b[0;34m.\u001b[0m\u001b[0m_jobs\u001b[0m\u001b[0;34m)\u001b[0m\u001b[0;34m\u001b[0m\u001b[0;34m\u001b[0m\u001b[0m\n\u001b[0;32m--> 779\u001b[0;31m             \u001b[0mjob\u001b[0m \u001b[0;34m=\u001b[0m \u001b[0mself\u001b[0m\u001b[0;34m.\u001b[0m\u001b[0m_backend\u001b[0m\u001b[0;34m.\u001b[0m\u001b[0mapply_async\u001b[0m\u001b[0;34m(\u001b[0m\u001b[0mbatch\u001b[0m\u001b[0;34m,\u001b[0m \u001b[0mcallback\u001b[0m\u001b[0;34m=\u001b[0m\u001b[0mcb\u001b[0m\u001b[0;34m)\u001b[0m\u001b[0;34m\u001b[0m\u001b[0;34m\u001b[0m\u001b[0m\n\u001b[0m\u001b[1;32m    780\u001b[0m             \u001b[0;31m# A job can complete so quickly than its callback is\u001b[0m\u001b[0;34m\u001b[0m\u001b[0;34m\u001b[0m\u001b[0m\n\u001b[1;32m    781\u001b[0m             \u001b[0;31m# called before we get here, causing self._jobs to\u001b[0m\u001b[0;34m\u001b[0m\u001b[0;34m\u001b[0m\u001b[0m\n",
      "\u001b[0;32m~/opt/anaconda3/lib/python3.9/site-packages/joblib/_parallel_backends.py\u001b[0m in \u001b[0;36mapply_async\u001b[0;34m(self, func, callback)\u001b[0m\n\u001b[1;32m    206\u001b[0m     \u001b[0;32mdef\u001b[0m \u001b[0mapply_async\u001b[0m\u001b[0;34m(\u001b[0m\u001b[0mself\u001b[0m\u001b[0;34m,\u001b[0m \u001b[0mfunc\u001b[0m\u001b[0;34m,\u001b[0m \u001b[0mcallback\u001b[0m\u001b[0;34m=\u001b[0m\u001b[0;32mNone\u001b[0m\u001b[0;34m)\u001b[0m\u001b[0;34m:\u001b[0m\u001b[0;34m\u001b[0m\u001b[0;34m\u001b[0m\u001b[0m\n\u001b[1;32m    207\u001b[0m         \u001b[0;34m\"\"\"Schedule a func to be run\"\"\"\u001b[0m\u001b[0;34m\u001b[0m\u001b[0;34m\u001b[0m\u001b[0m\n\u001b[0;32m--> 208\u001b[0;31m         \u001b[0mresult\u001b[0m \u001b[0;34m=\u001b[0m \u001b[0mImmediateResult\u001b[0m\u001b[0;34m(\u001b[0m\u001b[0mfunc\u001b[0m\u001b[0;34m)\u001b[0m\u001b[0;34m\u001b[0m\u001b[0;34m\u001b[0m\u001b[0m\n\u001b[0m\u001b[1;32m    209\u001b[0m         \u001b[0;32mif\u001b[0m \u001b[0mcallback\u001b[0m\u001b[0;34m:\u001b[0m\u001b[0;34m\u001b[0m\u001b[0;34m\u001b[0m\u001b[0m\n\u001b[1;32m    210\u001b[0m             \u001b[0mcallback\u001b[0m\u001b[0;34m(\u001b[0m\u001b[0mresult\u001b[0m\u001b[0;34m)\u001b[0m\u001b[0;34m\u001b[0m\u001b[0;34m\u001b[0m\u001b[0m\n",
      "\u001b[0;32m~/opt/anaconda3/lib/python3.9/site-packages/joblib/_parallel_backends.py\u001b[0m in \u001b[0;36m__init__\u001b[0;34m(self, batch)\u001b[0m\n\u001b[1;32m    570\u001b[0m         \u001b[0;31m# Don't delay the application, to avoid keeping the input\u001b[0m\u001b[0;34m\u001b[0m\u001b[0;34m\u001b[0m\u001b[0m\n\u001b[1;32m    571\u001b[0m         \u001b[0;31m# arguments in memory\u001b[0m\u001b[0;34m\u001b[0m\u001b[0;34m\u001b[0m\u001b[0m\n\u001b[0;32m--> 572\u001b[0;31m         \u001b[0mself\u001b[0m\u001b[0;34m.\u001b[0m\u001b[0mresults\u001b[0m \u001b[0;34m=\u001b[0m \u001b[0mbatch\u001b[0m\u001b[0;34m(\u001b[0m\u001b[0;34m)\u001b[0m\u001b[0;34m\u001b[0m\u001b[0;34m\u001b[0m\u001b[0m\n\u001b[0m\u001b[1;32m    573\u001b[0m \u001b[0;34m\u001b[0m\u001b[0m\n\u001b[1;32m    574\u001b[0m     \u001b[0;32mdef\u001b[0m \u001b[0mget\u001b[0m\u001b[0;34m(\u001b[0m\u001b[0mself\u001b[0m\u001b[0;34m)\u001b[0m\u001b[0;34m:\u001b[0m\u001b[0;34m\u001b[0m\u001b[0;34m\u001b[0m\u001b[0m\n",
      "\u001b[0;32m~/opt/anaconda3/lib/python3.9/site-packages/joblib/parallel.py\u001b[0m in \u001b[0;36m__call__\u001b[0;34m(self)\u001b[0m\n\u001b[1;32m    260\u001b[0m         \u001b[0;31m# change the default number of processes to -1\u001b[0m\u001b[0;34m\u001b[0m\u001b[0;34m\u001b[0m\u001b[0m\n\u001b[1;32m    261\u001b[0m         \u001b[0;32mwith\u001b[0m \u001b[0mparallel_backend\u001b[0m\u001b[0;34m(\u001b[0m\u001b[0mself\u001b[0m\u001b[0;34m.\u001b[0m\u001b[0m_backend\u001b[0m\u001b[0;34m,\u001b[0m \u001b[0mn_jobs\u001b[0m\u001b[0;34m=\u001b[0m\u001b[0mself\u001b[0m\u001b[0;34m.\u001b[0m\u001b[0m_n_jobs\u001b[0m\u001b[0;34m)\u001b[0m\u001b[0;34m:\u001b[0m\u001b[0;34m\u001b[0m\u001b[0;34m\u001b[0m\u001b[0m\n\u001b[0;32m--> 262\u001b[0;31m             return [func(*args, **kwargs)\n\u001b[0m\u001b[1;32m    263\u001b[0m                     for func, args, kwargs in self.items]\n\u001b[1;32m    264\u001b[0m \u001b[0;34m\u001b[0m\u001b[0m\n",
      "\u001b[0;32m~/opt/anaconda3/lib/python3.9/site-packages/joblib/parallel.py\u001b[0m in \u001b[0;36m<listcomp>\u001b[0;34m(.0)\u001b[0m\n\u001b[1;32m    260\u001b[0m         \u001b[0;31m# change the default number of processes to -1\u001b[0m\u001b[0;34m\u001b[0m\u001b[0;34m\u001b[0m\u001b[0m\n\u001b[1;32m    261\u001b[0m         \u001b[0;32mwith\u001b[0m \u001b[0mparallel_backend\u001b[0m\u001b[0;34m(\u001b[0m\u001b[0mself\u001b[0m\u001b[0;34m.\u001b[0m\u001b[0m_backend\u001b[0m\u001b[0;34m,\u001b[0m \u001b[0mn_jobs\u001b[0m\u001b[0;34m=\u001b[0m\u001b[0mself\u001b[0m\u001b[0;34m.\u001b[0m\u001b[0m_n_jobs\u001b[0m\u001b[0;34m)\u001b[0m\u001b[0;34m:\u001b[0m\u001b[0;34m\u001b[0m\u001b[0;34m\u001b[0m\u001b[0m\n\u001b[0;32m--> 262\u001b[0;31m             return [func(*args, **kwargs)\n\u001b[0m\u001b[1;32m    263\u001b[0m                     for func, args, kwargs in self.items]\n\u001b[1;32m    264\u001b[0m \u001b[0;34m\u001b[0m\u001b[0m\n",
      "\u001b[0;32m~/opt/anaconda3/lib/python3.9/site-packages/sklearn/utils/fixes.py\u001b[0m in \u001b[0;36m__call__\u001b[0;34m(self, *args, **kwargs)\u001b[0m\n\u001b[1;32m    214\u001b[0m     \u001b[0;32mdef\u001b[0m \u001b[0m__call__\u001b[0m\u001b[0;34m(\u001b[0m\u001b[0mself\u001b[0m\u001b[0;34m,\u001b[0m \u001b[0;34m*\u001b[0m\u001b[0margs\u001b[0m\u001b[0;34m,\u001b[0m \u001b[0;34m**\u001b[0m\u001b[0mkwargs\u001b[0m\u001b[0;34m)\u001b[0m\u001b[0;34m:\u001b[0m\u001b[0;34m\u001b[0m\u001b[0;34m\u001b[0m\u001b[0m\n\u001b[1;32m    215\u001b[0m         \u001b[0;32mwith\u001b[0m \u001b[0mconfig_context\u001b[0m\u001b[0;34m(\u001b[0m\u001b[0;34m**\u001b[0m\u001b[0mself\u001b[0m\u001b[0;34m.\u001b[0m\u001b[0mconfig\u001b[0m\u001b[0;34m)\u001b[0m\u001b[0;34m:\u001b[0m\u001b[0;34m\u001b[0m\u001b[0;34m\u001b[0m\u001b[0m\n\u001b[0;32m--> 216\u001b[0;31m             \u001b[0;32mreturn\u001b[0m \u001b[0mself\u001b[0m\u001b[0;34m.\u001b[0m\u001b[0mfunction\u001b[0m\u001b[0;34m(\u001b[0m\u001b[0;34m*\u001b[0m\u001b[0margs\u001b[0m\u001b[0;34m,\u001b[0m \u001b[0;34m**\u001b[0m\u001b[0mkwargs\u001b[0m\u001b[0;34m)\u001b[0m\u001b[0;34m\u001b[0m\u001b[0;34m\u001b[0m\u001b[0m\n\u001b[0m\u001b[1;32m    217\u001b[0m \u001b[0;34m\u001b[0m\u001b[0m\n\u001b[1;32m    218\u001b[0m \u001b[0;34m\u001b[0m\u001b[0m\n",
      "\u001b[0;32m~/opt/anaconda3/lib/python3.9/site-packages/sklearn/model_selection/_validation.py\u001b[0m in \u001b[0;36m_fit_and_score\u001b[0;34m(estimator, X, y, scorer, train, test, verbose, parameters, fit_params, return_train_score, return_parameters, return_n_test_samples, return_times, return_estimator, split_progress, candidate_progress, error_score)\u001b[0m\n\u001b[1;32m    678\u001b[0m             \u001b[0mestimator\u001b[0m\u001b[0;34m.\u001b[0m\u001b[0mfit\u001b[0m\u001b[0;34m(\u001b[0m\u001b[0mX_train\u001b[0m\u001b[0;34m,\u001b[0m \u001b[0;34m**\u001b[0m\u001b[0mfit_params\u001b[0m\u001b[0;34m)\u001b[0m\u001b[0;34m\u001b[0m\u001b[0;34m\u001b[0m\u001b[0m\n\u001b[1;32m    679\u001b[0m         \u001b[0;32melse\u001b[0m\u001b[0;34m:\u001b[0m\u001b[0;34m\u001b[0m\u001b[0;34m\u001b[0m\u001b[0m\n\u001b[0;32m--> 680\u001b[0;31m             \u001b[0mestimator\u001b[0m\u001b[0;34m.\u001b[0m\u001b[0mfit\u001b[0m\u001b[0;34m(\u001b[0m\u001b[0mX_train\u001b[0m\u001b[0;34m,\u001b[0m \u001b[0my_train\u001b[0m\u001b[0;34m,\u001b[0m \u001b[0;34m**\u001b[0m\u001b[0mfit_params\u001b[0m\u001b[0;34m)\u001b[0m\u001b[0;34m\u001b[0m\u001b[0;34m\u001b[0m\u001b[0m\n\u001b[0m\u001b[1;32m    681\u001b[0m \u001b[0;34m\u001b[0m\u001b[0m\n\u001b[1;32m    682\u001b[0m     \u001b[0;32mexcept\u001b[0m \u001b[0mException\u001b[0m\u001b[0;34m:\u001b[0m\u001b[0;34m\u001b[0m\u001b[0;34m\u001b[0m\u001b[0m\n",
      "\u001b[0;32m~/opt/anaconda3/lib/python3.9/site-packages/sklearn/svm/_base.py\u001b[0m in \u001b[0;36mfit\u001b[0;34m(self, X, y, sample_weight)\u001b[0m\n\u001b[1;32m    253\u001b[0m \u001b[0;34m\u001b[0m\u001b[0m\n\u001b[1;32m    254\u001b[0m         \u001b[0mseed\u001b[0m \u001b[0;34m=\u001b[0m \u001b[0mrnd\u001b[0m\u001b[0;34m.\u001b[0m\u001b[0mrandint\u001b[0m\u001b[0;34m(\u001b[0m\u001b[0mnp\u001b[0m\u001b[0;34m.\u001b[0m\u001b[0miinfo\u001b[0m\u001b[0;34m(\u001b[0m\u001b[0;34m\"i\"\u001b[0m\u001b[0;34m)\u001b[0m\u001b[0;34m.\u001b[0m\u001b[0mmax\u001b[0m\u001b[0;34m)\u001b[0m\u001b[0;34m\u001b[0m\u001b[0;34m\u001b[0m\u001b[0m\n\u001b[0;32m--> 255\u001b[0;31m         \u001b[0mfit\u001b[0m\u001b[0;34m(\u001b[0m\u001b[0mX\u001b[0m\u001b[0;34m,\u001b[0m \u001b[0my\u001b[0m\u001b[0;34m,\u001b[0m \u001b[0msample_weight\u001b[0m\u001b[0;34m,\u001b[0m \u001b[0msolver_type\u001b[0m\u001b[0;34m,\u001b[0m \u001b[0mkernel\u001b[0m\u001b[0;34m,\u001b[0m \u001b[0mrandom_seed\u001b[0m\u001b[0;34m=\u001b[0m\u001b[0mseed\u001b[0m\u001b[0;34m)\u001b[0m\u001b[0;34m\u001b[0m\u001b[0;34m\u001b[0m\u001b[0m\n\u001b[0m\u001b[1;32m    256\u001b[0m         \u001b[0;31m# see comment on the other call to np.iinfo in this file\u001b[0m\u001b[0;34m\u001b[0m\u001b[0;34m\u001b[0m\u001b[0m\n\u001b[1;32m    257\u001b[0m \u001b[0;34m\u001b[0m\u001b[0m\n",
      "\u001b[0;32m~/opt/anaconda3/lib/python3.9/site-packages/sklearn/svm/_base.py\u001b[0m in \u001b[0;36m_dense_fit\u001b[0;34m(self, X, y, sample_weight, solver_type, kernel, random_seed)\u001b[0m\n\u001b[1;32m    313\u001b[0m             \u001b[0mself\u001b[0m\u001b[0;34m.\u001b[0m\u001b[0m_probB\u001b[0m\u001b[0;34m,\u001b[0m\u001b[0;34m\u001b[0m\u001b[0;34m\u001b[0m\u001b[0m\n\u001b[1;32m    314\u001b[0m             \u001b[0mself\u001b[0m\u001b[0;34m.\u001b[0m\u001b[0mfit_status_\u001b[0m\u001b[0;34m,\u001b[0m\u001b[0;34m\u001b[0m\u001b[0;34m\u001b[0m\u001b[0m\n\u001b[0;32m--> 315\u001b[0;31m         \u001b[0;34m)\u001b[0m \u001b[0;34m=\u001b[0m \u001b[0mlibsvm\u001b[0m\u001b[0;34m.\u001b[0m\u001b[0mfit\u001b[0m\u001b[0;34m(\u001b[0m\u001b[0;34m\u001b[0m\u001b[0;34m\u001b[0m\u001b[0m\n\u001b[0m\u001b[1;32m    316\u001b[0m             \u001b[0mX\u001b[0m\u001b[0;34m,\u001b[0m\u001b[0;34m\u001b[0m\u001b[0;34m\u001b[0m\u001b[0m\n\u001b[1;32m    317\u001b[0m             \u001b[0my\u001b[0m\u001b[0;34m,\u001b[0m\u001b[0;34m\u001b[0m\u001b[0;34m\u001b[0m\u001b[0m\n",
      "\u001b[0;31mKeyboardInterrupt\u001b[0m: "
     ]
    }
   ],
   "source": [
    "grid=GridSearchCV(SVC(),param_grid=param_grid,refit=True,cv=3,verbose=3,scoring='accuracy')\n",
    "\n",
    "grid.fit(X_train,y_train)"
   ]
  },
  {
   "cell_type": "code",
   "execution_count": null,
   "id": "08649755",
   "metadata": {},
   "outputs": [],
   "source": [
    "svc_clf=SVC(C=0.1,gamma=1,kernel='linear')\n",
    "svc_clf.fit(X_train,y_train)"
   ]
  },
  {
   "cell_type": "code",
   "execution_count": 61,
   "id": "92b829f7",
   "metadata": {},
   "outputs": [],
   "source": [
    "## Decision Tree prediction\n",
    "y_pred = classifier.predict(X_test)"
   ]
  },
  {
   "cell_type": "code",
   "execution_count": 62,
   "id": "988dc99e",
   "metadata": {},
   "outputs": [
    {
     "data": {
      "text/plain": [
       "array([[103,  27],\n",
       "       [ 23,  39]])"
      ]
     },
     "execution_count": 62,
     "metadata": {},
     "output_type": "execute_result"
    }
   ],
   "source": [
    "conf_mat = confusion_matrix(y_test,y_pred)\n",
    "conf_mat"
   ]
  },
  {
   "cell_type": "code",
   "execution_count": 68,
   "id": "838222e3",
   "metadata": {},
   "outputs": [
    {
     "data": {
      "text/plain": [
       "array([[103,  27],\n",
       "       [ 23,  39]])"
      ]
     },
     "execution_count": 68,
     "metadata": {},
     "output_type": "execute_result"
    }
   ],
   "source": [
    "conf_mat = confusion_matrix(y_test,y_pred)\n",
    "conf_mat"
   ]
  },
  {
   "cell_type": "code",
   "execution_count": 64,
   "id": "3cc95000",
   "metadata": {},
   "outputs": [],
   "source": [
    "true_positive = conf_mat[0][0]\n",
    "false_positive = conf_mat[0][1]\n",
    "false_negative = conf_mat[1][0]\n",
    "true_negative = conf_mat[1][1]"
   ]
  },
  {
   "cell_type": "code",
   "execution_count": 65,
   "id": "27791676",
   "metadata": {},
   "outputs": [
    {
     "data": {
      "text/plain": [
       "0.7395833333333334"
      ]
     },
     "execution_count": 65,
     "metadata": {},
     "output_type": "execute_result"
    }
   ],
   "source": [
    "Accuracy = (true_positive + true_negative) / (true_positive +false_positive + false_negative + true_negative)\n",
    "Accuracy"
   ]
  },
  {
   "cell_type": "code",
   "execution_count": 66,
   "id": "d999f598",
   "metadata": {},
   "outputs": [
    {
     "data": {
      "text/plain": [
       "0.7923076923076923"
      ]
     },
     "execution_count": 66,
     "metadata": {},
     "output_type": "execute_result"
    }
   ],
   "source": [
    "Precision = true_positive/(true_positive+false_positive)\n",
    "Precision"
   ]
  },
  {
   "cell_type": "code",
   "execution_count": 67,
   "id": "a4e5c29e",
   "metadata": {},
   "outputs": [
    {
     "data": {
      "text/plain": [
       "0.8174603174603174"
      ]
     },
     "execution_count": 67,
     "metadata": {},
     "output_type": "execute_result"
    }
   ],
   "source": [
    "Recall = true_positive/(true_positive+false_negative)\n",
    "Recall"
   ]
  },
  {
   "cell_type": "code",
   "execution_count": null,
   "id": "ef7b0580",
   "metadata": {},
   "outputs": [],
   "source": [
    "F1_Score = 2*(Recall * Precision) / (Recall + Precision)\n",
    "F1_Score"
   ]
  },
  {
   "cell_type": "code",
   "execution_count": null,
   "id": "81e86e57",
   "metadata": {},
   "outputs": [],
   "source": []
  }
 ],
 "metadata": {
  "kernelspec": {
   "display_name": "Python 3 (ipykernel)",
   "language": "python",
   "name": "python3"
  },
  "language_info": {
   "codemirror_mode": {
    "name": "ipython",
    "version": 3
   },
   "file_extension": ".py",
   "mimetype": "text/x-python",
   "name": "python",
   "nbconvert_exporter": "python",
   "pygments_lexer": "ipython3",
   "version": "3.9.13"
  }
 },
 "nbformat": 4,
 "nbformat_minor": 5
}
