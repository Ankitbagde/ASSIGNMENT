{
 "cells": [
  {
   "cell_type": "code",
   "execution_count": null,
   "id": "fdcbaada",
   "metadata": {},
   "outputs": [],
   "source": [
    "Q1. Write a Python function that takes in two arrays of data and calculates the F-value for a variance ratio\n",
    "test. The function should return the F-value and the corresponding p-value for the test.\n"
   ]
  },
  {
   "cell_type": "code",
   "execution_count": 7,
   "id": "32be7ecd",
   "metadata": {},
   "outputs": [],
   "source": [
    "import numpy as np\n",
    "from scipy.stats import f\n",
    "\n",
    "def variance_ratio_test(data1, data2):\n",
    "    \"\"\"\n",
    "    Calculates the F-value and p-value for a variance ratio test.\n",
    "    \n",
    "    Parameters:\n",
    "        data1 (array-like): First set of data.\n",
    "        data2 (array-like): Second set of data.\n",
    "        \n",
    "    Returns:\n",
    "        tuple: F-value and corresponding p-value.\n",
    "    \"\"\"\n",
    "    # Calculate the variances of the two data sets\n",
    "    var1 = np.var(data1, ddof=1)\n",
    "    var2 = np.var(data2, ddof=1)\n",
    "    \n",
    "    # Calculate the ratio of the variances\n",
    "    var_ratio = var1/var2 if var1 > var2 else var2/var1\n",
    "    \n",
    "    # Calculate the degrees of freedom for the F-distribution\n",
    "    df1 = len(data1) - 1\n",
    "    df2 = len(data2) - 1\n",
    "    \n",
    "    # Calculate the F-value and p-value\n",
    "    f_val = var_ratio * df2/df1\n",
    "    p_val = 1 - f.cdf(f_val, df1, df2)\n",
    "    \n",
    "    return f_val, p_val\n"
   ]
  },
  {
   "cell_type": "code",
   "execution_count": 8,
   "id": "2cd9b685",
   "metadata": {},
   "outputs": [
    {
     "name": "stdout",
     "output_type": "stream",
     "text": [
      "F-value: 4.0\n",
      "p-value: 0.10399999999999998\n"
     ]
    }
   ],
   "source": [
    "data1 = [1, 2, 3, 4, 5]\n",
    "data2 = [2, 4, 6, 8, 10]\n",
    "f_val, p_val = variance_ratio_test(data1, data2)\n",
    "print(\"F-value:\", f_val)\n",
    "print(\"p-value:\", p_val)\n"
   ]
  },
  {
   "cell_type": "code",
   "execution_count": null,
   "id": "a2485c82",
   "metadata": {},
   "outputs": [],
   "source": [
    "Q2. Given a significance level of 0.05 and the degrees of freedom for the numerator and denominator of an\n",
    "F-distribution, write a Python function that returns the critical F-value for a two-tailed test.\n"
   ]
  },
  {
   "cell_type": "code",
   "execution_count": null,
   "id": "df235c67",
   "metadata": {},
   "outputs": [],
   "source": [
    "from scipy.stats import f\n",
    "\n",
    "def critical_f_value(alpha, dfn, dfd):\n",
    "    \"\"\"\n",
    "    Calculates the critical F-value for a two-tailed test given a significance level\n",
    "    and the degrees of freedom for the numerator and denominator of an F-distribution.\n",
    "    \n",
    "    Parameters:\n",
    "        alpha (float): Significance level.\n",
    "        dfn (int): Degrees of freedom for the numerator.\n",
    "        dfd (int): Degrees of freedom for the denominator.\n",
    "        \n",
    "    Returns:\n",
    "        float: Critical F-value.\n",
    "    \"\"\"\n",
    "    # Calculate the two-tailed alpha level\n",
    "    alpha = alpha/2\n",
    "    \n",
    "    # Calculate the critical F-value\n",
    "    return f.ppf(1-alpha, dfn, dfd), f.ppf(alpha, dfn, dfd)\n"
   ]
  },
  {
   "cell_type": "code",
   "execution_count": null,
   "id": "93fef369",
   "metadata": {},
   "outputs": [],
   "source": [
    "Q3. Write a Python program that generates random samples from two normal distributions with known\n",
    "\n",
    "variances and uses an F-test to determine if the variances are equal. The program should output the F-\n",
    "value, degrees of freedom, and p-value for the test.\n",
    "\n"
   ]
  },
  {
   "cell_type": "code",
   "execution_count": 4,
   "id": "ef00239a",
   "metadata": {},
   "outputs": [
    {
     "name": "stdout",
     "output_type": "stream",
     "text": [
      "F-value: 1.1403545383937257\n",
      "Degrees of freedom: 49 49\n",
      "p-value: 0.32376915375425497\n"
     ]
    }
   ],
   "source": [
    "import numpy as np\n",
    "from scipy.stats import f\n",
    "\n",
    "# Set the random seed for reproducibility\n",
    "np.random.seed(42)\n",
    "\n",
    "# Generate two random samples from normal distributions with known variances\n",
    "sample1 = np.random.normal(loc=0, scale=1, size=50)\n",
    "sample2 = np.random.normal(loc=0, scale=1, size=50)\n",
    "\n",
    "# Calculate the variances of the two samples\n",
    "var1 = np.var(sample1, ddof=1)\n",
    "var2 = np.var(sample2, ddof=1)\n",
    "\n",
    "# Calculate the ratio of the variances\n",
    "var_ratio = var1/var2 if var1 > var2 else var2/var1\n",
    "\n",
    "# Calculate the degrees of freedom for the F-distribution\n",
    "df1 = len(sample1) - 1\n",
    "df2 = len(sample2) - 1\n",
    "\n",
    "# Calculate the F-value and p-value\n",
    "f_val = var_ratio * df2/df1\n",
    "p_val = 1 - f.cdf(f_val, df1, df2)\n",
    "\n",
    "# Print the results\n",
    "print(\"F-value:\", f_val)\n",
    "print(\"Degrees of freedom:\", df1, df2)\n",
    "print(\"p-value:\", p_val)\n"
   ]
  },
  {
   "cell_type": "code",
   "execution_count": null,
   "id": "35b4d28b",
   "metadata": {},
   "outputs": [],
   "source": [
    "Q4.The variances of two populations are known to be 10 and 15. A sample of 12 observations is taken from\n",
    "each population. Conduct an F-test at the 5% significance level to determine if the variances are\n",
    "significantly different.\n"
   ]
  },
  {
   "cell_type": "code",
   "execution_count": null,
   "id": "4ea0d710",
   "metadata": {},
   "outputs": [],
   "source": [
    "The variances of two populations are known to be 10 and 15.\n",
    "A sample of 12 observations is taken from each population. Conduct an F-test at the 5% significance level to determine if the variances are significantly different.\n",
    "\n",
    "To conduct an F-test for the equality of variances, we need to calculate the F-statistic and \n",
    "compare it to the critical value from an F-distribution with degrees of freedom (dfn = n1 - 1) and (dfd = n2 - 1), \n",
    "where n1 and n2 are the sample sizes for the two populations.\n",
    "\n",
    "The null hypothesis for the F-test is that the variances of the two populations are equal.\n",
    "The alternative hypothesis is that the variances are significantly different.\n",
    "\n",
    "The F-statistic is calculated as the ratio of the sample variances, with the larger variance in the numerator:\n",
    "\n",
    "F = s1^2 / s2^2\n",
    "\n",
    "where s1^2 is the sample variance for the population with variance 10, and s2^2 is the sample variance for the population with variance 15.\n",
    "\n",
    "At the 5% significance level, with dfn = 11 and dfd = 11, the critical values for a two-tailed test are F(0.025, 11, 11) = 3.07 and F(0.975, 11, 11) = 0.325.\n",
    "\n",
    "If the calculated F-statistic is outside this range, we reject the null hypothesis and conclude that the variances are significantly different.\n",
    "\n",
    "Now let's calculate the F-statistic for this problem:"
   ]
  },
  {
   "cell_type": "code",
   "execution_count": 12,
   "id": "8d205a07",
   "metadata": {},
   "outputs": [
    {
     "name": "stdout",
     "output_type": "stream",
     "text": [
      "The variances are not significantly different.\n"
     ]
    }
   ],
   "source": [
    "import numpy as np\n",
    "from scipy.stats import f\n",
    "\n",
    "# Population variances\n",
    "var1 = 10\n",
    "var2 = 15\n",
    "\n",
    "# Sample sizes\n",
    "n1 = 12\n",
    "n2 = 12\n",
    "\n",
    "# Generate random samples from normal distributions\n",
    "np.random.seed(1)\n",
    "sample1 = np.random.normal(loc=0, scale=np.sqrt(var1), size=n1)\n",
    "sample2 = np.random.normal(loc=0, scale=np.sqrt(var2), size=n2)\n",
    "\n",
    "# Calculate sample variances\n",
    "s1_sq = np.var(sample1, ddof=1)\n",
    "s2_sq = np.var(sample2, ddof=1)\n",
    "\n",
    "# Calculate the F-statistic\n",
    "f_stat = s1_sq / s2_sq\n",
    "\n",
    "# Calculate the critical values\n",
    "alpha = 0.05\n",
    "dfn = n1 - 1\n",
    "dfd = n2 - 1\n",
    "critical_f_value_upper = f.ppf(1-alpha/2, dfn, dfd)\n",
    "critical_f_value_lower = f.ppf(alpha/2, dfn, dfd)\n",
    "\n",
    "# Test the null hypothesis\n",
    "if f_stat > critical_f_value_upper or f_stat < critical_f_value_lower:\n",
    "    print(\"The variances are significantly different.\")\n",
    "else:\n",
    "    print(\"The variances are not significantly different.\")\n"
   ]
  },
  {
   "cell_type": "code",
   "execution_count": null,
   "id": "839fd795",
   "metadata": {},
   "outputs": [],
   "source": [
    "Q5. A manufacturer claims that the variance of the diameter of a certain product is 0.005. A sample of 25\n",
    "products is taken, and the sample variance is found to be 0.006. Conduct an F-test at the 1% significance\n",
    "level to determine if the claim is justified.\n"
   ]
  },
  {
   "cell_type": "code",
   "execution_count": null,
   "id": "87efdc83",
   "metadata": {},
   "outputs": [],
   "source": [
    "to conduct an F-test to determine if the claim of the manufacturer is justified, we need to set up the null and alternative hypotheses:\n",
    "\n",
    "Null hypothesis: The population variance is equal to 0.005 (i.e., σ^2 = 0.005).\n",
    "Alternative hypothesis: The population variance is greater than 0.005 (i.e., σ^2 > 0.005).\n",
    "We will use a significance level of 1%, which corresponds to a critical value of F with degrees of freedom (24,24) of 4.16 (from an F-table or using the f.ppf() function from the scipy.stats module).\n",
    "\n",
    "We can then use the f.cdf() function from the scipy.stats module to calculate the p-value for the test, \n",
    "which is the probability of obtaining an F-value as extreme or more extreme than the observed F-value, assuming the null hypothesis is true. If the p-value is less than the significance level, we reject the null hypothesis in favor of the alternative hypothesis.\n",
    "\n",
    "Here's the Python code to conduct the F-test:"
   ]
  },
  {
   "cell_type": "code",
   "execution_count": 13,
   "id": "b2ccdb3d",
   "metadata": {},
   "outputs": [
    {
     "name": "stdout",
     "output_type": "stream",
     "text": [
      "The null hypothesis should not be rejected with an F-value of 1.2000 and a p-value of 0.3294.\n"
     ]
    }
   ],
   "source": [
    "import scipy.stats as stats\n",
    "\n",
    "# Set up the null and alternative hypotheses\n",
    "sigma_sq = 0.005\n",
    "n = 25\n",
    "sample_var = 0.006\n",
    "f_stat = sample_var / sigma_sq\n",
    "alpha = 0.01\n",
    "\n",
    "# Calculate the p-value\n",
    "p_value = 1 - stats.f.cdf(f_stat, n - 1, n - 1)\n",
    "\n",
    "# Determine if the null hypothesis should be rejected\n",
    "if p_value < alpha:\n",
    "    print(f\"The null hypothesis should be rejected with an F-value of {f_stat:.4f} and a p-value of {p_value:.4f}.\")\n",
    "else:\n",
    "    print(f\"The null hypothesis should not be rejected with an F-value of {f_stat:.4f} and a p-value of {p_value:.4f}.\")\n"
   ]
  },
  {
   "cell_type": "code",
   "execution_count": null,
   "id": "6d2c3c72",
   "metadata": {},
   "outputs": [],
   "source": [
    "Q6. Write a Python function that takes in the degrees of freedom for the numerator and denominator of an\n",
    "F-distribution and calculates the mean and variance of the distribution. The function should return the\n",
    "mean and variance as a tuple.\n"
   ]
  },
  {
   "cell_type": "code",
   "execution_count": 14,
   "id": "71ba3eba",
   "metadata": {},
   "outputs": [],
   "source": [
    "import math\n",
    "\n",
    "def f_distribution_mean_var(dfn, dfd):\n",
    "    \"\"\"\n",
    "    Calculate the mean and variance of an F-distribution given the degrees of freedom for the numerator and denominator.\n",
    "    Returns a tuple of the mean and variance.\n",
    "    \"\"\"\n",
    "    if dfn <= 0 or dfd <= 0:\n",
    "        raise ValueError(\"Degrees of freedom must be greater than zero.\")\n",
    "    \n",
    "    mean = dfd / (dfd - 2)\n",
    "    if dfd <= 4:\n",
    "        var = math.inf\n",
    "    else:\n",
    "        var = (2 * dfd**2 * (dfn + dfd - 2)) / (dfn * (dfd - 2)**2 * (dfd - 4))\n",
    "    \n",
    "    return mean, var\n"
   ]
  },
  {
   "cell_type": "code",
   "execution_count": 15,
   "id": "06c7dd4f",
   "metadata": {},
   "outputs": [
    {
     "name": "stdout",
     "output_type": "stream",
     "text": [
      "Mean: 1.25, Variance: 1.35\n"
     ]
    }
   ],
   "source": [
    "mean, var = f_distribution_mean_var(5, 10)\n",
    "print(f\"Mean: {mean:.2f}, Variance: {var:.2f}\")\n"
   ]
  },
  {
   "cell_type": "code",
   "execution_count": null,
   "id": "8c42b48a",
   "metadata": {},
   "outputs": [],
   "source": [
    "Q7. A random sample of 10 measurements is taken from a normal population with unknown variance. The\n",
    "sample variance is found to be 25. Another random sample of 15 measurements is taken from another\n",
    "normal population with unknown variance, and the sample variance is found to be 20. Conduct an F-test\n",
    "at the 10% significance level to determine if the variances are significantly different.\n"
   ]
  },
  {
   "cell_type": "code",
   "execution_count": null,
   "id": "54486063",
   "metadata": {},
   "outputs": [],
   "source": [
    "To determine if the variances of two populations are significantly different, we can conduct an F-test. Here, we have a sample of 10 measurements from one population with sample variance 25, and a sample of 15 measurements from another population with sample variance 20. We will use a significance level of 10%.\n",
    "\n",
    "The null hypothesis is that the variances are equal, and the alternative hypothesis is that they are not equal. We can calculate the F-statistic as the ratio of the larger sample variance to the smaller sample variance. Since we want to test if the variances are significantly different in either direction, we will use a two-tailed test.\n",
    "\n",
    "The critical value for the F-distribution with degrees of freedom (9, 14) at a significance level of 10% can be found using the f.ppf() function from the scipy.stats module.\n",
    "\n",
    "Here's the Python code to conduct the F-test:"
   ]
  },
  {
   "cell_type": "code",
   "execution_count": 17,
   "id": "085a3304",
   "metadata": {},
   "outputs": [
    {
     "name": "stdout",
     "output_type": "stream",
     "text": [
      "The null hypothesis should not be rejected with an F-value of 1.2500 and a critical F-value of 2.6458.\n"
     ]
    }
   ],
   "source": [
    "import scipy.stats as stats\n",
    "\n",
    "# Set up the null and alternative hypotheses\n",
    "sample_var1 = 25\n",
    "sample_var2 = 20\n",
    "n1 = 10\n",
    "n2 = 15\n",
    "f_stat = max(sample_var1, sample_var2) / min(sample_var1, sample_var2)\n",
    "alpha = 0.10\n",
    "\n",
    "# Find the critical value for a two-tailed test\n",
    "critical_f = stats.f.ppf(1 - alpha / 2, n1 - 1, n2 - 1)\n",
    "\n",
    "# Determine if the null hypothesis should be rejected\n",
    "if f_stat > critical_f:\n",
    "    print(f\"The null hypothesis should be rejected with an F-value of {f_stat:.4f} and a critical F-value of {critical_f:.4f}.\")\n",
    "else:\n",
    "    print(f\"The null hypothesis should not be rejected with an F-value of {f_stat:.4f} and a critical F-value of {critical_f:.4f}.\")\n"
   ]
  },
  {
   "cell_type": "code",
   "execution_count": null,
   "id": "86aa8fad",
   "metadata": {},
   "outputs": [],
   "source": [
    "Q8. The following data represent the waiting times in minutes at two different restaurants on a Saturday\n",
    "night: Restaurant A: 24, 25, 28, 23, 22, 20, 27; Restaurant B: 31, 33, 35, 30, 32, 36. Conduct an F-test at the 5%\n",
    "significance level to determine if the variances are significantly different.\n"
   ]
  },
  {
   "cell_type": "code",
   "execution_count": null,
   "id": "a19ebad1",
   "metadata": {},
   "outputs": [],
   "source": [
    "The following data represent the waiting times in minutes at two different restaurants on a Saturday night:\n",
    "Restaurant A: 24, 25, 28, 23, 22, 20, 27; Restaurant B: 31, 33, 35, 30, 32, 36. \n",
    "Conduct an F-test at the 5% significance level to determine if the variances are significantly different.\n",
    "\n",
    "To conduct an F-test for two sample variances, we can use the formula:\n",
    "\n",
    "F = s1^2 / s2^2\n",
    "\n",
    "where s1^2 is the sample variance of the first sample and s2^2 is \n",
    "the sample variance of the second sample. We will use a significance level of 0.05.\n",
    "\n",
    "First, let's calculate the sample variances:\n",
    "\n",
    "s1^2 = ((24-25.7)^2 + (25-25.7)^2 + (28-25.7)^2 + (23-25.7)^2 + (22-25.7)^2 + (20-25.7)^2 + (27-25.7)^2) / 6 = 10.62\n",
    "\n",
    "s2^2 = ((31-32.8)^2 + (33-32.8)^2 + (35-32.8)^2 + (30-32.8)^2 + (32-32.8)^2 + (36-32.8)^2) / 5 = 5.66\n",
    "\n",
    "Next, let's calculate the F-value:\n",
    "\n",
    "F = s1^2 / s2^2 = 10.62 / 5.66 = 1.88\n",
    "\n",
    "We can now compare this to the critical F-value with degrees of freedom (6-1=5) for \n",
    "the numerator and (5-1=4) for the denominator at a significance level of 0.05 using an F-distribution table or the scipy.stats module in Python."
   ]
  },
  {
   "cell_type": "code",
   "execution_count": null,
   "id": "cde374bf",
   "metadata": {},
   "outputs": [],
   "source": [
    "Q9. The following data represent the test scores of two groups of students: Group A: 80, 85, 90, 92, 87, 83;\n",
    "Group B: 75, 78, 82, 79, 81, 84. Conduct an F-test at the 1% significance level to determine if the variances\n",
    "are significantly different."
   ]
  },
  {
   "cell_type": "code",
   "execution_count": null,
   "id": "dee50784",
   "metadata": {},
   "outputs": [],
   "source": [
    "To conduct an F-test, we first need to calculate the sample variances for each group. Then, we will use the F-test formula to calculate the F-value and corresponding p-value.\n",
    "\n",
    "Calculating the sample variances:\n",
    "\n",
    "Group A:\n",
    "mean = (80 + 85 + 90 + 92 + 87 + 83)/6 = 86.17\n",
    "variance = ((80-86.17)^2 + (85-86.17)^2 + (90-86.17)^2 + (92-86.17)^2 + (87-86.17)^2 + (83-86.17)^2)/(6-1) = 20.30\n",
    "\n",
    "Group B:\n",
    "mean = (75 + 78 + 82 + 79 + 81 + 84)/6 = 80.17\n",
    "variance = ((75-80.17)^2 + (78-80.17)^2 + (82-80.17)^2 + (79-80.17)^2 + (81-80.17)^2 + (84-80.17)^2)/(6-1) = 7.97\n",
    "\n",
    "Now we can conduct the F-test:\n",
    "\n",
    "Null hypothesis: The variances of Group A and Group B are equal.\n",
    "Alternative hypothesis: The variances of Group A and Group B are not equal.\n",
    "\n",
    "The test statistic is given by F = s1^2 / s2^2, where s1^2 is the larger sample variance and s2^2 is \n",
    "the smaller sample variance.\n",
    "\n",
    "F = 20.30 / 7.97 = 2.547\n",
    "\n",
    "The degrees of freedom for the numerator is n1 - 1 = 5 and for the denominator is n2 - 1 = 5.\n",
    "\n",
    "Using a significance level of 0.01 and degrees of freedom (5, 5), we can look up the critical F-value from \n",
    "an F-distribution table or use a Python function.\n",
    "\n",
    "The critical F-value is 6.607.\n",
    "\n",
    "Since our calculated F-value (2.547) is smaller than the critical F-value (6.607), we fail to reject the null hypothesis. \n",
    "Therefore, we do not have sufficient evidence to conclude that the variances of Group A and Group B are significantly different at the 1% level of significance."
   ]
  },
  {
   "cell_type": "code",
   "execution_count": null,
   "id": "afca6420",
   "metadata": {},
   "outputs": [],
   "source": []
  }
 ],
 "metadata": {
  "kernelspec": {
   "display_name": "Python 3 (ipykernel)",
   "language": "python",
   "name": "python3"
  },
  "language_info": {
   "codemirror_mode": {
    "name": "ipython",
    "version": 3
   },
   "file_extension": ".py",
   "mimetype": "text/x-python",
   "name": "python",
   "nbconvert_exporter": "python",
   "pygments_lexer": "ipython3",
   "version": "3.9.13"
  }
 },
 "nbformat": 4,
 "nbformat_minor": 5
}
