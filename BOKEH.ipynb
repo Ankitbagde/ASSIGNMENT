{
 "cells": [
  {
   "cell_type": "code",
   "execution_count": null,
   "id": "a002962f",
   "metadata": {},
   "outputs": [],
   "source": [
    "Q1. How can you create a Bokeh plot using Python code?\n"
   ]
  },
  {
   "cell_type": "code",
   "execution_count": null,
   "id": "133fe87d",
   "metadata": {},
   "outputs": [],
   "source": [
    "Bokeh is a Python library for creating interactive data visualization in web browsers.\n",
    "Here's how you can create a basic Bokeh plot using Python code:\n",
    "\n",
    "First, you need to install the Bokeh library using pip:\n",
    "\n",
    "pip install bokeh\n",
    "Next, import the necessary functions and libraries:\n",
    "\n",
    "\n",
    "from bokeh.plotting import figure, output_file, show\n",
    "Then, create a new figure object:\n",
    "\n",
    "p = figure(title=\"My Plot\", x_axis_label='x', y_axis_label='y')\n",
    "Now, you can add data to the plot using different methods such as p.circle() or p.line(). For example:\n",
    "\n",
    "p.circle([1, 2, 3, 4, 5], [6, 7, 2, 4, 5], size=15, line_color=\"navy\", fill_color=\"orange\", fill_alpha=0.5)\n",
    "Here, we created a scatter plot with five points.\n",
    "\n",
    "Finally, we need to save and show the plot:\n",
    "\n",
    "\n",
    "output_file(\"myplot.html\")\n",
    "show(p)\n",
    "This will save the plot to an HTML file called \"myplot.html\" and open it in a new tab in your default web browser."
   ]
  },
  {
   "cell_type": "code",
   "execution_count": null,
   "id": "b4024ec1",
   "metadata": {},
   "outputs": [],
   "source": [
    "Q2. What are glyphs in Bokeh, and how can you add them to a Bokeh plot? Explain with an example.\n"
   ]
  },
  {
   "cell_type": "code",
   "execution_count": null,
   "id": "11e1739d",
   "metadata": {},
   "outputs": [],
   "source": [
    "Glyphs are the visual shapes that Bokeh uses to represent data in a plot.\n",
    "Some examples of glyphs include circles, lines, rectangles, and text.\n",
    "\n",
    "To add glyphs to a Bokeh plot, you can use one of the many glyph methods provided by the bokeh.\n",
    "plotting module. For example, the circle() method creates a scatter plot of circles with specified x and y coordinates, size, color, and other properties.\n",
    "\n",
    "Here's an example of how to add a scatter plot of circles to a Bokeh plot using the circle() glyph method:"
   ]
  },
  {
   "cell_type": "code",
   "execution_count": 2,
   "id": "554411b1",
   "metadata": {},
   "outputs": [],
   "source": [
    "from bokeh.plotting import figure, output_file, show\n",
    "\n",
    "# create a new plot with a title and axis labels\n",
    "p = figure(title=\"Scatter plot of circles\", x_axis_label='x', y_axis_label='y')\n",
    "\n",
    "# add a scatter plot of circles to the plot\n",
    "p.circle([1, 2, 3, 4, 5], [6, 7, 2, 4, 5], size=20, line_color=\"navy\", fill_color=\"orange\", fill_alpha=0.5)\n",
    "\n",
    "# save and show the plot\n",
    "output_file(\"scatter.html\")\n",
    "show(p)\n"
   ]
  },
  {
   "cell_type": "code",
   "execution_count": null,
   "id": "a958df4d",
   "metadata": {},
   "outputs": [],
   "source": [
    "Q3. How can you customize the appearance of a Bokeh plot, including the axes, title, and legend?\n"
   ]
  },
  {
   "cell_type": "code",
   "execution_count": null,
   "id": "58046c40",
   "metadata": {},
   "outputs": [],
   "source": [
    "You can customize the appearance of a Bokeh plot using various options available in the Bokeh library. \n",
    "Here are some of the common ways to customize a Bokeh plot:\n",
    "\n",
    "Title\n",
    "To add a title to a Bokeh plot, you can use the title attribute of the figure object. For example:\n",
    "\n",
    "\n",
    "p = figure(title=\"My Bokeh Plot\")\n",
    "To customize the font size and font family of the title, you can use the title_text_font_size and title_text_font properties, respectively. For example:\n",
    "\n",
    "p.title.text_font_size = \"20pt\"\n",
    "p.title.text_font = \"Arial\"\n",
    "Axes\n",
    "To customize the appearance of the axes, you can use the axis methods of the figure object. \n",
    "For example, to set the axis labels and font properties, you can use:\n",
    "\n",
    "\n",
    "p.xaxis.axis_label = \"X-axis Label\"\n",
    "p.xaxis.axis_label_text_font_size = \"14pt\"\n",
    "p.xaxis.axis_label_text_font_style = \"italic\"\n",
    "\n",
    "p.yaxis.axis_label = \"Y-axis Label\"\n",
    "p.yaxis.axis_label_text_font_size = \"14pt\"\n",
    "p.yaxis.axis_label_text_font_style = \"italic\"\n",
    "You can also customize the tick labels, tick locations, tick font properties, and other options using similar axis methods.\n",
    "\n",
    "Legend\n",
    "To add a legend to a Bokeh plot, you can use the legend attribute of the figure object.\n",
    "For example, to add a legend with the label \"My Legend\" to a scatter plot, you can use:\n",
    "\n",
    "p.circle([1, 2, 3], [4, 5, 6], legend_label=\"My Legend\")\n",
    "You can customize the font properties and other options of the legend using the legend attribute of the figure object. For example:\n",
    "\n",
    "p.legend.label_text_font_size = \"12pt\"\n",
    "p.legend.location = \"top_left\"\n",
    "These are just a few examples of the many ways to customize the appearance of a Bokeh plot. \n",
    "Bokeh provides a wide range of customization options to create visually appealing and informative data visualizations."
   ]
  },
  {
   "cell_type": "code",
   "execution_count": null,
   "id": "10185662",
   "metadata": {},
   "outputs": [],
   "source": [
    "Q4. What is a Bokeh server, and how can you use it to create interactive plots that can be updated in\n",
    "real time?\n"
   ]
  },
  {
   "cell_type": "code",
   "execution_count": null,
   "id": "0c7600b8",
   "metadata": {},
   "outputs": [],
   "source": [
    " Bokeh server is a way to create and deploy interactive web applications with Bokeh plots. \n",
    "With a Bokeh server, you can create plots that can be updated in real-time, based on user interactions or changes in the data source.\n",
    "\n",
    "To create a Bokeh server application, \n",
    "you need to define a Python function that sets up the initial state of the plot and defines the interactions and updates that will occur.\n",
    "The function should return a LayoutDOM object, which is a Bokeh model that represents the entire layout of the application.\n",
    "\n",
    "Here's an example of how to create a simple Bokeh server application that displays a scatter plot and updates it in real-time when the user clicks a button:"
   ]
  },
  {
   "cell_type": "code",
   "execution_count": 3,
   "id": "5e073c86",
   "metadata": {},
   "outputs": [],
   "source": [
    "from bokeh.io import curdoc\n",
    "from bokeh.layouts import column\n",
    "from bokeh.models import ColumnDataSource\n",
    "from bokeh.plotting import figure\n",
    "from bokeh.models.widgets import Button\n",
    "\n",
    "# create initial data for the scatter plot\n",
    "source = ColumnDataSource(data=dict(x=[1, 2, 3], y=[4, 5, 6]))\n",
    "\n",
    "# create a scatter plot\n",
    "plot = figure(plot_width=400, plot_height=400, title=\"My Scatter Plot\")\n",
    "plot.circle('x', 'y', source=source)\n",
    "\n",
    "# define a callback function to update the plot when the button is clicked\n",
    "def update_data():\n",
    "    new_data = dict(x=[4, 5, 6], y=[7, 8, 9])\n",
    "    source.data = new_data\n",
    "\n",
    "# create a button widget that triggers the update when clicked\n",
    "button = Button(label=\"Update Data\")\n",
    "button.on_click(update_data)\n",
    "\n",
    "# combine the plot and button into a layout and add it to the current document\n",
    "layout = column(plot, button)\n",
    "curdoc().add_root(layout)\n"
   ]
  },
  {
   "cell_type": "code",
   "execution_count": null,
   "id": "bb4c821d",
   "metadata": {},
   "outputs": [],
   "source": [
    "Q5. How can you embed a Bokeh plot into a web page or dashboard using Flask or Django?"
   ]
  },
  {
   "cell_type": "code",
   "execution_count": null,
   "id": "64b88b7a",
   "metadata": {},
   "outputs": [],
   "source": [
    "Bokeh plots can be embedded into web pages or dashboards built with Flask or Django by using the bokeh.embed module.\n",
    "Here's an example of how to embed a Bokeh plot into a Flask web page:"
   ]
  },
  {
   "cell_type": "code",
   "execution_count": null,
   "id": "ac34e7a5",
   "metadata": {},
   "outputs": [],
   "source": [
    "from flask import Flask, render_template\n",
    "from bokeh.plotting import figure\n",
    "from bokeh.embed import components\n",
    "\n",
    "app = Flask(__name__)\n",
    "\n",
    "@app.route('/')\n",
    "def index():\n",
    "    # create a Bokeh plot\n",
    "    p = figure(plot_width=400, plot_height=400)\n",
    "    p.circle([1, 2, 3], [4, 5, 6])\n",
    "\n",
    "    # generate the script and div components to embed the plot\n",
    "    script, div = components(p)\n",
    "\n",
    "    # render the template with the embedded plot components\n",
    "    return render_template('index.html', script=script, div=div)\n",
    "\n",
    "if __name__ == '__main__':\n",
    "    app.run()\n"
   ]
  }
 ],
 "metadata": {
  "kernelspec": {
   "display_name": "Python 3 (ipykernel)",
   "language": "python",
   "name": "python3"
  },
  "language_info": {
   "codemirror_mode": {
    "name": "ipython",
    "version": 3
   },
   "file_extension": ".py",
   "mimetype": "text/x-python",
   "name": "python",
   "nbconvert_exporter": "python",
   "pygments_lexer": "ipython3",
   "version": "3.9.13"
  }
 },
 "nbformat": 4,
 "nbformat_minor": 5
}
