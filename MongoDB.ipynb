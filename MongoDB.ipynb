{
 "cells": [
  {
   "cell_type": "code",
   "execution_count": null,
   "id": "87f3b2ee",
   "metadata": {},
   "outputs": [],
   "source": [
    "Q1. What is MongoDB? Explain non-relational databases in short. In which scenarios it is preferred to use\n",
    "MongoDB over SQL databases?\n"
   ]
  },
  {
   "cell_type": "code",
   "execution_count": null,
   "id": "7be79ae5",
   "metadata": {},
   "outputs": [],
   "source": [
    "MongoDB is an open-source NoSQL document-oriented database that uses a JSON-like format to store data. \n",
    "It was designed to handle large amounts of unstructured or semi-structured data and is ideal for modern \n",
    "applications that require fast, scalable, and dynamic data storage.\n",
    "\n",
    "Non-relational databases, also known as NoSQL databases, are databases that do not use the traditional table-based \n",
    "relational model used by SQL databases. Instead, they use a variety of data models, including document-oriented, key-value, and graph-based models. Non-relational databases are often more flexible and scalable than SQL databases and are used in scenarios where traditional SQL databases are not well-suited.\n",
    "\n",
    "MongoDB is preferred over SQL databases in scenarios where the data being stored is unstructured or semi-structured, \n",
    "such as with social media data, machine data, or IoT data. It is also useful in scenarios where the data schema is likely to change frequently, as MongoDB allows for flexible schema design. Additionally, MongoDB is highly scalable and can handle large amounts of data and high traffic loads, making it ideal for applications with high scalability requirements.\n",
    "\n",
    "Another advantage of MongoDB is its support for distributed databases, which allows it to easily distribute data \n",
    "across multiple servers to handle large workloads. This makes it a good choice for applications with high availability requirements or that need to operate across multiple data centers.\n",
    "\n",
    "In summary, MongoDB is a popular NoSQL database that is well-suited for scenarios where data is unstructured or \n",
    "semi-structured, schema design is flexible, and high scalability is required. It is often preferred over SQL databases in modern application development, especially for applications that handle large amounts of data or require high scalability."
   ]
  },
  {
   "cell_type": "code",
   "execution_count": null,
   "id": "e70b344d",
   "metadata": {},
   "outputs": [],
   "source": []
  },
  {
   "cell_type": "code",
   "execution_count": null,
   "id": "4d233ab8",
   "metadata": {},
   "outputs": [],
   "source": [
    "Q2. State and Explain the features of MongoDB.\n"
   ]
  },
  {
   "cell_type": "code",
   "execution_count": null,
   "id": "230bb909",
   "metadata": {},
   "outputs": [],
   "source": [
    "MongoDB is a popular NoSQL database that offers a wide range of features. Here are some of the key features of MongoDB:\n",
    "\n",
    "Document-oriented: MongoDB uses a document-oriented data model that allows data to be stored in JSON-like documents. \n",
    "    This makes it easy to work with data that is semi-structured or unstructured, as well as to perform complex queries and indexing.\n",
    "\n",
    "Dynamic schema: MongoDB allows for flexible and dynamic schema design, which means that the data structure can change over time without requiring a fixed schema definition. \n",
    "    This allows for greater flexibility and faster development, especially in agile development environments.\n",
    "\n",
    "High scalability: MongoDB is designed to scale horizontally, which means that it can easily handle large amounts of data and high traffic loads by distributing data across multiple servers. This makes it a good choice for applications with high scalability requirements.\n",
    "\n",
    "High availability: MongoDB supports replication and automatic failover, which means that it can provide high availability and ensure that data is always available, even in the event of a server failure.\n",
    "\n",
    "Rich query language: MongoDB offers a powerful and flexible query language that supports a wide range of query operations, \n",
    "    including ad hoc queries, aggregations, and geospatial queries. It also supports indexing, which makes queries faster and more efficient.\n",
    "\n",
    "Support for distributed databases: MongoDB supports sharding, which allows data to be distributed across multiple servers to handle large workloads. This makes it a good choice for applications that need to operate across multiple data centers.\n",
    "\n",
    "Native JSON support: MongoDB uses a JSON-like document format to store data, which means that it can easily integrate with modern web and mobile applications that also use JSON. This allows for faster development and easier data interchange between applications.\n",
    "\n",
    "In summary, MongoDB is a powerful NoSQL database that offers a wide range of features, including document-oriented data model, dynamic schema design, high scalability and availability, rich query language, support for distributed databases, and native JSON support. These features make it a popular choice for modern application development, especially for applications that require flexible schema design and high scalability."
   ]
  },
  {
   "cell_type": "code",
   "execution_count": null,
   "id": "3d2cf4c8",
   "metadata": {},
   "outputs": [],
   "source": [
    "Q3. Write a code to connect MongoDB to Python. Also, create a database and a collection in MongoDB.\n"
   ]
  },
  {
   "cell_type": "code",
   "execution_count": 16,
   "id": "90830628",
   "metadata": {},
   "outputs": [
    {
     "name": "stdout",
     "output_type": "stream",
     "text": [
      "Requirement already satisfied: pymongo in /Users/onkibagde.619gmail.com/opt/anaconda3/lib/python3.9/site-packages (4.3.3)\n",
      "Requirement already satisfied: dnspython<3.0.0,>=1.16.0 in /Users/onkibagde.619gmail.com/opt/anaconda3/lib/python3.9/site-packages (from pymongo) (2.3.0)\n",
      "Note: you may need to restart the kernel to use updated packages.\n"
     ]
    }
   ],
   "source": [
    "pip install pymongo"
   ]
  },
  {
   "cell_type": "code",
   "execution_count": null,
   "id": "44ed4092",
   "metadata": {},
   "outputs": [],
   "source": [
    "import pymongo\n",
    "\n",
    "# Replace the URL with your own MongoDB deployment's URL\n",
    "import pymongo\n",
    "client = pymongo.MongoClient(\"mongodb+srv://onkibagde619:<onkishiv619>@cluster0.cxewbpb.mongodb.net/?retryWrites=true&w=majority\")\n",
    "db = client.test\n",
    "\n",
    "\n",
    "# Create a new database\n",
    "mydb = client[\"mydatabase\"]\n",
    "\n",
    "# Create a new collection within the database\n",
    "mycol = mydb[\"customers\"]\n",
    "\n",
    "# Insert a new document into the collection\n",
    "mydict = { \"name\": \"John\", \"address\": \"Highway 37\" }\n",
    "x = mycol.insert_one(mydict)\n",
    "\n",
    "# Print the ID of the newly inserted document\n",
    "print(x.inserted_id)\n"
   ]
  },
  {
   "cell_type": "code",
   "execution_count": null,
   "id": "102eed79",
   "metadata": {},
   "outputs": [],
   "source": [
    "Q4. Using the database and the collection created in question number 3, write a code to insert one record,\n",
    "and insert many records. Use the find() and find_one() methods to print the inserted record.\n"
   ]
  },
  {
   "cell_type": "code",
   "execution_count": null,
   "id": "02e4f81e",
   "metadata": {},
   "outputs": [],
   "source": [
    "import pymongo\n",
    "\n",
    "# Replace the URL with your own MongoDB deployment's URL\n",
    "client = pymongo.MongoClient(\"mongodb://localhost:27017/\")\n",
    "\n",
    "# Connect to the database and collection\n",
    "mydb = client[\"mydatabase\"]\n",
    "mycol = mydb[\"customers\"]\n",
    "\n",
    "# Insert one record into the collection\n",
    "mydict = { \"name\": \"John\", \"address\": \"Highway 37\" }\n",
    "x = mycol.insert_one(mydict)\n",
    "print(f\"Inserted one record with ID: {x.inserted_id}\")\n",
    "\n",
    "# Insert many records into the collection\n",
    "mylist = [\n",
    "    { \"name\": \"Amy\", \"address\": \"Apple st 652\" },\n",
    "    { \"name\": \"Hannah\", \"address\": \"Mountain 21\" },\n",
    "    { \"name\": \"Michael\", \"address\": \"Valley 345\" },\n",
    "    { \"name\": \"Sandy\", \"address\": \"Ocean blvd 2\" },\n",
    "    { \"name\": \"Betty\", \"address\": \"Green Grass 1\" },\n",
    "    { \"name\": \"Richard\", \"address\": \"Sky st 331\" },\n",
    "    { \"name\": \"Susan\", \"address\": \"One way 98\" },\n",
    "    { \"name\": \"Vicky\", \"address\": \"Yellow Garden 2\" },\n",
    "    { \"name\": \"Ben\", \"address\": \"Park Lane 38\" },\n",
    "    { \"name\": \"William\", \"address\": \"Central st 954\" },\n",
    "    { \"name\": \"Chuck\", \"address\": \"Main Road 989\" },\n",
    "    { \"name\": \"Viola\", \"address\": \"Sideway 1633\" }\n",
    "]\n",
    "x = mycol.insert_many(mylist)\n",
    "print(f\"Inserted {len(x.inserted_ids)} records\")\n",
    "\n",
    "# Print the inserted records using find()\n",
    "for record in mycol.find():\n",
    "    print(record)\n",
    "\n",
    "# Print one inserted record using find_one()\n",
    "print(mycol.find_one({ \"name\": \"John\" }))\n"
   ]
  },
  {
   "cell_type": "code",
   "execution_count": null,
   "id": "d607f0e6",
   "metadata": {},
   "outputs": [],
   "source": [
    "Q5. Explain how you can use the find() method to query the MongoDB database. Write a simple code to\n",
    "demonstrate this.\n"
   ]
  },
  {
   "cell_type": "code",
   "execution_count": null,
   "id": "67e7ac7a",
   "metadata": {},
   "outputs": [],
   "source": [
    "import pymongo\n",
    "\n",
    "# Replace the URL with your own MongoDB deployment's URL\n",
    "import pymongo\n",
    "client = pymongo.MongoClient(\"mongodb+srv://onkibagde619:<onkishiv619>@cluster0.cxewbpb.mongodb.net/?retryWrites=true&w=majority\")\n",
    "db = client.test\n",
    "\n",
    "\n",
    "# Connect to the database and collection\n",
    "mydb = client[\"mydatabase\"]\n",
    "mycol = mydb[\"customers\"]\n",
    "\n",
    "# Find all records in the collection\n",
    "for record in mycol.find():\n",
    "    print(record)\n",
    "\n",
    "# Find records where the name field is \"John\"\n",
    "query = { \"name\": \"John\" }\n",
    "results = mycol.find(query)\n",
    "for record in results:\n",
    "    print(record)\n",
    "\n",
    "# Find records where the address field starts with \"H\"\n",
    "query = { \"address\": { \"$regex\": \"^H\" } }\n",
    "results = mycol.find(query)\n",
    "for record in results:\n",
    "    print(record)\n"
   ]
  },
  {
   "cell_type": "code",
   "execution_count": null,
   "id": "b75b9f5e",
   "metadata": {},
   "outputs": [],
   "source": [
    "Q6. Explain the sort() method. Give an example to demonstrate sorting in MongoDB.\n"
   ]
  },
  {
   "cell_type": "code",
   "execution_count": null,
   "id": "02126322",
   "metadata": {},
   "outputs": [],
   "source": [
    " The sort() method in MongoDB is used to sort the results of a query in ascending or descending order based on a specified field.\n",
    "    It takes one argument, which is a dictionary containing the field to sort on and the direction of the sort.\n",
    "\n"
   ]
  },
  {
   "cell_type": "code",
   "execution_count": null,
   "id": "c45889b9",
   "metadata": {},
   "outputs": [],
   "source": [
    "import pymongo\n",
    "\n",
    "# Replace the URL with your own MongoDB deployment's URL\n",
    "client = pymongo.MongoClient(\"mongodb://localhost:27017/\")\n",
    "\n",
    "# Connect to the database and collection\n",
    "mydb = client[\"mydatabase\"]\n",
    "mycol = mydb[\"customers\"]\n",
    "\n",
    "# Sort the records in descending order by name\n",
    "results = mycol.find().sort(\"name\", -1)\n",
    "for record in results:\n",
    "    print(record)\n"
   ]
  },
  {
   "cell_type": "code",
   "execution_count": null,
   "id": "33f2627a",
   "metadata": {},
   "outputs": [],
   "source": [
    "Q7. Explain why delete_one(), delete_many(), and drop() is used."
   ]
  },
  {
   "cell_type": "code",
   "execution_count": null,
   "id": "c6703bae",
   "metadata": {},
   "outputs": [],
   "source": [
    "delete_one(), delete_many(), and drop() are three methods used in MongoDB for deleting documents from a collection.\n",
    "\n",
    "delete_one(): This method is used to delete a single document that matches a specific filter criteria.\n",
    "    It takes a filter object as a parameter, which specifies the criteria for the document to be deleted. \n",
    "    If multiple documents match the filter criteria, only the first document will be deleted. This method returns a DeleteResult object that contains information about the operation.\n",
    "\n",
    "delete_many(): This method is used to delete multiple documents that match a specific filter criteria. \n",
    "    It takes a filter object as a parameter, which specifies the criteria for the documents to be deleted. \n",
    "    If no documents match the filter criteria, the method returns a DeleteResult object with a deleted count of 0. This method returns a DeleteResult object that contains information about the operation.\n",
    "\n",
    "drop(): This method is used to drop an entire collection from the database. When a collection is dropped,\n",
    "    all documents in the collection are deleted, and the collection is removed from the database. \n",
    "    This method does not take any parameters and returns nothing.\n",
    "\n",
    "These methods are used to remove unwanted data from a MongoDB collection. delete_one() and delete_many() are useful for deleting specific documents that match certain criteria,\n",
    "while drop() is used to completely remove a collection and all its documents. \n",
    "It is important to use these methods with caution as the data deleted cannot be recovered once the operation is complete.\n",
    "\n",
    "\n",
    "\n"
   ]
  },
  {
   "cell_type": "code",
   "execution_count": null,
   "id": "43242e6c",
   "metadata": {},
   "outputs": [],
   "source": []
  },
  {
   "cell_type": "code",
   "execution_count": null,
   "id": "80ae5c0c",
   "metadata": {},
   "outputs": [],
   "source": []
  },
  {
   "cell_type": "code",
   "execution_count": null,
   "id": "4d6815ab",
   "metadata": {},
   "outputs": [],
   "source": []
  }
 ],
 "metadata": {
  "kernelspec": {
   "display_name": "Python 3 (ipykernel)",
   "language": "python",
   "name": "python3"
  },
  "language_info": {
   "codemirror_mode": {
    "name": "ipython",
    "version": 3
   },
   "file_extension": ".py",
   "mimetype": "text/x-python",
   "name": "python",
   "nbconvert_exporter": "python",
   "pygments_lexer": "ipython3",
   "version": "3.9.13"
  }
 },
 "nbformat": 4,
 "nbformat_minor": 5
}
